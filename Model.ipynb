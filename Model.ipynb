{
 "cells": [
  {
   "cell_type": "code",
   "execution_count": 800,
   "id": "2d36d352",
   "metadata": {},
   "outputs": [],
   "source": [
    "import numpy as np\n",
    "import pandas as pd\n",
    "import matplotlib.pyplot as plt\n",
    "import seaborn as sns\n",
    "import pickle\n",
    "\n",
    "from sklearn.model_selection import train_test_split\n",
    "from sklearn.model_selection import cross_validate\n",
    "from sklearn.model_selection import cross_val_score\n",
    "from sklearn.model_selection import cross_val_predict\n",
    "\n",
    "from sklearn.linear_model import LinearRegression\n",
    "from sklearn.dummy import DummyClassifier\n",
    "from sklearn.neighbors import KNeighborsClassifier\n",
    "\n",
    "from sklearn.metrics import accuracy_score, precision_score, recall_score, f1_score, \\\n",
    "    confusion_matrix, classification_report\n",
    "\n",
    "from sklearn.metrics import roc_auc_score, plot_roc_curve, roc_curve\n",
    "from sklearn.metrics import average_precision_score\n",
    "from sklearn.metrics import precision_recall_curve,plot_precision_recall_curve\n",
    "\n",
    "from sklearn.model_selection import learning_curve\n",
    "\n",
    "from statsmodels.stats.outliers_influence import variance_inflation_factor as vif\n",
    "\n",
    "from sklearn.inspection import permutation_importance\n",
    "from sklearn import metrics"
   ]
  },
  {
   "cell_type": "markdown",
   "id": "23128875",
   "metadata": {},
   "source": [
    "# premiers model de regression lineaire"
   ]
  },
  {
   "cell_type": "code",
   "execution_count": 801,
   "id": "a46ebd9f",
   "metadata": {
    "scrolled": true
   },
   "outputs": [
    {
     "data": {
      "text/html": [
       "<div>\n",
       "<style scoped>\n",
       "    .dataframe tbody tr th:only-of-type {\n",
       "        vertical-align: middle;\n",
       "    }\n",
       "\n",
       "    .dataframe tbody tr th {\n",
       "        vertical-align: top;\n",
       "    }\n",
       "\n",
       "    .dataframe thead th {\n",
       "        text-align: right;\n",
       "    }\n",
       "</style>\n",
       "<table border=\"1\" class=\"dataframe\">\n",
       "  <thead>\n",
       "    <tr style=\"text-align: right;\">\n",
       "      <th></th>\n",
       "      <th>index</th>\n",
       "      <th>longitude</th>\n",
       "      <th>latitude</th>\n",
       "      <th>housing_median_age</th>\n",
       "      <th>total_rooms</th>\n",
       "      <th>total_bedrooms</th>\n",
       "      <th>population</th>\n",
       "      <th>households</th>\n",
       "      <th>median_income</th>\n",
       "      <th>median_house_value</th>\n",
       "      <th>ocean_proximity</th>\n",
       "    </tr>\n",
       "  </thead>\n",
       "  <tbody>\n",
       "    <tr>\n",
       "      <th>0</th>\n",
       "      <td>2072</td>\n",
       "      <td>-119.84</td>\n",
       "      <td>36.77</td>\n",
       "      <td>6.0</td>\n",
       "      <td>1853.0</td>\n",
       "      <td>473.0</td>\n",
       "      <td>1397.0</td>\n",
       "      <td>417.0</td>\n",
       "      <td>1.4817</td>\n",
       "      <td>72000.0</td>\n",
       "      <td>INLAND</td>\n",
       "    </tr>\n",
       "    <tr>\n",
       "      <th>1</th>\n",
       "      <td>10600</td>\n",
       "      <td>-117.80</td>\n",
       "      <td>33.68</td>\n",
       "      <td>8.0</td>\n",
       "      <td>2032.0</td>\n",
       "      <td>349.0</td>\n",
       "      <td>862.0</td>\n",
       "      <td>340.0</td>\n",
       "      <td>6.9133</td>\n",
       "      <td>274100.0</td>\n",
       "      <td>&lt;1H OCEAN</td>\n",
       "    </tr>\n",
       "    <tr>\n",
       "      <th>2</th>\n",
       "      <td>2494</td>\n",
       "      <td>-120.19</td>\n",
       "      <td>36.60</td>\n",
       "      <td>25.0</td>\n",
       "      <td>875.0</td>\n",
       "      <td>214.0</td>\n",
       "      <td>931.0</td>\n",
       "      <td>214.0</td>\n",
       "      <td>1.5536</td>\n",
       "      <td>58300.0</td>\n",
       "      <td>INLAND</td>\n",
       "    </tr>\n",
       "    <tr>\n",
       "      <th>3</th>\n",
       "      <td>4284</td>\n",
       "      <td>-118.32</td>\n",
       "      <td>34.10</td>\n",
       "      <td>31.0</td>\n",
       "      <td>622.0</td>\n",
       "      <td>229.0</td>\n",
       "      <td>597.0</td>\n",
       "      <td>227.0</td>\n",
       "      <td>1.5284</td>\n",
       "      <td>200000.0</td>\n",
       "      <td>&lt;1H OCEAN</td>\n",
       "    </tr>\n",
       "    <tr>\n",
       "      <th>4</th>\n",
       "      <td>16541</td>\n",
       "      <td>-121.23</td>\n",
       "      <td>37.79</td>\n",
       "      <td>21.0</td>\n",
       "      <td>1922.0</td>\n",
       "      <td>373.0</td>\n",
       "      <td>1130.0</td>\n",
       "      <td>372.0</td>\n",
       "      <td>4.0815</td>\n",
       "      <td>117900.0</td>\n",
       "      <td>INLAND</td>\n",
       "    </tr>\n",
       "    <tr>\n",
       "      <th>...</th>\n",
       "      <td>...</td>\n",
       "      <td>...</td>\n",
       "      <td>...</td>\n",
       "      <td>...</td>\n",
       "      <td>...</td>\n",
       "      <td>...</td>\n",
       "      <td>...</td>\n",
       "      <td>...</td>\n",
       "      <td>...</td>\n",
       "      <td>...</td>\n",
       "      <td>...</td>\n",
       "    </tr>\n",
       "    <tr>\n",
       "      <th>16507</th>\n",
       "      <td>1099</td>\n",
       "      <td>-121.90</td>\n",
       "      <td>39.59</td>\n",
       "      <td>20.0</td>\n",
       "      <td>1465.0</td>\n",
       "      <td>278.0</td>\n",
       "      <td>745.0</td>\n",
       "      <td>250.0</td>\n",
       "      <td>3.0625</td>\n",
       "      <td>93800.0</td>\n",
       "      <td>INLAND</td>\n",
       "    </tr>\n",
       "    <tr>\n",
       "      <th>16508</th>\n",
       "      <td>18898</td>\n",
       "      <td>-122.25</td>\n",
       "      <td>38.11</td>\n",
       "      <td>49.0</td>\n",
       "      <td>2365.0</td>\n",
       "      <td>504.0</td>\n",
       "      <td>1131.0</td>\n",
       "      <td>458.0</td>\n",
       "      <td>2.6133</td>\n",
       "      <td>103100.0</td>\n",
       "      <td>NEAR BAY</td>\n",
       "    </tr>\n",
       "    <tr>\n",
       "      <th>16509</th>\n",
       "      <td>11798</td>\n",
       "      <td>-121.22</td>\n",
       "      <td>38.92</td>\n",
       "      <td>19.0</td>\n",
       "      <td>2531.0</td>\n",
       "      <td>461.0</td>\n",
       "      <td>1206.0</td>\n",
       "      <td>429.0</td>\n",
       "      <td>4.4958</td>\n",
       "      <td>192600.0</td>\n",
       "      <td>INLAND</td>\n",
       "    </tr>\n",
       "    <tr>\n",
       "      <th>16510</th>\n",
       "      <td>6637</td>\n",
       "      <td>-118.14</td>\n",
       "      <td>34.16</td>\n",
       "      <td>39.0</td>\n",
       "      <td>2776.0</td>\n",
       "      <td>840.0</td>\n",
       "      <td>2546.0</td>\n",
       "      <td>773.0</td>\n",
       "      <td>2.5750</td>\n",
       "      <td>153500.0</td>\n",
       "      <td>&lt;1H OCEAN</td>\n",
       "    </tr>\n",
       "    <tr>\n",
       "      <th>16511</th>\n",
       "      <td>2575</td>\n",
       "      <td>-124.13</td>\n",
       "      <td>40.80</td>\n",
       "      <td>31.0</td>\n",
       "      <td>2152.0</td>\n",
       "      <td>462.0</td>\n",
       "      <td>1259.0</td>\n",
       "      <td>420.0</td>\n",
       "      <td>2.2478</td>\n",
       "      <td>81100.0</td>\n",
       "      <td>NEAR OCEAN</td>\n",
       "    </tr>\n",
       "  </tbody>\n",
       "</table>\n",
       "<p>16512 rows × 11 columns</p>\n",
       "</div>"
      ],
      "text/plain": [
       "       index  longitude  latitude  housing_median_age  total_rooms  \\\n",
       "0       2072    -119.84     36.77                 6.0       1853.0   \n",
       "1      10600    -117.80     33.68                 8.0       2032.0   \n",
       "2       2494    -120.19     36.60                25.0        875.0   \n",
       "3       4284    -118.32     34.10                31.0        622.0   \n",
       "4      16541    -121.23     37.79                21.0       1922.0   \n",
       "...      ...        ...       ...                 ...          ...   \n",
       "16507   1099    -121.90     39.59                20.0       1465.0   \n",
       "16508  18898    -122.25     38.11                49.0       2365.0   \n",
       "16509  11798    -121.22     38.92                19.0       2531.0   \n",
       "16510   6637    -118.14     34.16                39.0       2776.0   \n",
       "16511   2575    -124.13     40.80                31.0       2152.0   \n",
       "\n",
       "       total_bedrooms  population  households  median_income  \\\n",
       "0               473.0      1397.0       417.0         1.4817   \n",
       "1               349.0       862.0       340.0         6.9133   \n",
       "2               214.0       931.0       214.0         1.5536   \n",
       "3               229.0       597.0       227.0         1.5284   \n",
       "4               373.0      1130.0       372.0         4.0815   \n",
       "...               ...         ...         ...            ...   \n",
       "16507           278.0       745.0       250.0         3.0625   \n",
       "16508           504.0      1131.0       458.0         2.6133   \n",
       "16509           461.0      1206.0       429.0         4.4958   \n",
       "16510           840.0      2546.0       773.0         2.5750   \n",
       "16511           462.0      1259.0       420.0         2.2478   \n",
       "\n",
       "       median_house_value ocean_proximity  \n",
       "0                 72000.0          INLAND  \n",
       "1                274100.0       <1H OCEAN  \n",
       "2                 58300.0          INLAND  \n",
       "3                200000.0       <1H OCEAN  \n",
       "4                117900.0          INLAND  \n",
       "...                   ...             ...  \n",
       "16507             93800.0          INLAND  \n",
       "16508            103100.0        NEAR BAY  \n",
       "16509            192600.0          INLAND  \n",
       "16510            153500.0       <1H OCEAN  \n",
       "16511             81100.0      NEAR OCEAN  \n",
       "\n",
       "[16512 rows x 11 columns]"
      ]
     },
     "execution_count": 801,
     "metadata": {},
     "output_type": "execute_result"
    }
   ],
   "source": [
    "immo_df = pd.read_csv(\"base_line.csv\")\n",
    "immo_df"
   ]
  },
  {
   "cell_type": "code",
   "execution_count": 802,
   "id": "c091b2fc",
   "metadata": {},
   "outputs": [],
   "source": [
    "y = immo_df[\"median_house_value\"]\n",
    "X = immo_df.copy()"
   ]
  },
  {
   "cell_type": "code",
   "execution_count": 803,
   "id": "c41b597c",
   "metadata": {},
   "outputs": [
    {
     "data": {
      "text/html": [
       "<div>\n",
       "<style scoped>\n",
       "    .dataframe tbody tr th:only-of-type {\n",
       "        vertical-align: middle;\n",
       "    }\n",
       "\n",
       "    .dataframe tbody tr th {\n",
       "        vertical-align: top;\n",
       "    }\n",
       "\n",
       "    .dataframe thead th {\n",
       "        text-align: right;\n",
       "    }\n",
       "</style>\n",
       "<table border=\"1\" class=\"dataframe\">\n",
       "  <thead>\n",
       "    <tr style=\"text-align: right;\">\n",
       "      <th></th>\n",
       "      <th>index</th>\n",
       "      <th>longitude</th>\n",
       "      <th>latitude</th>\n",
       "      <th>housing_median_age</th>\n",
       "      <th>total_rooms</th>\n",
       "      <th>total_bedrooms</th>\n",
       "      <th>population</th>\n",
       "      <th>households</th>\n",
       "      <th>median_income</th>\n",
       "      <th>ocean_proximity</th>\n",
       "    </tr>\n",
       "  </thead>\n",
       "  <tbody>\n",
       "    <tr>\n",
       "      <th>0</th>\n",
       "      <td>2072</td>\n",
       "      <td>-119.84</td>\n",
       "      <td>36.77</td>\n",
       "      <td>6.0</td>\n",
       "      <td>1853.0</td>\n",
       "      <td>473.0</td>\n",
       "      <td>1397.0</td>\n",
       "      <td>417.0</td>\n",
       "      <td>1.4817</td>\n",
       "      <td>INLAND</td>\n",
       "    </tr>\n",
       "    <tr>\n",
       "      <th>1</th>\n",
       "      <td>10600</td>\n",
       "      <td>-117.80</td>\n",
       "      <td>33.68</td>\n",
       "      <td>8.0</td>\n",
       "      <td>2032.0</td>\n",
       "      <td>349.0</td>\n",
       "      <td>862.0</td>\n",
       "      <td>340.0</td>\n",
       "      <td>6.9133</td>\n",
       "      <td>&lt;1H OCEAN</td>\n",
       "    </tr>\n",
       "    <tr>\n",
       "      <th>2</th>\n",
       "      <td>2494</td>\n",
       "      <td>-120.19</td>\n",
       "      <td>36.60</td>\n",
       "      <td>25.0</td>\n",
       "      <td>875.0</td>\n",
       "      <td>214.0</td>\n",
       "      <td>931.0</td>\n",
       "      <td>214.0</td>\n",
       "      <td>1.5536</td>\n",
       "      <td>INLAND</td>\n",
       "    </tr>\n",
       "    <tr>\n",
       "      <th>3</th>\n",
       "      <td>4284</td>\n",
       "      <td>-118.32</td>\n",
       "      <td>34.10</td>\n",
       "      <td>31.0</td>\n",
       "      <td>622.0</td>\n",
       "      <td>229.0</td>\n",
       "      <td>597.0</td>\n",
       "      <td>227.0</td>\n",
       "      <td>1.5284</td>\n",
       "      <td>&lt;1H OCEAN</td>\n",
       "    </tr>\n",
       "    <tr>\n",
       "      <th>4</th>\n",
       "      <td>16541</td>\n",
       "      <td>-121.23</td>\n",
       "      <td>37.79</td>\n",
       "      <td>21.0</td>\n",
       "      <td>1922.0</td>\n",
       "      <td>373.0</td>\n",
       "      <td>1130.0</td>\n",
       "      <td>372.0</td>\n",
       "      <td>4.0815</td>\n",
       "      <td>INLAND</td>\n",
       "    </tr>\n",
       "    <tr>\n",
       "      <th>...</th>\n",
       "      <td>...</td>\n",
       "      <td>...</td>\n",
       "      <td>...</td>\n",
       "      <td>...</td>\n",
       "      <td>...</td>\n",
       "      <td>...</td>\n",
       "      <td>...</td>\n",
       "      <td>...</td>\n",
       "      <td>...</td>\n",
       "      <td>...</td>\n",
       "    </tr>\n",
       "    <tr>\n",
       "      <th>16507</th>\n",
       "      <td>1099</td>\n",
       "      <td>-121.90</td>\n",
       "      <td>39.59</td>\n",
       "      <td>20.0</td>\n",
       "      <td>1465.0</td>\n",
       "      <td>278.0</td>\n",
       "      <td>745.0</td>\n",
       "      <td>250.0</td>\n",
       "      <td>3.0625</td>\n",
       "      <td>INLAND</td>\n",
       "    </tr>\n",
       "    <tr>\n",
       "      <th>16508</th>\n",
       "      <td>18898</td>\n",
       "      <td>-122.25</td>\n",
       "      <td>38.11</td>\n",
       "      <td>49.0</td>\n",
       "      <td>2365.0</td>\n",
       "      <td>504.0</td>\n",
       "      <td>1131.0</td>\n",
       "      <td>458.0</td>\n",
       "      <td>2.6133</td>\n",
       "      <td>NEAR BAY</td>\n",
       "    </tr>\n",
       "    <tr>\n",
       "      <th>16509</th>\n",
       "      <td>11798</td>\n",
       "      <td>-121.22</td>\n",
       "      <td>38.92</td>\n",
       "      <td>19.0</td>\n",
       "      <td>2531.0</td>\n",
       "      <td>461.0</td>\n",
       "      <td>1206.0</td>\n",
       "      <td>429.0</td>\n",
       "      <td>4.4958</td>\n",
       "      <td>INLAND</td>\n",
       "    </tr>\n",
       "    <tr>\n",
       "      <th>16510</th>\n",
       "      <td>6637</td>\n",
       "      <td>-118.14</td>\n",
       "      <td>34.16</td>\n",
       "      <td>39.0</td>\n",
       "      <td>2776.0</td>\n",
       "      <td>840.0</td>\n",
       "      <td>2546.0</td>\n",
       "      <td>773.0</td>\n",
       "      <td>2.5750</td>\n",
       "      <td>&lt;1H OCEAN</td>\n",
       "    </tr>\n",
       "    <tr>\n",
       "      <th>16511</th>\n",
       "      <td>2575</td>\n",
       "      <td>-124.13</td>\n",
       "      <td>40.80</td>\n",
       "      <td>31.0</td>\n",
       "      <td>2152.0</td>\n",
       "      <td>462.0</td>\n",
       "      <td>1259.0</td>\n",
       "      <td>420.0</td>\n",
       "      <td>2.2478</td>\n",
       "      <td>NEAR OCEAN</td>\n",
       "    </tr>\n",
       "  </tbody>\n",
       "</table>\n",
       "<p>16512 rows × 10 columns</p>\n",
       "</div>"
      ],
      "text/plain": [
       "       index  longitude  latitude  housing_median_age  total_rooms  \\\n",
       "0       2072    -119.84     36.77                 6.0       1853.0   \n",
       "1      10600    -117.80     33.68                 8.0       2032.0   \n",
       "2       2494    -120.19     36.60                25.0        875.0   \n",
       "3       4284    -118.32     34.10                31.0        622.0   \n",
       "4      16541    -121.23     37.79                21.0       1922.0   \n",
       "...      ...        ...       ...                 ...          ...   \n",
       "16507   1099    -121.90     39.59                20.0       1465.0   \n",
       "16508  18898    -122.25     38.11                49.0       2365.0   \n",
       "16509  11798    -121.22     38.92                19.0       2531.0   \n",
       "16510   6637    -118.14     34.16                39.0       2776.0   \n",
       "16511   2575    -124.13     40.80                31.0       2152.0   \n",
       "\n",
       "       total_bedrooms  population  households  median_income ocean_proximity  \n",
       "0               473.0      1397.0       417.0         1.4817          INLAND  \n",
       "1               349.0       862.0       340.0         6.9133       <1H OCEAN  \n",
       "2               214.0       931.0       214.0         1.5536          INLAND  \n",
       "3               229.0       597.0       227.0         1.5284       <1H OCEAN  \n",
       "4               373.0      1130.0       372.0         4.0815          INLAND  \n",
       "...               ...         ...         ...            ...             ...  \n",
       "16507           278.0       745.0       250.0         3.0625          INLAND  \n",
       "16508           504.0      1131.0       458.0         2.6133        NEAR BAY  \n",
       "16509           461.0      1206.0       429.0         4.4958          INLAND  \n",
       "16510           840.0      2546.0       773.0         2.5750       <1H OCEAN  \n",
       "16511           462.0      1259.0       420.0         2.2478      NEAR OCEAN  \n",
       "\n",
       "[16512 rows x 10 columns]"
      ]
     },
     "execution_count": 803,
     "metadata": {},
     "output_type": "execute_result"
    }
   ],
   "source": [
    "X= X.drop(\"median_house_value\", axis=1)\n",
    "X"
   ]
  },
  {
   "cell_type": "code",
   "execution_count": 804,
   "id": "82da4126",
   "metadata": {},
   "outputs": [
    {
     "data": {
      "text/html": [
       "<div>\n",
       "<style scoped>\n",
       "    .dataframe tbody tr th:only-of-type {\n",
       "        vertical-align: middle;\n",
       "    }\n",
       "\n",
       "    .dataframe tbody tr th {\n",
       "        vertical-align: top;\n",
       "    }\n",
       "\n",
       "    .dataframe thead th {\n",
       "        text-align: right;\n",
       "    }\n",
       "</style>\n",
       "<table border=\"1\" class=\"dataframe\">\n",
       "  <thead>\n",
       "    <tr style=\"text-align: right;\">\n",
       "      <th></th>\n",
       "      <th>index</th>\n",
       "      <th>longitude</th>\n",
       "      <th>latitude</th>\n",
       "      <th>housing_median_age</th>\n",
       "      <th>total_rooms</th>\n",
       "      <th>total_bedrooms</th>\n",
       "      <th>population</th>\n",
       "      <th>households</th>\n",
       "      <th>median_income</th>\n",
       "    </tr>\n",
       "  </thead>\n",
       "  <tbody>\n",
       "    <tr>\n",
       "      <th>0</th>\n",
       "      <td>2072</td>\n",
       "      <td>-119.84</td>\n",
       "      <td>36.77</td>\n",
       "      <td>6.0</td>\n",
       "      <td>1853.0</td>\n",
       "      <td>473.0</td>\n",
       "      <td>1397.0</td>\n",
       "      <td>417.0</td>\n",
       "      <td>1.4817</td>\n",
       "    </tr>\n",
       "    <tr>\n",
       "      <th>1</th>\n",
       "      <td>10600</td>\n",
       "      <td>-117.80</td>\n",
       "      <td>33.68</td>\n",
       "      <td>8.0</td>\n",
       "      <td>2032.0</td>\n",
       "      <td>349.0</td>\n",
       "      <td>862.0</td>\n",
       "      <td>340.0</td>\n",
       "      <td>6.9133</td>\n",
       "    </tr>\n",
       "    <tr>\n",
       "      <th>2</th>\n",
       "      <td>2494</td>\n",
       "      <td>-120.19</td>\n",
       "      <td>36.60</td>\n",
       "      <td>25.0</td>\n",
       "      <td>875.0</td>\n",
       "      <td>214.0</td>\n",
       "      <td>931.0</td>\n",
       "      <td>214.0</td>\n",
       "      <td>1.5536</td>\n",
       "    </tr>\n",
       "    <tr>\n",
       "      <th>3</th>\n",
       "      <td>4284</td>\n",
       "      <td>-118.32</td>\n",
       "      <td>34.10</td>\n",
       "      <td>31.0</td>\n",
       "      <td>622.0</td>\n",
       "      <td>229.0</td>\n",
       "      <td>597.0</td>\n",
       "      <td>227.0</td>\n",
       "      <td>1.5284</td>\n",
       "    </tr>\n",
       "    <tr>\n",
       "      <th>4</th>\n",
       "      <td>16541</td>\n",
       "      <td>-121.23</td>\n",
       "      <td>37.79</td>\n",
       "      <td>21.0</td>\n",
       "      <td>1922.0</td>\n",
       "      <td>373.0</td>\n",
       "      <td>1130.0</td>\n",
       "      <td>372.0</td>\n",
       "      <td>4.0815</td>\n",
       "    </tr>\n",
       "    <tr>\n",
       "      <th>...</th>\n",
       "      <td>...</td>\n",
       "      <td>...</td>\n",
       "      <td>...</td>\n",
       "      <td>...</td>\n",
       "      <td>...</td>\n",
       "      <td>...</td>\n",
       "      <td>...</td>\n",
       "      <td>...</td>\n",
       "      <td>...</td>\n",
       "    </tr>\n",
       "    <tr>\n",
       "      <th>16507</th>\n",
       "      <td>1099</td>\n",
       "      <td>-121.90</td>\n",
       "      <td>39.59</td>\n",
       "      <td>20.0</td>\n",
       "      <td>1465.0</td>\n",
       "      <td>278.0</td>\n",
       "      <td>745.0</td>\n",
       "      <td>250.0</td>\n",
       "      <td>3.0625</td>\n",
       "    </tr>\n",
       "    <tr>\n",
       "      <th>16508</th>\n",
       "      <td>18898</td>\n",
       "      <td>-122.25</td>\n",
       "      <td>38.11</td>\n",
       "      <td>49.0</td>\n",
       "      <td>2365.0</td>\n",
       "      <td>504.0</td>\n",
       "      <td>1131.0</td>\n",
       "      <td>458.0</td>\n",
       "      <td>2.6133</td>\n",
       "    </tr>\n",
       "    <tr>\n",
       "      <th>16509</th>\n",
       "      <td>11798</td>\n",
       "      <td>-121.22</td>\n",
       "      <td>38.92</td>\n",
       "      <td>19.0</td>\n",
       "      <td>2531.0</td>\n",
       "      <td>461.0</td>\n",
       "      <td>1206.0</td>\n",
       "      <td>429.0</td>\n",
       "      <td>4.4958</td>\n",
       "    </tr>\n",
       "    <tr>\n",
       "      <th>16510</th>\n",
       "      <td>6637</td>\n",
       "      <td>-118.14</td>\n",
       "      <td>34.16</td>\n",
       "      <td>39.0</td>\n",
       "      <td>2776.0</td>\n",
       "      <td>840.0</td>\n",
       "      <td>2546.0</td>\n",
       "      <td>773.0</td>\n",
       "      <td>2.5750</td>\n",
       "    </tr>\n",
       "    <tr>\n",
       "      <th>16511</th>\n",
       "      <td>2575</td>\n",
       "      <td>-124.13</td>\n",
       "      <td>40.80</td>\n",
       "      <td>31.0</td>\n",
       "      <td>2152.0</td>\n",
       "      <td>462.0</td>\n",
       "      <td>1259.0</td>\n",
       "      <td>420.0</td>\n",
       "      <td>2.2478</td>\n",
       "    </tr>\n",
       "  </tbody>\n",
       "</table>\n",
       "<p>16512 rows × 9 columns</p>\n",
       "</div>"
      ],
      "text/plain": [
       "       index  longitude  latitude  housing_median_age  total_rooms  \\\n",
       "0       2072    -119.84     36.77                 6.0       1853.0   \n",
       "1      10600    -117.80     33.68                 8.0       2032.0   \n",
       "2       2494    -120.19     36.60                25.0        875.0   \n",
       "3       4284    -118.32     34.10                31.0        622.0   \n",
       "4      16541    -121.23     37.79                21.0       1922.0   \n",
       "...      ...        ...       ...                 ...          ...   \n",
       "16507   1099    -121.90     39.59                20.0       1465.0   \n",
       "16508  18898    -122.25     38.11                49.0       2365.0   \n",
       "16509  11798    -121.22     38.92                19.0       2531.0   \n",
       "16510   6637    -118.14     34.16                39.0       2776.0   \n",
       "16511   2575    -124.13     40.80                31.0       2152.0   \n",
       "\n",
       "       total_bedrooms  population  households  median_income  \n",
       "0               473.0      1397.0       417.0         1.4817  \n",
       "1               349.0       862.0       340.0         6.9133  \n",
       "2               214.0       931.0       214.0         1.5536  \n",
       "3               229.0       597.0       227.0         1.5284  \n",
       "4               373.0      1130.0       372.0         4.0815  \n",
       "...               ...         ...         ...            ...  \n",
       "16507           278.0       745.0       250.0         3.0625  \n",
       "16508           504.0      1131.0       458.0         2.6133  \n",
       "16509           461.0      1206.0       429.0         4.4958  \n",
       "16510           840.0      2546.0       773.0         2.5750  \n",
       "16511           462.0      1259.0       420.0         2.2478  \n",
       "\n",
       "[16512 rows x 9 columns]"
      ]
     },
     "execution_count": 804,
     "metadata": {},
     "output_type": "execute_result"
    }
   ],
   "source": [
    "X= X.drop(\"ocean_proximity\", axis=1)\n",
    "X"
   ]
  },
  {
   "cell_type": "markdown",
   "id": "92dee795",
   "metadata": {},
   "source": [
    "## dummy model"
   ]
  },
  {
   "cell_type": "code",
   "execution_count": 805,
   "id": "73ecf5d1",
   "metadata": {},
   "outputs": [
    {
     "data": {
      "text/plain": [
       "'# instantiate Dummy classifier\\ndummy_clf = DummyClassifier(strategy=\"most_frequent\")\\n\\n# fit the modem\\ndummy_clf.fit(X, y)\\n\\n# calculate the score\\ndummy_clf.score(X, y)'"
      ]
     },
     "execution_count": 805,
     "metadata": {},
     "output_type": "execute_result"
    }
   ],
   "source": [
    "'''# instantiate Dummy classifier\n",
    "dummy_clf = DummyClassifier(strategy=\"most_frequent\")\n",
    "\n",
    "# fit the modem\n",
    "dummy_clf.fit(X, y)\n",
    "\n",
    "# calculate the score\n",
    "dummy_clf.score(X, y)'''"
   ]
  },
  {
   "cell_type": "code",
   "execution_count": 806,
   "id": "a7392df1",
   "metadata": {},
   "outputs": [
    {
     "data": {
      "text/plain": [
       "'# Splitting the data\\nX_train, X_test, y_train, y_test = train_test_split(X, y, \\n                                                    test_size=.3, \\n                                                    random_state=1)'"
      ]
     },
     "execution_count": 806,
     "metadata": {},
     "output_type": "execute_result"
    }
   ],
   "source": [
    "'''# Splitting the data\n",
    "X_train, X_test, y_train, y_test = train_test_split(X, y, \n",
    "                                                    test_size=.3, \n",
    "                                                    random_state=1)'''"
   ]
  },
  {
   "cell_type": "code",
   "execution_count": 807,
   "id": "3bcc2c6d",
   "metadata": {},
   "outputs": [
    {
     "data": {
      "text/plain": [
       "'dummy_clf = DummyClassifier(strategy=\"most_frequent\")\\n\\n# fit the modem\\ndummy_clf.fit(X_train, y_train)\\n\\n# calculate the score\\ndummy_clf.score(X_test, y_test)'"
      ]
     },
     "execution_count": 807,
     "metadata": {},
     "output_type": "execute_result"
    }
   ],
   "source": [
    "'''dummy_clf = DummyClassifier(strategy=\"most_frequent\")\n",
    "\n",
    "# fit the modem\n",
    "dummy_clf.fit(X_train, y_train)\n",
    "\n",
    "# calculate the score\n",
    "dummy_clf.score(X_test, y_test)'''"
   ]
  },
  {
   "cell_type": "code",
   "execution_count": 808,
   "id": "928e8ed1",
   "metadata": {},
   "outputs": [
    {
     "data": {
      "text/plain": [
       "'# Splitting the data\\nX3_train, X3_test, y3_train, y3_test = train_test_split(X, y, \\n                                                    test_size=.3, \\n                                                    random_state=4)\\n\\ndummy_clf3 = DummyClassifier(strategy=\"most_frequent\")\\n\\n# fit the modem\\ndummy_clf3.fit(X3_train, y3_train)\\n\\n# calculate the score\\ndummy_clf3.score(X3_test, y3_test)'"
      ]
     },
     "execution_count": 808,
     "metadata": {},
     "output_type": "execute_result"
    }
   ],
   "source": [
    "'''# Splitting the data\n",
    "X3_train, X3_test, y3_train, y3_test = train_test_split(X, y, \n",
    "                                                    test_size=.3, \n",
    "                                                    random_state=4)\n",
    "\n",
    "dummy_clf3 = DummyClassifier(strategy=\"most_frequent\")\n",
    "\n",
    "# fit the modem\n",
    "dummy_clf3.fit(X3_train, y3_train)\n",
    "\n",
    "# calculate the score\n",
    "dummy_clf3.score(X3_test, y3_test)'''"
   ]
  },
  {
   "cell_type": "code",
   "execution_count": 809,
   "id": "bf8f5654",
   "metadata": {},
   "outputs": [
    {
     "data": {
      "text/plain": [
       "'# Splitting the data\\nX2_train, X2_test, y2_train, y2_test = train_test_split(X, y, \\n                                                    test_size=.3, \\n                                                    random_state=5)\\n\\ndummy_clf2 = DummyClassifier(strategy=\"most_frequent\")\\n\\n# fit the modem\\ndummy_clf2.fit(X2_train, y2_train)\\n\\n# calculate the score\\ndummy_clf2.score(X2_test, y2_test)'"
      ]
     },
     "execution_count": 809,
     "metadata": {},
     "output_type": "execute_result"
    }
   ],
   "source": [
    "'''# Splitting the data\n",
    "X2_train, X2_test, y2_train, y2_test = train_test_split(X, y, \n",
    "                                                    test_size=.3, \n",
    "                                                    random_state=5)\n",
    "\n",
    "dummy_clf2 = DummyClassifier(strategy=\"most_frequent\")\n",
    "\n",
    "# fit the modem\n",
    "dummy_clf2.fit(X2_train, y2_train)\n",
    "\n",
    "# calculate the score\n",
    "dummy_clf2.score(X2_test, y2_test)'''"
   ]
  },
  {
   "cell_type": "markdown",
   "id": "90d114a6",
   "metadata": {},
   "source": [
    "## dummy model cross_validate"
   ]
  },
  {
   "cell_type": "code",
   "execution_count": 810,
   "id": "dbb26514",
   "metadata": {},
   "outputs": [
    {
     "data": {
      "text/plain": [
       "'# Instanciate model\\ndummy_clf_c = DummyClassifier(strategy=\"most_frequent\")\\n\\n# 5-Fold Cross validate model\\ncv_results = cross_validate(dummy_clf_c, X, y, cv=5)\\n\\n# obtain the mean of scores\\ncv_results[\\'test_score\\'].mean()'"
      ]
     },
     "execution_count": 810,
     "metadata": {},
     "output_type": "execute_result"
    }
   ],
   "source": [
    "'''# Instanciate model\n",
    "dummy_clf_c = DummyClassifier(strategy=\"most_frequent\")\n",
    "\n",
    "# 5-Fold Cross validate model\n",
    "cv_results = cross_validate(dummy_clf_c, X, y, cv=5)\n",
    "\n",
    "# obtain the mean of scores\n",
    "cv_results['test_score'].mean()'''"
   ]
  },
  {
   "cell_type": "markdown",
   "id": "9bf1b671",
   "metadata": {},
   "source": [
    "Le dummy modele resultat nul "
   ]
  },
  {
   "cell_type": "markdown",
   "id": "e26c80d3",
   "metadata": {},
   "source": [
    "## LinearRegression\n"
   ]
  },
  {
   "cell_type": "code",
   "execution_count": 811,
   "id": "7e9ab475",
   "metadata": {},
   "outputs": [
    {
     "data": {
      "text/plain": [
       "'# Splitting the data\\nX4_train, X4_test, y4_train, y4_test = train_test_split(X, y, test_size=.3, random_state=1)\\n\\n# Choose your model\\nmodel = LinearRegression()\\n\\n# Fit the model with the train set\\nmodel.fit(X4_train, y4_train)\\n\\n# Evaluate the model with the test set\\nmodel.score(X4_test, y4_test)'"
      ]
     },
     "execution_count": 811,
     "metadata": {},
     "output_type": "execute_result"
    }
   ],
   "source": [
    "'''# Splitting the data\n",
    "X4_train, X4_test, y4_train, y4_test = train_test_split(X, y, test_size=.3, random_state=1)\n",
    "\n",
    "# Choose your model\n",
    "model = LinearRegression()\n",
    "\n",
    "# Fit the model with the train set\n",
    "model.fit(X4_train, y4_train)\n",
    "\n",
    "# Evaluate the model with the test set\n",
    "model.score(X4_test, y4_test)'''\n"
   ]
  },
  {
   "cell_type": "code",
   "execution_count": 812,
   "id": "f8705e2c",
   "metadata": {},
   "outputs": [
    {
     "data": {
      "text/plain": [
       "'y_predicted = model.predict(X4_test)'"
      ]
     },
     "execution_count": 812,
     "metadata": {},
     "output_type": "execute_result"
    }
   ],
   "source": [
    "'''y_predicted = model.predict(X4_test)'''"
   ]
  },
  {
   "cell_type": "code",
   "execution_count": 813,
   "id": "d4576c37",
   "metadata": {},
   "outputs": [
    {
     "data": {
      "text/plain": [
       "\"fig, ax = plt.subplots()\\nax.scatter(y_predicted, y4_test, edgecolors=(0, 0, 1))\\nax.plot([y4_test.min(), y4_test.max()], [y4_test.min(), y4_test.max()], 'r--', lw=3)\\nax.set_xlabel('Predicted')\\nax.set_ylabel('Actual')\\nplt.show()\""
      ]
     },
     "execution_count": 813,
     "metadata": {},
     "output_type": "execute_result"
    }
   ],
   "source": [
    "'''fig, ax = plt.subplots()\n",
    "ax.scatter(y_predicted, y4_test, edgecolors=(0, 0, 1))\n",
    "ax.plot([y4_test.min(), y4_test.max()], [y4_test.min(), y4_test.max()], 'r--', lw=3)\n",
    "ax.set_xlabel('Predicted')\n",
    "ax.set_ylabel('Actual')\n",
    "plt.show()'''"
   ]
  },
  {
   "cell_type": "code",
   "execution_count": 814,
   "id": "b673bbfe",
   "metadata": {},
   "outputs": [
    {
     "data": {
      "text/plain": [
       "'# model evaluation for testing set\\n\\nmae = metrics.mean_absolute_error(y4_test, y_predicted)\\nrmse = np.sqrt(metrics.mean_squared_error(y4_test, y_predicted))\\nr2 = metrics.r2_score(y4_test, y_predicted)\\n\\nprint(\"The model performance for testing set\")\\nprint(\"--------------------------------------\")\\nprint(\\'MAE is {}\\'.format(mae))\\nprint(\\'RMSE is {}\\'.format(rmse))\\nprint(\\'R2 score is {}\\'.format(r2))'"
      ]
     },
     "execution_count": 814,
     "metadata": {},
     "output_type": "execute_result"
    }
   ],
   "source": [
    "'''# model evaluation for testing set\n",
    "\n",
    "mae = metrics.mean_absolute_error(y4_test, y_predicted)\n",
    "rmse = np.sqrt(metrics.mean_squared_error(y4_test, y_predicted))\n",
    "r2 = metrics.r2_score(y4_test, y_predicted)\n",
    "\n",
    "print(\"The model performance for testing set\")\n",
    "print(\"--------------------------------------\")\n",
    "print('MAE is {}'.format(mae))\n",
    "print('RMSE is {}'.format(rmse))\n",
    "print('R2 score is {}'.format(r2))'''"
   ]
  },
  {
   "cell_type": "markdown",
   "id": "8360bb6b",
   "metadata": {},
   "source": [
    "## Cross validation"
   ]
  },
  {
   "cell_type": "code",
   "execution_count": 815,
   "id": "68801623",
   "metadata": {},
   "outputs": [
    {
     "data": {
      "text/plain": [
       "'scores = cross_validate(model, X, y, cv=5, scoring=(\\'r2\\', \\'neg_root_mean_squared_error\\',\\'neg_mean_absolute_error\\'))\\n\\naverage_r2 = scores[\\'test_r2\\'].mean()\\naverage_rmse = -scores[\\'test_neg_root_mean_squared_error\\'].mean()\\naverage_mae = -scores[\\'test_neg_mean_absolute_error\\'].mean()\\nprint(\"The model performance for testing set\")\\nprint(\"--------------------------------------\")\\nprint(\\'Average MAE:\\', average_mae)\\nprint(\\'Average RMSE: \\', average_rmse)\\nprint(\"Average R2: \", average_r2)\\n'"
      ]
     },
     "execution_count": 815,
     "metadata": {},
     "output_type": "execute_result"
    }
   ],
   "source": [
    "'''scores = cross_validate(model, X, y, cv=5, scoring=('r2', 'neg_root_mean_squared_error','neg_mean_absolute_error'))\n",
    "\n",
    "average_r2 = scores['test_r2'].mean()\n",
    "average_rmse = -scores['test_neg_root_mean_squared_error'].mean()\n",
    "average_mae = -scores['test_neg_mean_absolute_error'].mean()\n",
    "print(\"The model performance for testing set\")\n",
    "print(\"--------------------------------------\")\n",
    "print('Average MAE:', average_mae)\n",
    "print('Average RMSE: ', average_rmse)\n",
    "print(\"Average R2: \", average_r2)\n",
    "'''"
   ]
  },
  {
   "cell_type": "markdown",
   "id": "731e89d6",
   "metadata": {},
   "source": [
    "MAE, MSE doit etre faible, r2 doit etre proche de 1"
   ]
  },
  {
   "cell_type": "markdown",
   "id": "ff8269a5",
   "metadata": {},
   "source": [
    "# second model de regression lineaire"
   ]
  },
  {
   "cell_type": "code",
   "execution_count": 816,
   "id": "a3c53750",
   "metadata": {
    "scrolled": true
   },
   "outputs": [
    {
     "data": {
      "text/html": [
       "<div>\n",
       "<style scoped>\n",
       "    .dataframe tbody tr th:only-of-type {\n",
       "        vertical-align: middle;\n",
       "    }\n",
       "\n",
       "    .dataframe tbody tr th {\n",
       "        vertical-align: top;\n",
       "    }\n",
       "\n",
       "    .dataframe thead th {\n",
       "        text-align: right;\n",
       "    }\n",
       "</style>\n",
       "<table border=\"1\" class=\"dataframe\">\n",
       "  <thead>\n",
       "    <tr style=\"text-align: right;\">\n",
       "      <th></th>\n",
       "      <th>index</th>\n",
       "      <th>longitude</th>\n",
       "      <th>latitude</th>\n",
       "      <th>housing_median_age</th>\n",
       "      <th>total_rooms</th>\n",
       "      <th>total_bedrooms</th>\n",
       "      <th>population</th>\n",
       "      <th>households</th>\n",
       "      <th>median_income</th>\n",
       "      <th>median_house_value</th>\n",
       "      <th>ocean_proximity</th>\n",
       "      <th>localisation</th>\n",
       "    </tr>\n",
       "  </thead>\n",
       "  <tbody>\n",
       "    <tr>\n",
       "      <th>0</th>\n",
       "      <td>2072</td>\n",
       "      <td>-119.84</td>\n",
       "      <td>36.77</td>\n",
       "      <td>6.0</td>\n",
       "      <td>1853.0</td>\n",
       "      <td>473.0</td>\n",
       "      <td>1397.0</td>\n",
       "      <td>417.0</td>\n",
       "      <td>1.4817</td>\n",
       "      <td>72000.0</td>\n",
       "      <td>INLAND</td>\n",
       "      <td>4</td>\n",
       "    </tr>\n",
       "    <tr>\n",
       "      <th>1</th>\n",
       "      <td>10600</td>\n",
       "      <td>-117.80</td>\n",
       "      <td>33.68</td>\n",
       "      <td>8.0</td>\n",
       "      <td>2032.0</td>\n",
       "      <td>349.0</td>\n",
       "      <td>862.0</td>\n",
       "      <td>340.0</td>\n",
       "      <td>6.9133</td>\n",
       "      <td>274100.0</td>\n",
       "      <td>&lt;1H OCEAN</td>\n",
       "      <td>3</td>\n",
       "    </tr>\n",
       "    <tr>\n",
       "      <th>2</th>\n",
       "      <td>2494</td>\n",
       "      <td>-120.19</td>\n",
       "      <td>36.60</td>\n",
       "      <td>25.0</td>\n",
       "      <td>875.0</td>\n",
       "      <td>214.0</td>\n",
       "      <td>931.0</td>\n",
       "      <td>214.0</td>\n",
       "      <td>1.5536</td>\n",
       "      <td>58300.0</td>\n",
       "      <td>INLAND</td>\n",
       "      <td>4</td>\n",
       "    </tr>\n",
       "    <tr>\n",
       "      <th>3</th>\n",
       "      <td>4284</td>\n",
       "      <td>-118.32</td>\n",
       "      <td>34.10</td>\n",
       "      <td>31.0</td>\n",
       "      <td>622.0</td>\n",
       "      <td>229.0</td>\n",
       "      <td>597.0</td>\n",
       "      <td>227.0</td>\n",
       "      <td>1.5284</td>\n",
       "      <td>200000.0</td>\n",
       "      <td>&lt;1H OCEAN</td>\n",
       "      <td>3</td>\n",
       "    </tr>\n",
       "    <tr>\n",
       "      <th>4</th>\n",
       "      <td>16541</td>\n",
       "      <td>-121.23</td>\n",
       "      <td>37.79</td>\n",
       "      <td>21.0</td>\n",
       "      <td>1922.0</td>\n",
       "      <td>373.0</td>\n",
       "      <td>1130.0</td>\n",
       "      <td>372.0</td>\n",
       "      <td>4.0815</td>\n",
       "      <td>117900.0</td>\n",
       "      <td>INLAND</td>\n",
       "      <td>4</td>\n",
       "    </tr>\n",
       "    <tr>\n",
       "      <th>...</th>\n",
       "      <td>...</td>\n",
       "      <td>...</td>\n",
       "      <td>...</td>\n",
       "      <td>...</td>\n",
       "      <td>...</td>\n",
       "      <td>...</td>\n",
       "      <td>...</td>\n",
       "      <td>...</td>\n",
       "      <td>...</td>\n",
       "      <td>...</td>\n",
       "      <td>...</td>\n",
       "      <td>...</td>\n",
       "    </tr>\n",
       "    <tr>\n",
       "      <th>16507</th>\n",
       "      <td>1099</td>\n",
       "      <td>-121.90</td>\n",
       "      <td>39.59</td>\n",
       "      <td>20.0</td>\n",
       "      <td>1465.0</td>\n",
       "      <td>278.0</td>\n",
       "      <td>745.0</td>\n",
       "      <td>250.0</td>\n",
       "      <td>3.0625</td>\n",
       "      <td>93800.0</td>\n",
       "      <td>INLAND</td>\n",
       "      <td>4</td>\n",
       "    </tr>\n",
       "    <tr>\n",
       "      <th>16508</th>\n",
       "      <td>18898</td>\n",
       "      <td>-122.25</td>\n",
       "      <td>38.11</td>\n",
       "      <td>49.0</td>\n",
       "      <td>2365.0</td>\n",
       "      <td>504.0</td>\n",
       "      <td>1131.0</td>\n",
       "      <td>458.0</td>\n",
       "      <td>2.6133</td>\n",
       "      <td>103100.0</td>\n",
       "      <td>NEAR BAY</td>\n",
       "      <td>2</td>\n",
       "    </tr>\n",
       "    <tr>\n",
       "      <th>16509</th>\n",
       "      <td>11798</td>\n",
       "      <td>-121.22</td>\n",
       "      <td>38.92</td>\n",
       "      <td>19.0</td>\n",
       "      <td>2531.0</td>\n",
       "      <td>461.0</td>\n",
       "      <td>1206.0</td>\n",
       "      <td>429.0</td>\n",
       "      <td>4.4958</td>\n",
       "      <td>192600.0</td>\n",
       "      <td>INLAND</td>\n",
       "      <td>4</td>\n",
       "    </tr>\n",
       "    <tr>\n",
       "      <th>16510</th>\n",
       "      <td>6637</td>\n",
       "      <td>-118.14</td>\n",
       "      <td>34.16</td>\n",
       "      <td>39.0</td>\n",
       "      <td>2776.0</td>\n",
       "      <td>840.0</td>\n",
       "      <td>2546.0</td>\n",
       "      <td>773.0</td>\n",
       "      <td>2.5750</td>\n",
       "      <td>153500.0</td>\n",
       "      <td>&lt;1H OCEAN</td>\n",
       "      <td>3</td>\n",
       "    </tr>\n",
       "    <tr>\n",
       "      <th>16511</th>\n",
       "      <td>2575</td>\n",
       "      <td>-124.13</td>\n",
       "      <td>40.80</td>\n",
       "      <td>31.0</td>\n",
       "      <td>2152.0</td>\n",
       "      <td>462.0</td>\n",
       "      <td>1259.0</td>\n",
       "      <td>420.0</td>\n",
       "      <td>2.2478</td>\n",
       "      <td>81100.0</td>\n",
       "      <td>NEAR OCEAN</td>\n",
       "      <td>1</td>\n",
       "    </tr>\n",
       "  </tbody>\n",
       "</table>\n",
       "<p>16512 rows × 12 columns</p>\n",
       "</div>"
      ],
      "text/plain": [
       "       index  longitude  latitude  housing_median_age  total_rooms  \\\n",
       "0       2072    -119.84     36.77                 6.0       1853.0   \n",
       "1      10600    -117.80     33.68                 8.0       2032.0   \n",
       "2       2494    -120.19     36.60                25.0        875.0   \n",
       "3       4284    -118.32     34.10                31.0        622.0   \n",
       "4      16541    -121.23     37.79                21.0       1922.0   \n",
       "...      ...        ...       ...                 ...          ...   \n",
       "16507   1099    -121.90     39.59                20.0       1465.0   \n",
       "16508  18898    -122.25     38.11                49.0       2365.0   \n",
       "16509  11798    -121.22     38.92                19.0       2531.0   \n",
       "16510   6637    -118.14     34.16                39.0       2776.0   \n",
       "16511   2575    -124.13     40.80                31.0       2152.0   \n",
       "\n",
       "       total_bedrooms  population  households  median_income  \\\n",
       "0               473.0      1397.0       417.0         1.4817   \n",
       "1               349.0       862.0       340.0         6.9133   \n",
       "2               214.0       931.0       214.0         1.5536   \n",
       "3               229.0       597.0       227.0         1.5284   \n",
       "4               373.0      1130.0       372.0         4.0815   \n",
       "...               ...         ...         ...            ...   \n",
       "16507           278.0       745.0       250.0         3.0625   \n",
       "16508           504.0      1131.0       458.0         2.6133   \n",
       "16509           461.0      1206.0       429.0         4.4958   \n",
       "16510           840.0      2546.0       773.0         2.5750   \n",
       "16511           462.0      1259.0       420.0         2.2478   \n",
       "\n",
       "       median_house_value ocean_proximity  localisation  \n",
       "0                 72000.0          INLAND             4  \n",
       "1                274100.0       <1H OCEAN             3  \n",
       "2                 58300.0          INLAND             4  \n",
       "3                200000.0       <1H OCEAN             3  \n",
       "4                117900.0          INLAND             4  \n",
       "...                   ...             ...           ...  \n",
       "16507             93800.0          INLAND             4  \n",
       "16508            103100.0        NEAR BAY             2  \n",
       "16509            192600.0          INLAND             4  \n",
       "16510            153500.0       <1H OCEAN             3  \n",
       "16511             81100.0      NEAR OCEAN             1  \n",
       "\n",
       "[16512 rows x 12 columns]"
      ]
     },
     "execution_count": 816,
     "metadata": {},
     "output_type": "execute_result"
    }
   ],
   "source": [
    "immo_df2 = pd.read_csv(\"immo_iteration2.csv\")\n",
    "immo_df2"
   ]
  },
  {
   "cell_type": "code",
   "execution_count": 817,
   "id": "5ebdf8b7",
   "metadata": {},
   "outputs": [
    {
     "data": {
      "text/plain": [
       "'y = immo_df2[\"median_house_value\"]\\nX = immo_df2.copy()'"
      ]
     },
     "execution_count": 817,
     "metadata": {},
     "output_type": "execute_result"
    }
   ],
   "source": [
    "'''y = immo_df2[\"median_house_value\"]\n",
    "X = immo_df2.copy()'''"
   ]
  },
  {
   "cell_type": "code",
   "execution_count": 818,
   "id": "14a88fd2",
   "metadata": {},
   "outputs": [
    {
     "data": {
      "text/plain": [
       "'X= X.drop(\"median_house_value\", axis=1)\\nX'"
      ]
     },
     "execution_count": 818,
     "metadata": {},
     "output_type": "execute_result"
    }
   ],
   "source": [
    "'''X= X.drop(\"median_house_value\", axis=1)\n",
    "X'''"
   ]
  },
  {
   "cell_type": "code",
   "execution_count": 819,
   "id": "91623d2a",
   "metadata": {
    "scrolled": true
   },
   "outputs": [
    {
     "data": {
      "text/plain": [
       "'X= X.drop(\"ocean_proximity\", axis=1)\\nX'"
      ]
     },
     "execution_count": 819,
     "metadata": {},
     "output_type": "execute_result"
    }
   ],
   "source": [
    "'''X= X.drop(\"ocean_proximity\", axis=1)\n",
    "X'''"
   ]
  },
  {
   "cell_type": "markdown",
   "id": "ac8c9a1e",
   "metadata": {},
   "source": [
    "## Linear Regression"
   ]
  },
  {
   "cell_type": "code",
   "execution_count": 820,
   "id": "005fb517",
   "metadata": {},
   "outputs": [
    {
     "data": {
      "text/plain": [
       "'X_train, X_test, y_train, y_test = train_test_split(X, y, test_size=.3, random_state=1)\\n\\nmodel = LinearRegression()\\n\\nmodel.fit(X_train, y_train)\\n\\nmodel.score(X_test, y_test)\\n'"
      ]
     },
     "execution_count": 820,
     "metadata": {},
     "output_type": "execute_result"
    }
   ],
   "source": [
    "'''X_train, X_test, y_train, y_test = train_test_split(X, y, test_size=.3, random_state=1)\n",
    "\n",
    "model = LinearRegression()\n",
    "\n",
    "model.fit(X_train, y_train)\n",
    "\n",
    "model.score(X_test, y_test)\n",
    "'''"
   ]
  },
  {
   "cell_type": "code",
   "execution_count": 821,
   "id": "400cca17",
   "metadata": {},
   "outputs": [
    {
     "data": {
      "text/plain": [
       "'y_predicted = model.predict(X_test)'"
      ]
     },
     "execution_count": 821,
     "metadata": {},
     "output_type": "execute_result"
    }
   ],
   "source": [
    "'''y_predicted = model.predict(X_test)'''"
   ]
  },
  {
   "cell_type": "code",
   "execution_count": 822,
   "id": "7ee7bfde",
   "metadata": {},
   "outputs": [
    {
     "data": {
      "text/plain": [
       "\"fig, ax = plt.subplots()\\nax.scatter(y_predicted, y_test, edgecolors=(0, 0, 1))\\nax.plot([y_test.min(), y_test.max()], [y_test.min(), y_test.max()], 'r--', lw=3)\\nax.set_xlabel('Predicted')\\nax.set_ylabel('Actual')\\nplt.show()\""
      ]
     },
     "execution_count": 822,
     "metadata": {},
     "output_type": "execute_result"
    }
   ],
   "source": [
    "'''fig, ax = plt.subplots()\n",
    "ax.scatter(y_predicted, y_test, edgecolors=(0, 0, 1))\n",
    "ax.plot([y_test.min(), y_test.max()], [y_test.min(), y_test.max()], 'r--', lw=3)\n",
    "ax.set_xlabel('Predicted')\n",
    "ax.set_ylabel('Actual')\n",
    "plt.show()'''"
   ]
  },
  {
   "cell_type": "code",
   "execution_count": 823,
   "id": "7af5a329",
   "metadata": {},
   "outputs": [
    {
     "data": {
      "text/plain": [
       "'mae = metrics.mean_absolute_error(y_test, y_predicted)\\nrmse = np.sqrt(metrics.mean_squared_error(y_test, y_predicted))\\nr2 = metrics.r2_score(y_test, y_predicted)\\n\\nprint(\"The model performance for testing set\")\\nprint(\"--------------------------------------\")\\nprint(\\'MAE is {}\\'.format(mae))\\nprint(\\'RMSE is {}\\'.format(rmse))\\nprint(\\'R2 score is {}\\'.format(r2))'"
      ]
     },
     "execution_count": 823,
     "metadata": {},
     "output_type": "execute_result"
    }
   ],
   "source": [
    "'''mae = metrics.mean_absolute_error(y_test, y_predicted)\n",
    "rmse = np.sqrt(metrics.mean_squared_error(y_test, y_predicted))\n",
    "r2 = metrics.r2_score(y_test, y_predicted)\n",
    "\n",
    "print(\"The model performance for testing set\")\n",
    "print(\"--------------------------------------\")\n",
    "print('MAE is {}'.format(mae))\n",
    "print('RMSE is {}'.format(rmse))\n",
    "print('R2 score is {}'.format(r2))'''"
   ]
  },
  {
   "cell_type": "markdown",
   "id": "b41bac6b",
   "metadata": {},
   "source": [
    "## Cross validation"
   ]
  },
  {
   "cell_type": "code",
   "execution_count": 824,
   "id": "775558bc",
   "metadata": {},
   "outputs": [
    {
     "data": {
      "text/plain": [
       "'scores = cross_validate(model, X, y, cv=5, scoring=(\\'r2\\', \\'neg_root_mean_squared_error\\',\\'neg_mean_absolute_error\\'))\\n\\naverage_r2 = scores[\\'test_r2\\'].mean()\\naverage_rmse = -scores[\\'test_neg_root_mean_squared_error\\'].mean()\\naverage_mae = -scores[\\'test_neg_mean_absolute_error\\'].mean()\\nprint(\"The model performance for testing set\")\\nprint(\"--------------------------------------\")\\nprint(\\'Average MAE:\\', average_mae)\\nprint(\\' Average RMSE: \\', average_rmse)\\nprint(\"Average R2: \", average_r2)\\n'"
      ]
     },
     "execution_count": 824,
     "metadata": {},
     "output_type": "execute_result"
    }
   ],
   "source": [
    "'''scores = cross_validate(model, X, y, cv=5, scoring=('r2', 'neg_root_mean_squared_error','neg_mean_absolute_error'))\n",
    "\n",
    "average_r2 = scores['test_r2'].mean()\n",
    "average_rmse = -scores['test_neg_root_mean_squared_error'].mean()\n",
    "average_mae = -scores['test_neg_mean_absolute_error'].mean()\n",
    "print(\"The model performance for testing set\")\n",
    "print(\"--------------------------------------\")\n",
    "print('Average MAE:', average_mae)\n",
    "print(' Average RMSE: ', average_rmse)\n",
    "print(\"Average R2: \", average_r2)\n",
    "'''"
   ]
  },
  {
   "cell_type": "markdown",
   "id": "b4aa4599",
   "metadata": {},
   "source": [
    "# troisiéme model de regression lineaire"
   ]
  },
  {
   "cell_type": "code",
   "execution_count": 825,
   "id": "d7b55f44",
   "metadata": {
    "scrolled": true
   },
   "outputs": [
    {
     "data": {
      "text/plain": [
       "'immo_df3 = pd.read_csv(\"immo_iteration3.csv\")\\nimmo_df3'"
      ]
     },
     "execution_count": 825,
     "metadata": {},
     "output_type": "execute_result"
    }
   ],
   "source": [
    "'''immo_df3 = pd.read_csv(\"immo_iteration3.csv\")\n",
    "immo_df3'''"
   ]
  },
  {
   "cell_type": "code",
   "execution_count": 826,
   "id": "48d095a3",
   "metadata": {},
   "outputs": [
    {
     "data": {
      "text/plain": [
       "'y = immo_df3[\"median_house_value\"]\\nX = immo_df3.copy()'"
      ]
     },
     "execution_count": 826,
     "metadata": {},
     "output_type": "execute_result"
    }
   ],
   "source": [
    "'''y = immo_df3[\"median_house_value\"]\n",
    "X = immo_df3.copy()'''"
   ]
  },
  {
   "cell_type": "code",
   "execution_count": 827,
   "id": "707d6440",
   "metadata": {
    "scrolled": true
   },
   "outputs": [
    {
     "data": {
      "text/plain": [
       "'X= X.drop(\"median_house_value\", axis=1)\\nX'"
      ]
     },
     "execution_count": 827,
     "metadata": {},
     "output_type": "execute_result"
    }
   ],
   "source": [
    "'''X= X.drop(\"median_house_value\", axis=1)\n",
    "X'''"
   ]
  },
  {
   "cell_type": "markdown",
   "id": "d80479f7",
   "metadata": {},
   "source": [
    "## Linear Regression"
   ]
  },
  {
   "cell_type": "code",
   "execution_count": 828,
   "id": "4f920488",
   "metadata": {},
   "outputs": [
    {
     "data": {
      "text/plain": [
       "'X_train, X_test, y_train, y_test = train_test_split(X, y, test_size=.3, random_state=1)\\n\\nmodel = LinearRegression()\\n\\nmodel.fit(X_train, y_train)\\n\\nmodel.score(X_test, y_test)'"
      ]
     },
     "execution_count": 828,
     "metadata": {},
     "output_type": "execute_result"
    }
   ],
   "source": [
    "'''X_train, X_test, y_train, y_test = train_test_split(X, y, test_size=.3, random_state=1)\n",
    "\n",
    "model = LinearRegression()\n",
    "\n",
    "model.fit(X_train, y_train)\n",
    "\n",
    "model.score(X_test, y_test)'''"
   ]
  },
  {
   "cell_type": "code",
   "execution_count": 829,
   "id": "cec8217e",
   "metadata": {},
   "outputs": [
    {
     "data": {
      "text/plain": [
       "'y_predicted = model.predict(X_test)'"
      ]
     },
     "execution_count": 829,
     "metadata": {},
     "output_type": "execute_result"
    }
   ],
   "source": [
    "'''y_predicted = model.predict(X_test)'''"
   ]
  },
  {
   "cell_type": "code",
   "execution_count": 830,
   "id": "487b5bb7",
   "metadata": {},
   "outputs": [
    {
     "data": {
      "text/plain": [
       "\"fig, ax = plt.subplots()\\nax.scatter(y_predicted, y_test, edgecolors=(0, 0, 1))\\nax.plot([y_test.min(), y_test.max()], [y_test.min(), y_test.max()], 'r--', lw=3)\\nax.set_xlabel('Predicted')\\nax.set_ylabel('Actual')\\nplt.show()\""
      ]
     },
     "execution_count": 830,
     "metadata": {},
     "output_type": "execute_result"
    }
   ],
   "source": [
    "'''fig, ax = plt.subplots()\n",
    "ax.scatter(y_predicted, y_test, edgecolors=(0, 0, 1))\n",
    "ax.plot([y_test.min(), y_test.max()], [y_test.min(), y_test.max()], 'r--', lw=3)\n",
    "ax.set_xlabel('Predicted')\n",
    "ax.set_ylabel('Actual')\n",
    "plt.show()'''"
   ]
  },
  {
   "cell_type": "code",
   "execution_count": 831,
   "id": "49164b51",
   "metadata": {},
   "outputs": [
    {
     "data": {
      "text/plain": [
       "'mae = metrics.mean_absolute_error(y_test, y_predicted)\\nrmse = np.sqrt(metrics.mean_squared_error(y_test, y_predicted))\\nr2 = metrics.r2_score(y_test, y_predicted)\\n\\nprint(\"The model performance for testing set\")\\nprint(\"--------------------------------------\")\\nprint(\\'MAE is {}\\'.format(mae))\\nprint(\\'RMSE is {}\\'.format(rmse))\\nprint(\\'R2 score is {}\\'.format(r2))'"
      ]
     },
     "execution_count": 831,
     "metadata": {},
     "output_type": "execute_result"
    }
   ],
   "source": [
    "'''mae = metrics.mean_absolute_error(y_test, y_predicted)\n",
    "rmse = np.sqrt(metrics.mean_squared_error(y_test, y_predicted))\n",
    "r2 = metrics.r2_score(y_test, y_predicted)\n",
    "\n",
    "print(\"The model performance for testing set\")\n",
    "print(\"--------------------------------------\")\n",
    "print('MAE is {}'.format(mae))\n",
    "print('RMSE is {}'.format(rmse))\n",
    "print('R2 score is {}'.format(r2))'''"
   ]
  },
  {
   "cell_type": "markdown",
   "id": "dea8a05a",
   "metadata": {},
   "source": [
    "## Cross validation"
   ]
  },
  {
   "cell_type": "code",
   "execution_count": 832,
   "id": "4ab820e7",
   "metadata": {},
   "outputs": [
    {
     "data": {
      "text/plain": [
       "'scores = cross_validate(model, X, y, cv=5, scoring=(\\'r2\\', \\'neg_root_mean_squared_error\\',\\'neg_mean_absolute_error\\'))\\n\\naverage_r2 = scores[\\'test_r2\\'].mean()\\naverage_rmse = -scores[\\'test_neg_root_mean_squared_error\\'].mean()\\naverage_mae = -scores[\\'test_neg_mean_absolute_error\\'].mean()\\nprint(\"The model performance for testing set\")\\nprint(\"--------------------------------------\")\\nprint(\\'Average MAE:\\', average_mae)\\nprint(\\' Average RMSE: \\', average_rmse)\\nprint(\"Average R2: \", average_r2)\\n'"
      ]
     },
     "execution_count": 832,
     "metadata": {},
     "output_type": "execute_result"
    }
   ],
   "source": [
    "'''scores = cross_validate(model, X, y, cv=5, scoring=('r2', 'neg_root_mean_squared_error','neg_mean_absolute_error'))\n",
    "\n",
    "average_r2 = scores['test_r2'].mean()\n",
    "average_rmse = -scores['test_neg_root_mean_squared_error'].mean()\n",
    "average_mae = -scores['test_neg_mean_absolute_error'].mean()\n",
    "print(\"The model performance for testing set\")\n",
    "print(\"--------------------------------------\")\n",
    "print('Average MAE:', average_mae)\n",
    "print(' Average RMSE: ', average_rmse)\n",
    "print(\"Average R2: \", average_r2)\n",
    "'''"
   ]
  },
  {
   "cell_type": "markdown",
   "id": "ff6308f8",
   "metadata": {},
   "source": []
  },
  {
   "cell_type": "markdown",
   "id": "83c070f8",
   "metadata": {},
   "source": [
    "# quatrieme model de regression lineaire"
   ]
  },
  {
   "cell_type": "code",
   "execution_count": 833,
   "id": "87c22a58",
   "metadata": {
    "scrolled": true
   },
   "outputs": [
    {
     "data": {
      "text/plain": [
       "'immo_df4 = pd.read_csv(\"immo_iteration4.csv\")\\nimmo_df4'"
      ]
     },
     "execution_count": 833,
     "metadata": {},
     "output_type": "execute_result"
    }
   ],
   "source": [
    "'''immo_df4 = pd.read_csv(\"immo_iteration4.csv\")\n",
    "immo_df4'''"
   ]
  },
  {
   "cell_type": "code",
   "execution_count": 834,
   "id": "f49bded6",
   "metadata": {},
   "outputs": [
    {
     "data": {
      "text/plain": [
       "'y = immo_df4[\"median_house_value\"]\\nX = immo_df4.copy()'"
      ]
     },
     "execution_count": 834,
     "metadata": {},
     "output_type": "execute_result"
    }
   ],
   "source": [
    "'''y = immo_df4[\"median_house_value\"]\n",
    "X = immo_df4.copy()'''"
   ]
  },
  {
   "cell_type": "code",
   "execution_count": 835,
   "id": "dc444c01",
   "metadata": {
    "scrolled": false
   },
   "outputs": [
    {
     "data": {
      "text/plain": [
       "'X= X.drop(\"median_house_value\", axis=1)\\nX'"
      ]
     },
     "execution_count": 835,
     "metadata": {},
     "output_type": "execute_result"
    }
   ],
   "source": [
    "'''X= X.drop(\"median_house_value\", axis=1)\n",
    "X'''"
   ]
  },
  {
   "cell_type": "markdown",
   "id": "107d65c4",
   "metadata": {},
   "source": [
    "## Linear Regression"
   ]
  },
  {
   "cell_type": "code",
   "execution_count": 836,
   "id": "71465771",
   "metadata": {
    "scrolled": true
   },
   "outputs": [
    {
     "data": {
      "text/plain": [
       "'X_train, X_test, y_train, y_test = train_test_split(X, y, test_size=.3, random_state=1)\\n\\nmodel = LinearRegression()\\n\\nmodel.fit(X_train, y_train)\\n\\nmodel.score(X_test, y_test)'"
      ]
     },
     "execution_count": 836,
     "metadata": {},
     "output_type": "execute_result"
    }
   ],
   "source": [
    "'''X_train, X_test, y_train, y_test = train_test_split(X, y, test_size=.3, random_state=1)\n",
    "\n",
    "model = LinearRegression()\n",
    "\n",
    "model.fit(X_train, y_train)\n",
    "\n",
    "model.score(X_test, y_test)'''"
   ]
  },
  {
   "cell_type": "code",
   "execution_count": 837,
   "id": "ce841841",
   "metadata": {},
   "outputs": [
    {
     "data": {
      "text/plain": [
       "'y_predicted = model.predict(X_test)'"
      ]
     },
     "execution_count": 837,
     "metadata": {},
     "output_type": "execute_result"
    }
   ],
   "source": [
    "'''y_predicted = model.predict(X_test)'''"
   ]
  },
  {
   "cell_type": "code",
   "execution_count": 838,
   "id": "1fcc6796",
   "metadata": {},
   "outputs": [
    {
     "data": {
      "text/plain": [
       "\"fig, ax = plt.subplots()\\nax.scatter(y_predicted, y_test, edgecolors=(0, 0, 1))\\nax.plot([y_test.min(), y_test.max()], [y_test.min(), y_test.max()], 'r--', lw=3)\\nax.set_xlabel('Predicted')\\nax.set_ylabel('Actual')\\nplt.show()\""
      ]
     },
     "execution_count": 838,
     "metadata": {},
     "output_type": "execute_result"
    }
   ],
   "source": [
    "'''fig, ax = plt.subplots()\n",
    "ax.scatter(y_predicted, y_test, edgecolors=(0, 0, 1))\n",
    "ax.plot([y_test.min(), y_test.max()], [y_test.min(), y_test.max()], 'r--', lw=3)\n",
    "ax.set_xlabel('Predicted')\n",
    "ax.set_ylabel('Actual')\n",
    "plt.show()'''"
   ]
  },
  {
   "cell_type": "code",
   "execution_count": 839,
   "id": "a414856f",
   "metadata": {
    "scrolled": true
   },
   "outputs": [
    {
     "data": {
      "text/plain": [
       "'mae = metrics.mean_absolute_error(y_test, y_predicted)\\nrmse = np.sqrt(metrics.mean_squared_error(y_test, y_predicted))\\nr2 = metrics.r2_score(y_test, y_predicted)\\n\\nprint(\"The model performance for testing set\")\\nprint(\"--------------------------------------\")\\nprint(\\'MAE is {}\\'.format(mae))\\nprint(\\'RMSE is {}\\'.format(rmse))\\nprint(\\'R2 score is {}\\'.format(r2))'"
      ]
     },
     "execution_count": 839,
     "metadata": {},
     "output_type": "execute_result"
    }
   ],
   "source": [
    "'''mae = metrics.mean_absolute_error(y_test, y_predicted)\n",
    "rmse = np.sqrt(metrics.mean_squared_error(y_test, y_predicted))\n",
    "r2 = metrics.r2_score(y_test, y_predicted)\n",
    "\n",
    "print(\"The model performance for testing set\")\n",
    "print(\"--------------------------------------\")\n",
    "print('MAE is {}'.format(mae))\n",
    "print('RMSE is {}'.format(rmse))\n",
    "print('R2 score is {}'.format(r2))'''"
   ]
  },
  {
   "cell_type": "markdown",
   "id": "51fc2fce",
   "metadata": {},
   "source": [
    "## Cross validation"
   ]
  },
  {
   "cell_type": "code",
   "execution_count": 840,
   "id": "7544e04b",
   "metadata": {},
   "outputs": [
    {
     "data": {
      "text/plain": [
       "'scores = cross_validate(model, X, y, cv=5, scoring=(\\'r2\\', \\'neg_root_mean_squared_error\\',\\'neg_mean_absolute_error\\'))\\n\\naverage_r2 = scores[\\'test_r2\\'].mean()\\naverage_rmse = -scores[\\'test_neg_root_mean_squared_error\\'].mean()\\naverage_mae = -scores[\\'test_neg_mean_absolute_error\\'].mean()\\nprint(\"The model performance for testing set\")\\nprint(\"--------------------------------------\")\\nprint(\\'Average MAE:\\', average_mae)\\nprint(\\' Average RMSE: \\', average_rmse)\\nprint(\"Average R2: \", average_r2)\\n'"
      ]
     },
     "execution_count": 840,
     "metadata": {},
     "output_type": "execute_result"
    }
   ],
   "source": [
    "'''scores = cross_validate(model, X, y, cv=5, scoring=('r2', 'neg_root_mean_squared_error','neg_mean_absolute_error'))\n",
    "\n",
    "average_r2 = scores['test_r2'].mean()\n",
    "average_rmse = -scores['test_neg_root_mean_squared_error'].mean()\n",
    "average_mae = -scores['test_neg_mean_absolute_error'].mean()\n",
    "print(\"The model performance for testing set\")\n",
    "print(\"--------------------------------------\")\n",
    "print('Average MAE:', average_mae)\n",
    "print(' Average RMSE: ', average_rmse)\n",
    "print(\"Average R2: \", average_r2)\n",
    "'''"
   ]
  },
  {
   "cell_type": "markdown",
   "id": "cb4f6287",
   "metadata": {},
   "source": [
    "# cinquieme model de regression lineaire"
   ]
  },
  {
   "cell_type": "code",
   "execution_count": 841,
   "id": "1779c2c8",
   "metadata": {
    "scrolled": true
   },
   "outputs": [
    {
     "data": {
      "text/html": [
       "<div>\n",
       "<style scoped>\n",
       "    .dataframe tbody tr th:only-of-type {\n",
       "        vertical-align: middle;\n",
       "    }\n",
       "\n",
       "    .dataframe tbody tr th {\n",
       "        vertical-align: top;\n",
       "    }\n",
       "\n",
       "    .dataframe thead th {\n",
       "        text-align: right;\n",
       "    }\n",
       "</style>\n",
       "<table border=\"1\" class=\"dataframe\">\n",
       "  <thead>\n",
       "    <tr style=\"text-align: right;\">\n",
       "      <th></th>\n",
       "      <th>index</th>\n",
       "      <th>longitude</th>\n",
       "      <th>latitude</th>\n",
       "      <th>housing_median_age</th>\n",
       "      <th>total_rooms</th>\n",
       "      <th>total_bedrooms</th>\n",
       "      <th>population</th>\n",
       "      <th>households</th>\n",
       "      <th>median_income</th>\n",
       "      <th>ocean_proximity_&lt;1H OCEAN</th>\n",
       "      <th>ocean_proximity_INLAND</th>\n",
       "      <th>ocean_proximity_ISLAND</th>\n",
       "      <th>ocean_proximity_NEAR BAY</th>\n",
       "      <th>ocean_proximity_NEAR OCEAN</th>\n",
       "      <th>median_house_value</th>\n",
       "    </tr>\n",
       "  </thead>\n",
       "  <tbody>\n",
       "    <tr>\n",
       "      <th>0</th>\n",
       "      <td>0.100392</td>\n",
       "      <td>0.449203</td>\n",
       "      <td>0.449522</td>\n",
       "      <td>0.098039</td>\n",
       "      <td>0.046981</td>\n",
       "      <td>0.073103</td>\n",
       "      <td>0.039071</td>\n",
       "      <td>0.068257</td>\n",
       "      <td>0.067709</td>\n",
       "      <td>0.0</td>\n",
       "      <td>1.0</td>\n",
       "      <td>0.0</td>\n",
       "      <td>0.0</td>\n",
       "      <td>0.0</td>\n",
       "      <td>0.117527</td>\n",
       "    </tr>\n",
       "    <tr>\n",
       "      <th>1</th>\n",
       "      <td>0.513591</td>\n",
       "      <td>0.652390</td>\n",
       "      <td>0.121148</td>\n",
       "      <td>0.137255</td>\n",
       "      <td>0.051534</td>\n",
       "      <td>0.053857</td>\n",
       "      <td>0.024076</td>\n",
       "      <td>0.055592</td>\n",
       "      <td>0.442297</td>\n",
       "      <td>1.0</td>\n",
       "      <td>0.0</td>\n",
       "      <td>0.0</td>\n",
       "      <td>0.0</td>\n",
       "      <td>0.0</td>\n",
       "      <td>0.534227</td>\n",
       "    </tr>\n",
       "    <tr>\n",
       "      <th>2</th>\n",
       "      <td>0.120839</td>\n",
       "      <td>0.414343</td>\n",
       "      <td>0.431456</td>\n",
       "      <td>0.470588</td>\n",
       "      <td>0.022104</td>\n",
       "      <td>0.032904</td>\n",
       "      <td>0.026010</td>\n",
       "      <td>0.034868</td>\n",
       "      <td>0.072668</td>\n",
       "      <td>0.0</td>\n",
       "      <td>1.0</td>\n",
       "      <td>0.0</td>\n",
       "      <td>0.0</td>\n",
       "      <td>0.0</td>\n",
       "      <td>0.089280</td>\n",
       "    </tr>\n",
       "    <tr>\n",
       "      <th>3</th>\n",
       "      <td>0.207568</td>\n",
       "      <td>0.600598</td>\n",
       "      <td>0.165781</td>\n",
       "      <td>0.588235</td>\n",
       "      <td>0.015669</td>\n",
       "      <td>0.035232</td>\n",
       "      <td>0.016648</td>\n",
       "      <td>0.037007</td>\n",
       "      <td>0.070930</td>\n",
       "      <td>1.0</td>\n",
       "      <td>0.0</td>\n",
       "      <td>0.0</td>\n",
       "      <td>0.0</td>\n",
       "      <td>0.0</td>\n",
       "      <td>0.381444</td>\n",
       "    </tr>\n",
       "    <tr>\n",
       "      <th>4</th>\n",
       "      <td>0.801444</td>\n",
       "      <td>0.310757</td>\n",
       "      <td>0.557917</td>\n",
       "      <td>0.392157</td>\n",
       "      <td>0.048736</td>\n",
       "      <td>0.057582</td>\n",
       "      <td>0.031587</td>\n",
       "      <td>0.060855</td>\n",
       "      <td>0.247003</td>\n",
       "      <td>0.0</td>\n",
       "      <td>1.0</td>\n",
       "      <td>0.0</td>\n",
       "      <td>0.0</td>\n",
       "      <td>0.0</td>\n",
       "      <td>0.212166</td>\n",
       "    </tr>\n",
       "    <tr>\n",
       "      <th>...</th>\n",
       "      <td>...</td>\n",
       "      <td>...</td>\n",
       "      <td>...</td>\n",
       "      <td>...</td>\n",
       "      <td>...</td>\n",
       "      <td>...</td>\n",
       "      <td>...</td>\n",
       "      <td>...</td>\n",
       "      <td>...</td>\n",
       "      <td>...</td>\n",
       "      <td>...</td>\n",
       "      <td>...</td>\n",
       "      <td>...</td>\n",
       "      <td>...</td>\n",
       "      <td>...</td>\n",
       "    </tr>\n",
       "    <tr>\n",
       "      <th>16507</th>\n",
       "      <td>0.053249</td>\n",
       "      <td>0.244024</td>\n",
       "      <td>0.749203</td>\n",
       "      <td>0.372549</td>\n",
       "      <td>0.037111</td>\n",
       "      <td>0.042837</td>\n",
       "      <td>0.020797</td>\n",
       "      <td>0.040789</td>\n",
       "      <td>0.176729</td>\n",
       "      <td>0.0</td>\n",
       "      <td>1.0</td>\n",
       "      <td>0.0</td>\n",
       "      <td>0.0</td>\n",
       "      <td>0.0</td>\n",
       "      <td>0.162476</td>\n",
       "    </tr>\n",
       "    <tr>\n",
       "      <th>16508</th>\n",
       "      <td>0.915645</td>\n",
       "      <td>0.209163</td>\n",
       "      <td>0.591923</td>\n",
       "      <td>0.941176</td>\n",
       "      <td>0.060004</td>\n",
       "      <td>0.077914</td>\n",
       "      <td>0.031615</td>\n",
       "      <td>0.075000</td>\n",
       "      <td>0.145750</td>\n",
       "      <td>0.0</td>\n",
       "      <td>0.0</td>\n",
       "      <td>0.0</td>\n",
       "      <td>1.0</td>\n",
       "      <td>0.0</td>\n",
       "      <td>0.181651</td>\n",
       "    </tr>\n",
       "    <tr>\n",
       "      <th>16509</th>\n",
       "      <td>0.571636</td>\n",
       "      <td>0.311753</td>\n",
       "      <td>0.678002</td>\n",
       "      <td>0.352941</td>\n",
       "      <td>0.064226</td>\n",
       "      <td>0.071240</td>\n",
       "      <td>0.033717</td>\n",
       "      <td>0.070230</td>\n",
       "      <td>0.275576</td>\n",
       "      <td>0.0</td>\n",
       "      <td>1.0</td>\n",
       "      <td>0.0</td>\n",
       "      <td>0.0</td>\n",
       "      <td>0.0</td>\n",
       "      <td>0.366186</td>\n",
       "    </tr>\n",
       "    <tr>\n",
       "      <th>16510</th>\n",
       "      <td>0.321576</td>\n",
       "      <td>0.618526</td>\n",
       "      <td>0.172157</td>\n",
       "      <td>0.745098</td>\n",
       "      <td>0.070458</td>\n",
       "      <td>0.130064</td>\n",
       "      <td>0.071274</td>\n",
       "      <td>0.126809</td>\n",
       "      <td>0.143108</td>\n",
       "      <td>1.0</td>\n",
       "      <td>0.0</td>\n",
       "      <td>0.0</td>\n",
       "      <td>0.0</td>\n",
       "      <td>0.0</td>\n",
       "      <td>0.285568</td>\n",
       "    </tr>\n",
       "    <tr>\n",
       "      <th>16511</th>\n",
       "      <td>0.124764</td>\n",
       "      <td>0.021912</td>\n",
       "      <td>0.877790</td>\n",
       "      <td>0.588235</td>\n",
       "      <td>0.054586</td>\n",
       "      <td>0.071395</td>\n",
       "      <td>0.035203</td>\n",
       "      <td>0.068750</td>\n",
       "      <td>0.120543</td>\n",
       "      <td>0.0</td>\n",
       "      <td>0.0</td>\n",
       "      <td>0.0</td>\n",
       "      <td>0.0</td>\n",
       "      <td>1.0</td>\n",
       "      <td>0.136290</td>\n",
       "    </tr>\n",
       "  </tbody>\n",
       "</table>\n",
       "<p>16512 rows × 15 columns</p>\n",
       "</div>"
      ],
      "text/plain": [
       "          index  longitude  latitude  housing_median_age  total_rooms  \\\n",
       "0      0.100392   0.449203  0.449522            0.098039     0.046981   \n",
       "1      0.513591   0.652390  0.121148            0.137255     0.051534   \n",
       "2      0.120839   0.414343  0.431456            0.470588     0.022104   \n",
       "3      0.207568   0.600598  0.165781            0.588235     0.015669   \n",
       "4      0.801444   0.310757  0.557917            0.392157     0.048736   \n",
       "...         ...        ...       ...                 ...          ...   \n",
       "16507  0.053249   0.244024  0.749203            0.372549     0.037111   \n",
       "16508  0.915645   0.209163  0.591923            0.941176     0.060004   \n",
       "16509  0.571636   0.311753  0.678002            0.352941     0.064226   \n",
       "16510  0.321576   0.618526  0.172157            0.745098     0.070458   \n",
       "16511  0.124764   0.021912  0.877790            0.588235     0.054586   \n",
       "\n",
       "       total_bedrooms  population  households  median_income  \\\n",
       "0            0.073103    0.039071    0.068257       0.067709   \n",
       "1            0.053857    0.024076    0.055592       0.442297   \n",
       "2            0.032904    0.026010    0.034868       0.072668   \n",
       "3            0.035232    0.016648    0.037007       0.070930   \n",
       "4            0.057582    0.031587    0.060855       0.247003   \n",
       "...               ...         ...         ...            ...   \n",
       "16507        0.042837    0.020797    0.040789       0.176729   \n",
       "16508        0.077914    0.031615    0.075000       0.145750   \n",
       "16509        0.071240    0.033717    0.070230       0.275576   \n",
       "16510        0.130064    0.071274    0.126809       0.143108   \n",
       "16511        0.071395    0.035203    0.068750       0.120543   \n",
       "\n",
       "       ocean_proximity_<1H OCEAN  ocean_proximity_INLAND  \\\n",
       "0                            0.0                     1.0   \n",
       "1                            1.0                     0.0   \n",
       "2                            0.0                     1.0   \n",
       "3                            1.0                     0.0   \n",
       "4                            0.0                     1.0   \n",
       "...                          ...                     ...   \n",
       "16507                        0.0                     1.0   \n",
       "16508                        0.0                     0.0   \n",
       "16509                        0.0                     1.0   \n",
       "16510                        1.0                     0.0   \n",
       "16511                        0.0                     0.0   \n",
       "\n",
       "       ocean_proximity_ISLAND  ocean_proximity_NEAR BAY  \\\n",
       "0                         0.0                       0.0   \n",
       "1                         0.0                       0.0   \n",
       "2                         0.0                       0.0   \n",
       "3                         0.0                       0.0   \n",
       "4                         0.0                       0.0   \n",
       "...                       ...                       ...   \n",
       "16507                     0.0                       0.0   \n",
       "16508                     0.0                       1.0   \n",
       "16509                     0.0                       0.0   \n",
       "16510                     0.0                       0.0   \n",
       "16511                     0.0                       0.0   \n",
       "\n",
       "       ocean_proximity_NEAR OCEAN  median_house_value  \n",
       "0                             0.0            0.117527  \n",
       "1                             0.0            0.534227  \n",
       "2                             0.0            0.089280  \n",
       "3                             0.0            0.381444  \n",
       "4                             0.0            0.212166  \n",
       "...                           ...                 ...  \n",
       "16507                         0.0            0.162476  \n",
       "16508                         0.0            0.181651  \n",
       "16509                         0.0            0.366186  \n",
       "16510                         0.0            0.285568  \n",
       "16511                         1.0            0.136290  \n",
       "\n",
       "[16512 rows x 15 columns]"
      ]
     },
     "execution_count": 841,
     "metadata": {},
     "output_type": "execute_result"
    }
   ],
   "source": [
    "immo_df5 = pd.read_csv(\"immo_iteration5.csv\")\n",
    "immo_df5"
   ]
  },
  {
   "cell_type": "code",
   "execution_count": 842,
   "id": "875b939f",
   "metadata": {},
   "outputs": [
    {
     "data": {
      "text/plain": [
       "'y = immo_df5[\"median_house_value\"]\\nX = immo_df5.copy()'"
      ]
     },
     "execution_count": 842,
     "metadata": {},
     "output_type": "execute_result"
    }
   ],
   "source": [
    "'''y = immo_df5[\"median_house_value\"]\n",
    "X = immo_df5.copy()'''"
   ]
  },
  {
   "cell_type": "code",
   "execution_count": 843,
   "id": "10357fab",
   "metadata": {
    "scrolled": false
   },
   "outputs": [
    {
     "data": {
      "text/plain": [
       "'X= X.drop(\"median_house_value\", axis=1)\\nX'"
      ]
     },
     "execution_count": 843,
     "metadata": {},
     "output_type": "execute_result"
    }
   ],
   "source": [
    "'''X= X.drop(\"median_house_value\", axis=1)\n",
    "X'''"
   ]
  },
  {
   "cell_type": "markdown",
   "id": "3b8be0df",
   "metadata": {},
   "source": [
    "## Linear Regression"
   ]
  },
  {
   "cell_type": "code",
   "execution_count": 844,
   "id": "b88c4af2",
   "metadata": {},
   "outputs": [
    {
     "data": {
      "text/plain": [
       "'X_train, X_test, y_train, y_test = train_test_split(X, y, test_size=.3, random_state=1)\\n\\nmodel = LinearRegression()\\n\\nmodel.fit(X_train, y_train)\\n\\nmodel.score(X_test, y_test)'"
      ]
     },
     "execution_count": 844,
     "metadata": {},
     "output_type": "execute_result"
    }
   ],
   "source": [
    "'''X_train, X_test, y_train, y_test = train_test_split(X, y, test_size=.3, random_state=1)\n",
    "\n",
    "model = LinearRegression()\n",
    "\n",
    "model.fit(X_train, y_train)\n",
    "\n",
    "model.score(X_test, y_test)'''"
   ]
  },
  {
   "cell_type": "code",
   "execution_count": 845,
   "id": "62258f36",
   "metadata": {},
   "outputs": [
    {
     "data": {
      "text/plain": [
       "'y_predicted = model.predict(X_test)'"
      ]
     },
     "execution_count": 845,
     "metadata": {},
     "output_type": "execute_result"
    }
   ],
   "source": [
    "'''y_predicted = model.predict(X_test)'''"
   ]
  },
  {
   "cell_type": "code",
   "execution_count": null,
   "id": "4cc9025a",
   "metadata": {},
   "outputs": [],
   "source": []
  },
  {
   "cell_type": "code",
   "execution_count": 846,
   "id": "cadf89a6",
   "metadata": {},
   "outputs": [
    {
     "data": {
      "text/plain": [
       "\"fig, ax = plt.subplots()\\nax.scatter(y_predicted, y_test, edgecolors=(0, 0, 1))\\nax.plot([y_test.min(), y_test.max()], [y_test.min(), y_test.max()], 'r--', lw=3)\\nax.set_xlabel('Predicted')\\nax.set_ylabel('Actual')\\nplt.show()\""
      ]
     },
     "execution_count": 846,
     "metadata": {},
     "output_type": "execute_result"
    }
   ],
   "source": [
    "'''fig, ax = plt.subplots()\n",
    "ax.scatter(y_predicted, y_test, edgecolors=(0, 0, 1))\n",
    "ax.plot([y_test.min(), y_test.max()], [y_test.min(), y_test.max()], 'r--', lw=3)\n",
    "ax.set_xlabel('Predicted')\n",
    "ax.set_ylabel('Actual')\n",
    "plt.show()'''"
   ]
  },
  {
   "cell_type": "code",
   "execution_count": 847,
   "id": "c7059748",
   "metadata": {},
   "outputs": [
    {
     "data": {
      "text/plain": [
       "'mae = metrics.mean_absolute_error(y_test, y_predicted)\\nrmse = np.sqrt(metrics.mean_squared_error(y_test, y_predicted))\\nr2 = metrics.r2_score(y_test, y_predicted)\\n\\nprint(\"The model performance for testing set\")\\nprint(\"--------------------------------------\")\\nprint(\\'MAE is {}\\'.format(mae))\\nprint(\\'RMSE is {}\\'.format(rmse))\\nprint(\\'R2 score is {}\\'.format(r2))'"
      ]
     },
     "execution_count": 847,
     "metadata": {},
     "output_type": "execute_result"
    }
   ],
   "source": [
    "'''mae = metrics.mean_absolute_error(y_test, y_predicted)\n",
    "rmse = np.sqrt(metrics.mean_squared_error(y_test, y_predicted))\n",
    "r2 = metrics.r2_score(y_test, y_predicted)\n",
    "\n",
    "print(\"The model performance for testing set\")\n",
    "print(\"--------------------------------------\")\n",
    "print('MAE is {}'.format(mae))\n",
    "print('RMSE is {}'.format(rmse))\n",
    "print('R2 score is {}'.format(r2))'''"
   ]
  },
  {
   "cell_type": "markdown",
   "id": "0a3b2457",
   "metadata": {},
   "source": [
    "## Cross validation"
   ]
  },
  {
   "cell_type": "code",
   "execution_count": 848,
   "id": "78297cd5",
   "metadata": {},
   "outputs": [
    {
     "data": {
      "text/plain": [
       "'scores = cross_validate(model, X, y, cv=5, scoring=(\\'r2\\', \\'neg_root_mean_squared_error\\',\\'neg_mean_absolute_error\\'))\\n\\naverage_r2 = scores[\\'test_r2\\'].mean()\\naverage_rmse = -scores[\\'test_neg_root_mean_squared_error\\'].mean()\\naverage_mae = -scores[\\'test_neg_mean_absolute_error\\'].mean()\\nprint(\"The model performance for testing set\")\\nprint(\"--------------------------------------\")\\nprint(\\'Average MAE:\\', average_mae)\\nprint(\\' Average RMSE: \\', average_rmse)\\nprint(\"Average R2: \", average_r2)\\n'"
      ]
     },
     "execution_count": 848,
     "metadata": {},
     "output_type": "execute_result"
    }
   ],
   "source": [
    "'''scores = cross_validate(model, X, y, cv=5, scoring=('r2', 'neg_root_mean_squared_error','neg_mean_absolute_error'))\n",
    "\n",
    "average_r2 = scores['test_r2'].mean()\n",
    "average_rmse = -scores['test_neg_root_mean_squared_error'].mean()\n",
    "average_mae = -scores['test_neg_mean_absolute_error'].mean()\n",
    "print(\"The model performance for testing set\")\n",
    "print(\"--------------------------------------\")\n",
    "print('Average MAE:', average_mae)\n",
    "print(' Average RMSE: ', average_rmse)\n",
    "print(\"Average R2: \", average_r2)\n",
    "'''"
   ]
  },
  {
   "cell_type": "markdown",
   "id": "3ac08489",
   "metadata": {},
   "source": [
    "# 6eme model de regression lineaire"
   ]
  },
  {
   "cell_type": "code",
   "execution_count": 849,
   "id": "a7fd863d",
   "metadata": {
    "scrolled": true
   },
   "outputs": [
    {
     "data": {
      "text/html": [
       "<div>\n",
       "<style scoped>\n",
       "    .dataframe tbody tr th:only-of-type {\n",
       "        vertical-align: middle;\n",
       "    }\n",
       "\n",
       "    .dataframe tbody tr th {\n",
       "        vertical-align: top;\n",
       "    }\n",
       "\n",
       "    .dataframe thead th {\n",
       "        text-align: right;\n",
       "    }\n",
       "</style>\n",
       "<table border=\"1\" class=\"dataframe\">\n",
       "  <thead>\n",
       "    <tr style=\"text-align: right;\">\n",
       "      <th></th>\n",
       "      <th>index</th>\n",
       "      <th>longitude</th>\n",
       "      <th>latitude</th>\n",
       "      <th>housing_median_age</th>\n",
       "      <th>total_rooms</th>\n",
       "      <th>total_bedrooms</th>\n",
       "      <th>population</th>\n",
       "      <th>households</th>\n",
       "      <th>median_income</th>\n",
       "      <th>ocean_proximity_&lt;1H OCEAN</th>\n",
       "      <th>ocean_proximity_INLAND</th>\n",
       "      <th>ocean_proximity_ISLAND</th>\n",
       "      <th>ocean_proximity_NEAR BAY</th>\n",
       "      <th>ocean_proximity_NEAR OCEAN</th>\n",
       "      <th>median_house_value</th>\n",
       "    </tr>\n",
       "  </thead>\n",
       "  <tbody>\n",
       "    <tr>\n",
       "      <th>0</th>\n",
       "      <td>2072.0</td>\n",
       "      <td>-119.84</td>\n",
       "      <td>36.77</td>\n",
       "      <td>6.0</td>\n",
       "      <td>1853.0</td>\n",
       "      <td>473.0</td>\n",
       "      <td>1397.0</td>\n",
       "      <td>417.0</td>\n",
       "      <td>1.4817</td>\n",
       "      <td>0.0</td>\n",
       "      <td>1.0</td>\n",
       "      <td>0.0</td>\n",
       "      <td>0.0</td>\n",
       "      <td>0.0</td>\n",
       "      <td>72000.0</td>\n",
       "    </tr>\n",
       "    <tr>\n",
       "      <th>1</th>\n",
       "      <td>10600.0</td>\n",
       "      <td>-117.80</td>\n",
       "      <td>33.68</td>\n",
       "      <td>8.0</td>\n",
       "      <td>2032.0</td>\n",
       "      <td>349.0</td>\n",
       "      <td>862.0</td>\n",
       "      <td>340.0</td>\n",
       "      <td>6.9133</td>\n",
       "      <td>1.0</td>\n",
       "      <td>0.0</td>\n",
       "      <td>0.0</td>\n",
       "      <td>0.0</td>\n",
       "      <td>0.0</td>\n",
       "      <td>274100.0</td>\n",
       "    </tr>\n",
       "    <tr>\n",
       "      <th>2</th>\n",
       "      <td>2494.0</td>\n",
       "      <td>-120.19</td>\n",
       "      <td>36.60</td>\n",
       "      <td>25.0</td>\n",
       "      <td>875.0</td>\n",
       "      <td>214.0</td>\n",
       "      <td>931.0</td>\n",
       "      <td>214.0</td>\n",
       "      <td>1.5536</td>\n",
       "      <td>0.0</td>\n",
       "      <td>1.0</td>\n",
       "      <td>0.0</td>\n",
       "      <td>0.0</td>\n",
       "      <td>0.0</td>\n",
       "      <td>58300.0</td>\n",
       "    </tr>\n",
       "    <tr>\n",
       "      <th>3</th>\n",
       "      <td>4284.0</td>\n",
       "      <td>-118.32</td>\n",
       "      <td>34.10</td>\n",
       "      <td>31.0</td>\n",
       "      <td>622.0</td>\n",
       "      <td>229.0</td>\n",
       "      <td>597.0</td>\n",
       "      <td>227.0</td>\n",
       "      <td>1.5284</td>\n",
       "      <td>1.0</td>\n",
       "      <td>0.0</td>\n",
       "      <td>0.0</td>\n",
       "      <td>0.0</td>\n",
       "      <td>0.0</td>\n",
       "      <td>200000.0</td>\n",
       "    </tr>\n",
       "    <tr>\n",
       "      <th>4</th>\n",
       "      <td>16541.0</td>\n",
       "      <td>-121.23</td>\n",
       "      <td>37.79</td>\n",
       "      <td>21.0</td>\n",
       "      <td>1922.0</td>\n",
       "      <td>373.0</td>\n",
       "      <td>1130.0</td>\n",
       "      <td>372.0</td>\n",
       "      <td>4.0815</td>\n",
       "      <td>0.0</td>\n",
       "      <td>1.0</td>\n",
       "      <td>0.0</td>\n",
       "      <td>0.0</td>\n",
       "      <td>0.0</td>\n",
       "      <td>117900.0</td>\n",
       "    </tr>\n",
       "    <tr>\n",
       "      <th>...</th>\n",
       "      <td>...</td>\n",
       "      <td>...</td>\n",
       "      <td>...</td>\n",
       "      <td>...</td>\n",
       "      <td>...</td>\n",
       "      <td>...</td>\n",
       "      <td>...</td>\n",
       "      <td>...</td>\n",
       "      <td>...</td>\n",
       "      <td>...</td>\n",
       "      <td>...</td>\n",
       "      <td>...</td>\n",
       "      <td>...</td>\n",
       "      <td>...</td>\n",
       "      <td>...</td>\n",
       "    </tr>\n",
       "    <tr>\n",
       "      <th>16505</th>\n",
       "      <td>1099.0</td>\n",
       "      <td>-121.90</td>\n",
       "      <td>39.59</td>\n",
       "      <td>20.0</td>\n",
       "      <td>1465.0</td>\n",
       "      <td>278.0</td>\n",
       "      <td>745.0</td>\n",
       "      <td>250.0</td>\n",
       "      <td>3.0625</td>\n",
       "      <td>0.0</td>\n",
       "      <td>1.0</td>\n",
       "      <td>0.0</td>\n",
       "      <td>0.0</td>\n",
       "      <td>0.0</td>\n",
       "      <td>93800.0</td>\n",
       "    </tr>\n",
       "    <tr>\n",
       "      <th>16506</th>\n",
       "      <td>18898.0</td>\n",
       "      <td>-122.25</td>\n",
       "      <td>38.11</td>\n",
       "      <td>49.0</td>\n",
       "      <td>2365.0</td>\n",
       "      <td>504.0</td>\n",
       "      <td>1131.0</td>\n",
       "      <td>458.0</td>\n",
       "      <td>2.6133</td>\n",
       "      <td>0.0</td>\n",
       "      <td>0.0</td>\n",
       "      <td>0.0</td>\n",
       "      <td>1.0</td>\n",
       "      <td>0.0</td>\n",
       "      <td>103100.0</td>\n",
       "    </tr>\n",
       "    <tr>\n",
       "      <th>16507</th>\n",
       "      <td>11798.0</td>\n",
       "      <td>-121.22</td>\n",
       "      <td>38.92</td>\n",
       "      <td>19.0</td>\n",
       "      <td>2531.0</td>\n",
       "      <td>461.0</td>\n",
       "      <td>1206.0</td>\n",
       "      <td>429.0</td>\n",
       "      <td>4.4958</td>\n",
       "      <td>0.0</td>\n",
       "      <td>1.0</td>\n",
       "      <td>0.0</td>\n",
       "      <td>0.0</td>\n",
       "      <td>0.0</td>\n",
       "      <td>192600.0</td>\n",
       "    </tr>\n",
       "    <tr>\n",
       "      <th>16508</th>\n",
       "      <td>6637.0</td>\n",
       "      <td>-118.14</td>\n",
       "      <td>34.16</td>\n",
       "      <td>39.0</td>\n",
       "      <td>2776.0</td>\n",
       "      <td>840.0</td>\n",
       "      <td>2546.0</td>\n",
       "      <td>773.0</td>\n",
       "      <td>2.5750</td>\n",
       "      <td>1.0</td>\n",
       "      <td>0.0</td>\n",
       "      <td>0.0</td>\n",
       "      <td>0.0</td>\n",
       "      <td>0.0</td>\n",
       "      <td>153500.0</td>\n",
       "    </tr>\n",
       "    <tr>\n",
       "      <th>16509</th>\n",
       "      <td>2575.0</td>\n",
       "      <td>-124.13</td>\n",
       "      <td>40.80</td>\n",
       "      <td>31.0</td>\n",
       "      <td>2152.0</td>\n",
       "      <td>462.0</td>\n",
       "      <td>1259.0</td>\n",
       "      <td>420.0</td>\n",
       "      <td>2.2478</td>\n",
       "      <td>0.0</td>\n",
       "      <td>0.0</td>\n",
       "      <td>0.0</td>\n",
       "      <td>0.0</td>\n",
       "      <td>1.0</td>\n",
       "      <td>81100.0</td>\n",
       "    </tr>\n",
       "  </tbody>\n",
       "</table>\n",
       "<p>16510 rows × 15 columns</p>\n",
       "</div>"
      ],
      "text/plain": [
       "         index  longitude  latitude  housing_median_age  total_rooms  \\\n",
       "0       2072.0    -119.84     36.77                 6.0       1853.0   \n",
       "1      10600.0    -117.80     33.68                 8.0       2032.0   \n",
       "2       2494.0    -120.19     36.60                25.0        875.0   \n",
       "3       4284.0    -118.32     34.10                31.0        622.0   \n",
       "4      16541.0    -121.23     37.79                21.0       1922.0   \n",
       "...        ...        ...       ...                 ...          ...   \n",
       "16505   1099.0    -121.90     39.59                20.0       1465.0   \n",
       "16506  18898.0    -122.25     38.11                49.0       2365.0   \n",
       "16507  11798.0    -121.22     38.92                19.0       2531.0   \n",
       "16508   6637.0    -118.14     34.16                39.0       2776.0   \n",
       "16509   2575.0    -124.13     40.80                31.0       2152.0   \n",
       "\n",
       "       total_bedrooms  population  households  median_income  \\\n",
       "0               473.0      1397.0       417.0         1.4817   \n",
       "1               349.0       862.0       340.0         6.9133   \n",
       "2               214.0       931.0       214.0         1.5536   \n",
       "3               229.0       597.0       227.0         1.5284   \n",
       "4               373.0      1130.0       372.0         4.0815   \n",
       "...               ...         ...         ...            ...   \n",
       "16505           278.0       745.0       250.0         3.0625   \n",
       "16506           504.0      1131.0       458.0         2.6133   \n",
       "16507           461.0      1206.0       429.0         4.4958   \n",
       "16508           840.0      2546.0       773.0         2.5750   \n",
       "16509           462.0      1259.0       420.0         2.2478   \n",
       "\n",
       "       ocean_proximity_<1H OCEAN  ocean_proximity_INLAND  \\\n",
       "0                            0.0                     1.0   \n",
       "1                            1.0                     0.0   \n",
       "2                            0.0                     1.0   \n",
       "3                            1.0                     0.0   \n",
       "4                            0.0                     1.0   \n",
       "...                          ...                     ...   \n",
       "16505                        0.0                     1.0   \n",
       "16506                        0.0                     0.0   \n",
       "16507                        0.0                     1.0   \n",
       "16508                        1.0                     0.0   \n",
       "16509                        0.0                     0.0   \n",
       "\n",
       "       ocean_proximity_ISLAND  ocean_proximity_NEAR BAY  \\\n",
       "0                         0.0                       0.0   \n",
       "1                         0.0                       0.0   \n",
       "2                         0.0                       0.0   \n",
       "3                         0.0                       0.0   \n",
       "4                         0.0                       0.0   \n",
       "...                       ...                       ...   \n",
       "16505                     0.0                       0.0   \n",
       "16506                     0.0                       1.0   \n",
       "16507                     0.0                       0.0   \n",
       "16508                     0.0                       0.0   \n",
       "16509                     0.0                       0.0   \n",
       "\n",
       "       ocean_proximity_NEAR OCEAN  median_house_value  \n",
       "0                             0.0             72000.0  \n",
       "1                             0.0            274100.0  \n",
       "2                             0.0             58300.0  \n",
       "3                             0.0            200000.0  \n",
       "4                             0.0            117900.0  \n",
       "...                           ...                 ...  \n",
       "16505                         0.0             93800.0  \n",
       "16506                         0.0            103100.0  \n",
       "16507                         0.0            192600.0  \n",
       "16508                         0.0            153500.0  \n",
       "16509                         1.0             81100.0  \n",
       "\n",
       "[16510 rows x 15 columns]"
      ]
     },
     "execution_count": 849,
     "metadata": {},
     "output_type": "execute_result"
    }
   ],
   "source": [
    "immo_df6 = pd.read_csv(\"immo_iteration6.csv\")\n",
    "immo_df6"
   ]
  },
  {
   "cell_type": "code",
   "execution_count": 850,
   "id": "49981911",
   "metadata": {},
   "outputs": [
    {
     "data": {
      "text/plain": [
       "'y = immo_df6[\"median_house_value\"]\\nX = immo_df6.copy()'"
      ]
     },
     "execution_count": 850,
     "metadata": {},
     "output_type": "execute_result"
    }
   ],
   "source": [
    "'''y = immo_df6[\"median_house_value\"]\n",
    "X = immo_df6.copy()'''"
   ]
  },
  {
   "cell_type": "code",
   "execution_count": 851,
   "id": "8483c46d",
   "metadata": {
    "scrolled": false
   },
   "outputs": [
    {
     "data": {
      "text/plain": [
       "'X= X.drop(\"median_house_value\", axis=1)\\nX'"
      ]
     },
     "execution_count": 851,
     "metadata": {},
     "output_type": "execute_result"
    }
   ],
   "source": [
    "'''X= X.drop(\"median_house_value\", axis=1)\n",
    "X'''"
   ]
  },
  {
   "cell_type": "markdown",
   "id": "d9dc4841",
   "metadata": {},
   "source": [
    "## Linear Regression"
   ]
  },
  {
   "cell_type": "code",
   "execution_count": 852,
   "id": "5a7c5dab",
   "metadata": {},
   "outputs": [
    {
     "data": {
      "text/plain": [
       "'X_train, X_test, y_train, y_test = train_test_split(X, y, test_size=.3, random_state=1)\\n\\nmodel = LinearRegression()\\n\\nmodel.fit(X_train, y_train)\\n\\nmodel.score(X_test, y_test)'"
      ]
     },
     "execution_count": 852,
     "metadata": {},
     "output_type": "execute_result"
    }
   ],
   "source": [
    "'''X_train, X_test, y_train, y_test = train_test_split(X, y, test_size=.3, random_state=1)\n",
    "\n",
    "model = LinearRegression()\n",
    "\n",
    "model.fit(X_train, y_train)\n",
    "\n",
    "model.score(X_test, y_test)'''"
   ]
  },
  {
   "cell_type": "code",
   "execution_count": 853,
   "id": "16326cf6",
   "metadata": {},
   "outputs": [
    {
     "data": {
      "text/plain": [
       "'y_predicted = model.predict(X_test)'"
      ]
     },
     "execution_count": 853,
     "metadata": {},
     "output_type": "execute_result"
    }
   ],
   "source": [
    "'''y_predicted = model.predict(X_test)'''"
   ]
  },
  {
   "cell_type": "code",
   "execution_count": 854,
   "id": "75a04800",
   "metadata": {},
   "outputs": [
    {
     "data": {
      "text/plain": [
       "\"fig, ax = plt.subplots()\\nax.scatter(y_predicted, y_test, edgecolors=(0, 0, 1))\\nax.plot([y_test.min(), y_test.max()], [y_test.min(), y_test.max()], 'r--', lw=3)\\nax.set_xlabel('Predicted')\\nax.set_ylabel('Actual')\\nplt.show()\""
      ]
     },
     "execution_count": 854,
     "metadata": {},
     "output_type": "execute_result"
    }
   ],
   "source": [
    "'''fig, ax = plt.subplots()\n",
    "ax.scatter(y_predicted, y_test, edgecolors=(0, 0, 1))\n",
    "ax.plot([y_test.min(), y_test.max()], [y_test.min(), y_test.max()], 'r--', lw=3)\n",
    "ax.set_xlabel('Predicted')\n",
    "ax.set_ylabel('Actual')\n",
    "plt.show()'''"
   ]
  },
  {
   "cell_type": "code",
   "execution_count": 855,
   "id": "59f239f6",
   "metadata": {},
   "outputs": [
    {
     "data": {
      "text/plain": [
       "'mae = metrics.mean_absolute_error(y_test, y_predicted)\\nrmse = np.sqrt(metrics.mean_squared_error(y_test, y_predicted))\\nr2 = metrics.r2_score(y_test, y_predicted)\\n\\nprint(\"The model performance for testing set\")\\nprint(\"--------------------------------------\")\\nprint(\\'MAE is {}\\'.format(mae))\\nprint(\\'RMSE is {}\\'.format(rmse))\\nprint(\\'R2 score is {}\\'.format(r2))'"
      ]
     },
     "execution_count": 855,
     "metadata": {},
     "output_type": "execute_result"
    }
   ],
   "source": [
    "'''mae = metrics.mean_absolute_error(y_test, y_predicted)\n",
    "rmse = np.sqrt(metrics.mean_squared_error(y_test, y_predicted))\n",
    "r2 = metrics.r2_score(y_test, y_predicted)\n",
    "\n",
    "print(\"The model performance for testing set\")\n",
    "print(\"--------------------------------------\")\n",
    "print('MAE is {}'.format(mae))\n",
    "print('RMSE is {}'.format(rmse))\n",
    "print('R2 score is {}'.format(r2))'''"
   ]
  },
  {
   "cell_type": "markdown",
   "id": "d2c95cf2",
   "metadata": {},
   "source": [
    "## Cross validation"
   ]
  },
  {
   "cell_type": "code",
   "execution_count": 856,
   "id": "5b8dc796",
   "metadata": {},
   "outputs": [
    {
     "data": {
      "text/plain": [
       "'scores = cross_validate(model, X, y, cv=5, scoring=(\\'r2\\', \\'neg_root_mean_squared_error\\',\\'neg_mean_absolute_error\\'))\\n\\naverage_r2 = scores[\\'test_r2\\'].mean()\\naverage_rmse = -scores[\\'test_neg_root_mean_squared_error\\'].mean()\\naverage_mae = -scores[\\'test_neg_mean_absolute_error\\'].mean()\\nprint(\"The model performance for testing set\")\\nprint(\"--------------------------------------\")\\nprint(\\'Average MAE:\\', average_mae)\\nprint(\\' Average RMSE: \\', average_rmse)\\nprint(\"Average R2: \", average_r2)'"
      ]
     },
     "execution_count": 856,
     "metadata": {},
     "output_type": "execute_result"
    }
   ],
   "source": [
    "'''scores = cross_validate(model, X, y, cv=5, scoring=('r2', 'neg_root_mean_squared_error','neg_mean_absolute_error'))\n",
    "\n",
    "average_r2 = scores['test_r2'].mean()\n",
    "average_rmse = -scores['test_neg_root_mean_squared_error'].mean()\n",
    "average_mae = -scores['test_neg_mean_absolute_error'].mean()\n",
    "print(\"The model performance for testing set\")\n",
    "print(\"--------------------------------------\")\n",
    "print('Average MAE:', average_mae)\n",
    "print(' Average RMSE: ', average_rmse)\n",
    "print(\"Average R2: \", average_r2)'''\n"
   ]
  },
  {
   "cell_type": "markdown",
   "id": "16c4f618",
   "metadata": {},
   "source": [
    "# 7 model de regression lineaire"
   ]
  },
  {
   "cell_type": "code",
   "execution_count": 857,
   "id": "4f4519e3",
   "metadata": {
    "scrolled": true
   },
   "outputs": [
    {
     "data": {
      "text/html": [
       "<div>\n",
       "<style scoped>\n",
       "    .dataframe tbody tr th:only-of-type {\n",
       "        vertical-align: middle;\n",
       "    }\n",
       "\n",
       "    .dataframe tbody tr th {\n",
       "        vertical-align: top;\n",
       "    }\n",
       "\n",
       "    .dataframe thead th {\n",
       "        text-align: right;\n",
       "    }\n",
       "</style>\n",
       "<table border=\"1\" class=\"dataframe\">\n",
       "  <thead>\n",
       "    <tr style=\"text-align: right;\">\n",
       "      <th></th>\n",
       "      <th>index</th>\n",
       "      <th>latitude</th>\n",
       "      <th>housing_median_age</th>\n",
       "      <th>total_rooms</th>\n",
       "      <th>total_bedrooms</th>\n",
       "      <th>population</th>\n",
       "      <th>households</th>\n",
       "      <th>median_income</th>\n",
       "      <th>ocean_proximity_&lt;1H OCEAN</th>\n",
       "      <th>ocean_proximity_INLAND</th>\n",
       "      <th>ocean_proximity_ISLAND</th>\n",
       "      <th>ocean_proximity_NEAR BAY</th>\n",
       "      <th>ocean_proximity_NEAR OCEAN</th>\n",
       "      <th>median_house_value</th>\n",
       "    </tr>\n",
       "  </thead>\n",
       "  <tbody>\n",
       "    <tr>\n",
       "      <th>0</th>\n",
       "      <td>2072.0</td>\n",
       "      <td>36.77</td>\n",
       "      <td>6.0</td>\n",
       "      <td>1853.0</td>\n",
       "      <td>473.0</td>\n",
       "      <td>1397.0</td>\n",
       "      <td>417.0</td>\n",
       "      <td>1.4817</td>\n",
       "      <td>0.0</td>\n",
       "      <td>1.0</td>\n",
       "      <td>0.0</td>\n",
       "      <td>0.0</td>\n",
       "      <td>0.0</td>\n",
       "      <td>72000.0</td>\n",
       "    </tr>\n",
       "    <tr>\n",
       "      <th>1</th>\n",
       "      <td>10600.0</td>\n",
       "      <td>33.68</td>\n",
       "      <td>8.0</td>\n",
       "      <td>2032.0</td>\n",
       "      <td>349.0</td>\n",
       "      <td>862.0</td>\n",
       "      <td>340.0</td>\n",
       "      <td>6.9133</td>\n",
       "      <td>1.0</td>\n",
       "      <td>0.0</td>\n",
       "      <td>0.0</td>\n",
       "      <td>0.0</td>\n",
       "      <td>0.0</td>\n",
       "      <td>274100.0</td>\n",
       "    </tr>\n",
       "    <tr>\n",
       "      <th>2</th>\n",
       "      <td>2494.0</td>\n",
       "      <td>36.60</td>\n",
       "      <td>25.0</td>\n",
       "      <td>875.0</td>\n",
       "      <td>214.0</td>\n",
       "      <td>931.0</td>\n",
       "      <td>214.0</td>\n",
       "      <td>1.5536</td>\n",
       "      <td>0.0</td>\n",
       "      <td>1.0</td>\n",
       "      <td>0.0</td>\n",
       "      <td>0.0</td>\n",
       "      <td>0.0</td>\n",
       "      <td>58300.0</td>\n",
       "    </tr>\n",
       "    <tr>\n",
       "      <th>3</th>\n",
       "      <td>4284.0</td>\n",
       "      <td>34.10</td>\n",
       "      <td>31.0</td>\n",
       "      <td>622.0</td>\n",
       "      <td>229.0</td>\n",
       "      <td>597.0</td>\n",
       "      <td>227.0</td>\n",
       "      <td>1.5284</td>\n",
       "      <td>1.0</td>\n",
       "      <td>0.0</td>\n",
       "      <td>0.0</td>\n",
       "      <td>0.0</td>\n",
       "      <td>0.0</td>\n",
       "      <td>200000.0</td>\n",
       "    </tr>\n",
       "    <tr>\n",
       "      <th>4</th>\n",
       "      <td>16541.0</td>\n",
       "      <td>37.79</td>\n",
       "      <td>21.0</td>\n",
       "      <td>1922.0</td>\n",
       "      <td>373.0</td>\n",
       "      <td>1130.0</td>\n",
       "      <td>372.0</td>\n",
       "      <td>4.0815</td>\n",
       "      <td>0.0</td>\n",
       "      <td>1.0</td>\n",
       "      <td>0.0</td>\n",
       "      <td>0.0</td>\n",
       "      <td>0.0</td>\n",
       "      <td>117900.0</td>\n",
       "    </tr>\n",
       "    <tr>\n",
       "      <th>...</th>\n",
       "      <td>...</td>\n",
       "      <td>...</td>\n",
       "      <td>...</td>\n",
       "      <td>...</td>\n",
       "      <td>...</td>\n",
       "      <td>...</td>\n",
       "      <td>...</td>\n",
       "      <td>...</td>\n",
       "      <td>...</td>\n",
       "      <td>...</td>\n",
       "      <td>...</td>\n",
       "      <td>...</td>\n",
       "      <td>...</td>\n",
       "      <td>...</td>\n",
       "    </tr>\n",
       "    <tr>\n",
       "      <th>16505</th>\n",
       "      <td>1099.0</td>\n",
       "      <td>39.59</td>\n",
       "      <td>20.0</td>\n",
       "      <td>1465.0</td>\n",
       "      <td>278.0</td>\n",
       "      <td>745.0</td>\n",
       "      <td>250.0</td>\n",
       "      <td>3.0625</td>\n",
       "      <td>0.0</td>\n",
       "      <td>1.0</td>\n",
       "      <td>0.0</td>\n",
       "      <td>0.0</td>\n",
       "      <td>0.0</td>\n",
       "      <td>93800.0</td>\n",
       "    </tr>\n",
       "    <tr>\n",
       "      <th>16506</th>\n",
       "      <td>18898.0</td>\n",
       "      <td>38.11</td>\n",
       "      <td>49.0</td>\n",
       "      <td>2365.0</td>\n",
       "      <td>504.0</td>\n",
       "      <td>1131.0</td>\n",
       "      <td>458.0</td>\n",
       "      <td>2.6133</td>\n",
       "      <td>0.0</td>\n",
       "      <td>0.0</td>\n",
       "      <td>0.0</td>\n",
       "      <td>1.0</td>\n",
       "      <td>0.0</td>\n",
       "      <td>103100.0</td>\n",
       "    </tr>\n",
       "    <tr>\n",
       "      <th>16507</th>\n",
       "      <td>11798.0</td>\n",
       "      <td>38.92</td>\n",
       "      <td>19.0</td>\n",
       "      <td>2531.0</td>\n",
       "      <td>461.0</td>\n",
       "      <td>1206.0</td>\n",
       "      <td>429.0</td>\n",
       "      <td>4.4958</td>\n",
       "      <td>0.0</td>\n",
       "      <td>1.0</td>\n",
       "      <td>0.0</td>\n",
       "      <td>0.0</td>\n",
       "      <td>0.0</td>\n",
       "      <td>192600.0</td>\n",
       "    </tr>\n",
       "    <tr>\n",
       "      <th>16508</th>\n",
       "      <td>6637.0</td>\n",
       "      <td>34.16</td>\n",
       "      <td>39.0</td>\n",
       "      <td>2776.0</td>\n",
       "      <td>840.0</td>\n",
       "      <td>2546.0</td>\n",
       "      <td>773.0</td>\n",
       "      <td>2.5750</td>\n",
       "      <td>1.0</td>\n",
       "      <td>0.0</td>\n",
       "      <td>0.0</td>\n",
       "      <td>0.0</td>\n",
       "      <td>0.0</td>\n",
       "      <td>153500.0</td>\n",
       "    </tr>\n",
       "    <tr>\n",
       "      <th>16509</th>\n",
       "      <td>2575.0</td>\n",
       "      <td>40.80</td>\n",
       "      <td>31.0</td>\n",
       "      <td>2152.0</td>\n",
       "      <td>462.0</td>\n",
       "      <td>1259.0</td>\n",
       "      <td>420.0</td>\n",
       "      <td>2.2478</td>\n",
       "      <td>0.0</td>\n",
       "      <td>0.0</td>\n",
       "      <td>0.0</td>\n",
       "      <td>0.0</td>\n",
       "      <td>1.0</td>\n",
       "      <td>81100.0</td>\n",
       "    </tr>\n",
       "  </tbody>\n",
       "</table>\n",
       "<p>16510 rows × 14 columns</p>\n",
       "</div>"
      ],
      "text/plain": [
       "         index  latitude  housing_median_age  total_rooms  total_bedrooms  \\\n",
       "0       2072.0     36.77                 6.0       1853.0           473.0   \n",
       "1      10600.0     33.68                 8.0       2032.0           349.0   \n",
       "2       2494.0     36.60                25.0        875.0           214.0   \n",
       "3       4284.0     34.10                31.0        622.0           229.0   \n",
       "4      16541.0     37.79                21.0       1922.0           373.0   \n",
       "...        ...       ...                 ...          ...             ...   \n",
       "16505   1099.0     39.59                20.0       1465.0           278.0   \n",
       "16506  18898.0     38.11                49.0       2365.0           504.0   \n",
       "16507  11798.0     38.92                19.0       2531.0           461.0   \n",
       "16508   6637.0     34.16                39.0       2776.0           840.0   \n",
       "16509   2575.0     40.80                31.0       2152.0           462.0   \n",
       "\n",
       "       population  households  median_income  ocean_proximity_<1H OCEAN  \\\n",
       "0          1397.0       417.0         1.4817                        0.0   \n",
       "1           862.0       340.0         6.9133                        1.0   \n",
       "2           931.0       214.0         1.5536                        0.0   \n",
       "3           597.0       227.0         1.5284                        1.0   \n",
       "4          1130.0       372.0         4.0815                        0.0   \n",
       "...           ...         ...            ...                        ...   \n",
       "16505       745.0       250.0         3.0625                        0.0   \n",
       "16506      1131.0       458.0         2.6133                        0.0   \n",
       "16507      1206.0       429.0         4.4958                        0.0   \n",
       "16508      2546.0       773.0         2.5750                        1.0   \n",
       "16509      1259.0       420.0         2.2478                        0.0   \n",
       "\n",
       "       ocean_proximity_INLAND  ocean_proximity_ISLAND  \\\n",
       "0                         1.0                     0.0   \n",
       "1                         0.0                     0.0   \n",
       "2                         1.0                     0.0   \n",
       "3                         0.0                     0.0   \n",
       "4                         1.0                     0.0   \n",
       "...                       ...                     ...   \n",
       "16505                     1.0                     0.0   \n",
       "16506                     0.0                     0.0   \n",
       "16507                     1.0                     0.0   \n",
       "16508                     0.0                     0.0   \n",
       "16509                     0.0                     0.0   \n",
       "\n",
       "       ocean_proximity_NEAR BAY  ocean_proximity_NEAR OCEAN  \\\n",
       "0                           0.0                         0.0   \n",
       "1                           0.0                         0.0   \n",
       "2                           0.0                         0.0   \n",
       "3                           0.0                         0.0   \n",
       "4                           0.0                         0.0   \n",
       "...                         ...                         ...   \n",
       "16505                       0.0                         0.0   \n",
       "16506                       1.0                         0.0   \n",
       "16507                       0.0                         0.0   \n",
       "16508                       0.0                         0.0   \n",
       "16509                       0.0                         1.0   \n",
       "\n",
       "       median_house_value  \n",
       "0                 72000.0  \n",
       "1                274100.0  \n",
       "2                 58300.0  \n",
       "3                200000.0  \n",
       "4                117900.0  \n",
       "...                   ...  \n",
       "16505             93800.0  \n",
       "16506            103100.0  \n",
       "16507            192600.0  \n",
       "16508            153500.0  \n",
       "16509             81100.0  \n",
       "\n",
       "[16510 rows x 14 columns]"
      ]
     },
     "execution_count": 857,
     "metadata": {},
     "output_type": "execute_result"
    }
   ],
   "source": [
    "immo_df7 = pd.read_csv(\"immo_iteration7.csv\")\n",
    "immo_df7"
   ]
  },
  {
   "cell_type": "code",
   "execution_count": 858,
   "id": "76fa1d7f",
   "metadata": {},
   "outputs": [
    {
     "data": {
      "text/plain": [
       "'y = immo_df7[\"median_house_value\"]\\nX = immo_df7.copy()'"
      ]
     },
     "execution_count": 858,
     "metadata": {},
     "output_type": "execute_result"
    }
   ],
   "source": [
    "'''y = immo_df7[\"median_house_value\"]\n",
    "X = immo_df7.copy()'''"
   ]
  },
  {
   "cell_type": "code",
   "execution_count": 859,
   "id": "061fdf93",
   "metadata": {
    "scrolled": false
   },
   "outputs": [
    {
     "data": {
      "text/plain": [
       "'X= X.drop(\"median_house_value\", axis=1)\\nX'"
      ]
     },
     "execution_count": 859,
     "metadata": {},
     "output_type": "execute_result"
    }
   ],
   "source": [
    "'''X= X.drop(\"median_house_value\", axis=1)\n",
    "X'''"
   ]
  },
  {
   "cell_type": "markdown",
   "id": "a44a318c",
   "metadata": {},
   "source": [
    "## Linear Regression"
   ]
  },
  {
   "cell_type": "code",
   "execution_count": 860,
   "id": "23693284",
   "metadata": {},
   "outputs": [
    {
     "data": {
      "text/plain": [
       "'X_train, X_test, y_train, y_test = train_test_split(X, y, test_size=.3, random_state=1)\\n\\nmodel = LinearRegression()\\n\\nmodel.fit(X_train, y_train)\\n\\nmodel.score(X_test, y_test)'"
      ]
     },
     "execution_count": 860,
     "metadata": {},
     "output_type": "execute_result"
    }
   ],
   "source": [
    "'''X_train, X_test, y_train, y_test = train_test_split(X, y, test_size=.3, random_state=1)\n",
    "\n",
    "model = LinearRegression()\n",
    "\n",
    "model.fit(X_train, y_train)\n",
    "\n",
    "model.score(X_test, y_test)'''"
   ]
  },
  {
   "cell_type": "code",
   "execution_count": 861,
   "id": "e8f545d9",
   "metadata": {},
   "outputs": [
    {
     "data": {
      "text/plain": [
       "'y_predicted = model.predict(X_test)'"
      ]
     },
     "execution_count": 861,
     "metadata": {},
     "output_type": "execute_result"
    }
   ],
   "source": [
    "'''y_predicted = model.predict(X_test)'''"
   ]
  },
  {
   "cell_type": "code",
   "execution_count": 862,
   "id": "fdee294a",
   "metadata": {},
   "outputs": [
    {
     "data": {
      "text/plain": [
       "\"fig, ax = plt.subplots()\\nax.scatter(y_predicted, y_test, edgecolors=(0, 0, 1))\\nax.plot([y_test.min(), y_test.max()], [y_test.min(), y_test.max()], 'r--', lw=3)\\nax.set_xlabel('Predicted')\\nax.set_ylabel('Actual')\\nplt.show()\""
      ]
     },
     "execution_count": 862,
     "metadata": {},
     "output_type": "execute_result"
    }
   ],
   "source": [
    "'''fig, ax = plt.subplots()\n",
    "ax.scatter(y_predicted, y_test, edgecolors=(0, 0, 1))\n",
    "ax.plot([y_test.min(), y_test.max()], [y_test.min(), y_test.max()], 'r--', lw=3)\n",
    "ax.set_xlabel('Predicted')\n",
    "ax.set_ylabel('Actual')\n",
    "plt.show()'''"
   ]
  },
  {
   "cell_type": "code",
   "execution_count": 863,
   "id": "b05b6e56",
   "metadata": {},
   "outputs": [
    {
     "data": {
      "text/plain": [
       "'mae = metrics.mean_absolute_error(y_test, y_predicted)\\nrmse = np.sqrt(metrics.mean_squared_error(y_test, y_predicted))\\nr2 = metrics.r2_score(y_test, y_predicted)\\n\\nprint(\"The model performance for testing set\")\\nprint(\"--------------------------------------\")\\nprint(\\'MAE is {}\\'.format(mae))\\nprint(\\'RMSE is {}\\'.format(rmse))\\nprint(\\'R2 score is {}\\'.format(r2))'"
      ]
     },
     "execution_count": 863,
     "metadata": {},
     "output_type": "execute_result"
    }
   ],
   "source": [
    "'''mae = metrics.mean_absolute_error(y_test, y_predicted)\n",
    "rmse = np.sqrt(metrics.mean_squared_error(y_test, y_predicted))\n",
    "r2 = metrics.r2_score(y_test, y_predicted)\n",
    "\n",
    "print(\"The model performance for testing set\")\n",
    "print(\"--------------------------------------\")\n",
    "print('MAE is {}'.format(mae))\n",
    "print('RMSE is {}'.format(rmse))\n",
    "print('R2 score is {}'.format(r2))'''"
   ]
  },
  {
   "cell_type": "markdown",
   "id": "9059afb4",
   "metadata": {},
   "source": [
    "## Cross validation"
   ]
  },
  {
   "cell_type": "code",
   "execution_count": 864,
   "id": "c65365aa",
   "metadata": {},
   "outputs": [
    {
     "data": {
      "text/plain": [
       "'scores = cross_validate(model, X, y, cv=5, scoring=(\\'r2\\', \\'neg_root_mean_squared_error\\',\\'neg_mean_absolute_error\\'))\\n\\naverage_r2 = scores[\\'test_r2\\'].mean()\\naverage_rmse = -scores[\\'test_neg_root_mean_squared_error\\'].mean()\\naverage_mae = -scores[\\'test_neg_mean_absolute_error\\'].mean()\\nprint(\"The model performance for testing set\")\\nprint(\"--------------------------------------\")\\nprint(\\'Average MAE:\\', average_mae)\\nprint(\\' Average RMSE: \\', average_rmse)\\nprint(\"Average R2: \", average_r2)\\n'"
      ]
     },
     "execution_count": 864,
     "metadata": {},
     "output_type": "execute_result"
    }
   ],
   "source": [
    "'''scores = cross_validate(model, X, y, cv=5, scoring=('r2', 'neg_root_mean_squared_error','neg_mean_absolute_error'))\n",
    "\n",
    "average_r2 = scores['test_r2'].mean()\n",
    "average_rmse = -scores['test_neg_root_mean_squared_error'].mean()\n",
    "average_mae = -scores['test_neg_mean_absolute_error'].mean()\n",
    "print(\"The model performance for testing set\")\n",
    "print(\"--------------------------------------\")\n",
    "print('Average MAE:', average_mae)\n",
    "print(' Average RMSE: ', average_rmse)\n",
    "print(\"Average R2: \", average_r2)\n",
    "'''"
   ]
  },
  {
   "cell_type": "markdown",
   "id": "7fe4bc75",
   "metadata": {},
   "source": [
    "# 8 model de regression lineaire"
   ]
  },
  {
   "cell_type": "code",
   "execution_count": 865,
   "id": "4e5b2dec",
   "metadata": {
    "scrolled": true
   },
   "outputs": [
    {
     "data": {
      "text/html": [
       "<div>\n",
       "<style scoped>\n",
       "    .dataframe tbody tr th:only-of-type {\n",
       "        vertical-align: middle;\n",
       "    }\n",
       "\n",
       "    .dataframe tbody tr th {\n",
       "        vertical-align: top;\n",
       "    }\n",
       "\n",
       "    .dataframe thead th {\n",
       "        text-align: right;\n",
       "    }\n",
       "</style>\n",
       "<table border=\"1\" class=\"dataframe\">\n",
       "  <thead>\n",
       "    <tr style=\"text-align: right;\">\n",
       "      <th></th>\n",
       "      <th>index</th>\n",
       "      <th>longitude</th>\n",
       "      <th>housing_median_age</th>\n",
       "      <th>total_rooms</th>\n",
       "      <th>total_bedrooms</th>\n",
       "      <th>population</th>\n",
       "      <th>households</th>\n",
       "      <th>median_income</th>\n",
       "      <th>ocean_proximity_&lt;1H OCEAN</th>\n",
       "      <th>ocean_proximity_INLAND</th>\n",
       "      <th>ocean_proximity_ISLAND</th>\n",
       "      <th>ocean_proximity_NEAR BAY</th>\n",
       "      <th>ocean_proximity_NEAR OCEAN</th>\n",
       "      <th>median_house_value</th>\n",
       "    </tr>\n",
       "  </thead>\n",
       "  <tbody>\n",
       "    <tr>\n",
       "      <th>0</th>\n",
       "      <td>2072.0</td>\n",
       "      <td>-119.84</td>\n",
       "      <td>6.0</td>\n",
       "      <td>1853.0</td>\n",
       "      <td>473.0</td>\n",
       "      <td>1397.0</td>\n",
       "      <td>417.0</td>\n",
       "      <td>1.4817</td>\n",
       "      <td>0.0</td>\n",
       "      <td>1.0</td>\n",
       "      <td>0.0</td>\n",
       "      <td>0.0</td>\n",
       "      <td>0.0</td>\n",
       "      <td>72000.0</td>\n",
       "    </tr>\n",
       "    <tr>\n",
       "      <th>1</th>\n",
       "      <td>10600.0</td>\n",
       "      <td>-117.80</td>\n",
       "      <td>8.0</td>\n",
       "      <td>2032.0</td>\n",
       "      <td>349.0</td>\n",
       "      <td>862.0</td>\n",
       "      <td>340.0</td>\n",
       "      <td>6.9133</td>\n",
       "      <td>1.0</td>\n",
       "      <td>0.0</td>\n",
       "      <td>0.0</td>\n",
       "      <td>0.0</td>\n",
       "      <td>0.0</td>\n",
       "      <td>274100.0</td>\n",
       "    </tr>\n",
       "    <tr>\n",
       "      <th>2</th>\n",
       "      <td>2494.0</td>\n",
       "      <td>-120.19</td>\n",
       "      <td>25.0</td>\n",
       "      <td>875.0</td>\n",
       "      <td>214.0</td>\n",
       "      <td>931.0</td>\n",
       "      <td>214.0</td>\n",
       "      <td>1.5536</td>\n",
       "      <td>0.0</td>\n",
       "      <td>1.0</td>\n",
       "      <td>0.0</td>\n",
       "      <td>0.0</td>\n",
       "      <td>0.0</td>\n",
       "      <td>58300.0</td>\n",
       "    </tr>\n",
       "    <tr>\n",
       "      <th>3</th>\n",
       "      <td>4284.0</td>\n",
       "      <td>-118.32</td>\n",
       "      <td>31.0</td>\n",
       "      <td>622.0</td>\n",
       "      <td>229.0</td>\n",
       "      <td>597.0</td>\n",
       "      <td>227.0</td>\n",
       "      <td>1.5284</td>\n",
       "      <td>1.0</td>\n",
       "      <td>0.0</td>\n",
       "      <td>0.0</td>\n",
       "      <td>0.0</td>\n",
       "      <td>0.0</td>\n",
       "      <td>200000.0</td>\n",
       "    </tr>\n",
       "    <tr>\n",
       "      <th>4</th>\n",
       "      <td>16541.0</td>\n",
       "      <td>-121.23</td>\n",
       "      <td>21.0</td>\n",
       "      <td>1922.0</td>\n",
       "      <td>373.0</td>\n",
       "      <td>1130.0</td>\n",
       "      <td>372.0</td>\n",
       "      <td>4.0815</td>\n",
       "      <td>0.0</td>\n",
       "      <td>1.0</td>\n",
       "      <td>0.0</td>\n",
       "      <td>0.0</td>\n",
       "      <td>0.0</td>\n",
       "      <td>117900.0</td>\n",
       "    </tr>\n",
       "    <tr>\n",
       "      <th>...</th>\n",
       "      <td>...</td>\n",
       "      <td>...</td>\n",
       "      <td>...</td>\n",
       "      <td>...</td>\n",
       "      <td>...</td>\n",
       "      <td>...</td>\n",
       "      <td>...</td>\n",
       "      <td>...</td>\n",
       "      <td>...</td>\n",
       "      <td>...</td>\n",
       "      <td>...</td>\n",
       "      <td>...</td>\n",
       "      <td>...</td>\n",
       "      <td>...</td>\n",
       "    </tr>\n",
       "    <tr>\n",
       "      <th>16505</th>\n",
       "      <td>1099.0</td>\n",
       "      <td>-121.90</td>\n",
       "      <td>20.0</td>\n",
       "      <td>1465.0</td>\n",
       "      <td>278.0</td>\n",
       "      <td>745.0</td>\n",
       "      <td>250.0</td>\n",
       "      <td>3.0625</td>\n",
       "      <td>0.0</td>\n",
       "      <td>1.0</td>\n",
       "      <td>0.0</td>\n",
       "      <td>0.0</td>\n",
       "      <td>0.0</td>\n",
       "      <td>93800.0</td>\n",
       "    </tr>\n",
       "    <tr>\n",
       "      <th>16506</th>\n",
       "      <td>18898.0</td>\n",
       "      <td>-122.25</td>\n",
       "      <td>49.0</td>\n",
       "      <td>2365.0</td>\n",
       "      <td>504.0</td>\n",
       "      <td>1131.0</td>\n",
       "      <td>458.0</td>\n",
       "      <td>2.6133</td>\n",
       "      <td>0.0</td>\n",
       "      <td>0.0</td>\n",
       "      <td>0.0</td>\n",
       "      <td>1.0</td>\n",
       "      <td>0.0</td>\n",
       "      <td>103100.0</td>\n",
       "    </tr>\n",
       "    <tr>\n",
       "      <th>16507</th>\n",
       "      <td>11798.0</td>\n",
       "      <td>-121.22</td>\n",
       "      <td>19.0</td>\n",
       "      <td>2531.0</td>\n",
       "      <td>461.0</td>\n",
       "      <td>1206.0</td>\n",
       "      <td>429.0</td>\n",
       "      <td>4.4958</td>\n",
       "      <td>0.0</td>\n",
       "      <td>1.0</td>\n",
       "      <td>0.0</td>\n",
       "      <td>0.0</td>\n",
       "      <td>0.0</td>\n",
       "      <td>192600.0</td>\n",
       "    </tr>\n",
       "    <tr>\n",
       "      <th>16508</th>\n",
       "      <td>6637.0</td>\n",
       "      <td>-118.14</td>\n",
       "      <td>39.0</td>\n",
       "      <td>2776.0</td>\n",
       "      <td>840.0</td>\n",
       "      <td>2546.0</td>\n",
       "      <td>773.0</td>\n",
       "      <td>2.5750</td>\n",
       "      <td>1.0</td>\n",
       "      <td>0.0</td>\n",
       "      <td>0.0</td>\n",
       "      <td>0.0</td>\n",
       "      <td>0.0</td>\n",
       "      <td>153500.0</td>\n",
       "    </tr>\n",
       "    <tr>\n",
       "      <th>16509</th>\n",
       "      <td>2575.0</td>\n",
       "      <td>-124.13</td>\n",
       "      <td>31.0</td>\n",
       "      <td>2152.0</td>\n",
       "      <td>462.0</td>\n",
       "      <td>1259.0</td>\n",
       "      <td>420.0</td>\n",
       "      <td>2.2478</td>\n",
       "      <td>0.0</td>\n",
       "      <td>0.0</td>\n",
       "      <td>0.0</td>\n",
       "      <td>0.0</td>\n",
       "      <td>1.0</td>\n",
       "      <td>81100.0</td>\n",
       "    </tr>\n",
       "  </tbody>\n",
       "</table>\n",
       "<p>16510 rows × 14 columns</p>\n",
       "</div>"
      ],
      "text/plain": [
       "         index  longitude  housing_median_age  total_rooms  total_bedrooms  \\\n",
       "0       2072.0    -119.84                 6.0       1853.0           473.0   \n",
       "1      10600.0    -117.80                 8.0       2032.0           349.0   \n",
       "2       2494.0    -120.19                25.0        875.0           214.0   \n",
       "3       4284.0    -118.32                31.0        622.0           229.0   \n",
       "4      16541.0    -121.23                21.0       1922.0           373.0   \n",
       "...        ...        ...                 ...          ...             ...   \n",
       "16505   1099.0    -121.90                20.0       1465.0           278.0   \n",
       "16506  18898.0    -122.25                49.0       2365.0           504.0   \n",
       "16507  11798.0    -121.22                19.0       2531.0           461.0   \n",
       "16508   6637.0    -118.14                39.0       2776.0           840.0   \n",
       "16509   2575.0    -124.13                31.0       2152.0           462.0   \n",
       "\n",
       "       population  households  median_income  ocean_proximity_<1H OCEAN  \\\n",
       "0          1397.0       417.0         1.4817                        0.0   \n",
       "1           862.0       340.0         6.9133                        1.0   \n",
       "2           931.0       214.0         1.5536                        0.0   \n",
       "3           597.0       227.0         1.5284                        1.0   \n",
       "4          1130.0       372.0         4.0815                        0.0   \n",
       "...           ...         ...            ...                        ...   \n",
       "16505       745.0       250.0         3.0625                        0.0   \n",
       "16506      1131.0       458.0         2.6133                        0.0   \n",
       "16507      1206.0       429.0         4.4958                        0.0   \n",
       "16508      2546.0       773.0         2.5750                        1.0   \n",
       "16509      1259.0       420.0         2.2478                        0.0   \n",
       "\n",
       "       ocean_proximity_INLAND  ocean_proximity_ISLAND  \\\n",
       "0                         1.0                     0.0   \n",
       "1                         0.0                     0.0   \n",
       "2                         1.0                     0.0   \n",
       "3                         0.0                     0.0   \n",
       "4                         1.0                     0.0   \n",
       "...                       ...                     ...   \n",
       "16505                     1.0                     0.0   \n",
       "16506                     0.0                     0.0   \n",
       "16507                     1.0                     0.0   \n",
       "16508                     0.0                     0.0   \n",
       "16509                     0.0                     0.0   \n",
       "\n",
       "       ocean_proximity_NEAR BAY  ocean_proximity_NEAR OCEAN  \\\n",
       "0                           0.0                         0.0   \n",
       "1                           0.0                         0.0   \n",
       "2                           0.0                         0.0   \n",
       "3                           0.0                         0.0   \n",
       "4                           0.0                         0.0   \n",
       "...                         ...                         ...   \n",
       "16505                       0.0                         0.0   \n",
       "16506                       1.0                         0.0   \n",
       "16507                       0.0                         0.0   \n",
       "16508                       0.0                         0.0   \n",
       "16509                       0.0                         1.0   \n",
       "\n",
       "       median_house_value  \n",
       "0                 72000.0  \n",
       "1                274100.0  \n",
       "2                 58300.0  \n",
       "3                200000.0  \n",
       "4                117900.0  \n",
       "...                   ...  \n",
       "16505             93800.0  \n",
       "16506            103100.0  \n",
       "16507            192600.0  \n",
       "16508            153500.0  \n",
       "16509             81100.0  \n",
       "\n",
       "[16510 rows x 14 columns]"
      ]
     },
     "execution_count": 865,
     "metadata": {},
     "output_type": "execute_result"
    }
   ],
   "source": [
    "immo_df8 = pd.read_csv(\"immo_iteration8.csv\")\n",
    "immo_df8"
   ]
  },
  {
   "cell_type": "code",
   "execution_count": 866,
   "id": "53fc815d",
   "metadata": {},
   "outputs": [
    {
     "data": {
      "text/plain": [
       "'y = immo_df8[\"median_house_value\"]\\nX = immo_df8.copy()'"
      ]
     },
     "execution_count": 866,
     "metadata": {},
     "output_type": "execute_result"
    }
   ],
   "source": [
    "'''y = immo_df8[\"median_house_value\"]\n",
    "X = immo_df8.copy()'''"
   ]
  },
  {
   "cell_type": "code",
   "execution_count": 867,
   "id": "768a3027",
   "metadata": {
    "scrolled": false
   },
   "outputs": [
    {
     "data": {
      "text/plain": [
       "'X= X.drop(\"median_house_value\", axis=1)\\nX'"
      ]
     },
     "execution_count": 867,
     "metadata": {},
     "output_type": "execute_result"
    }
   ],
   "source": [
    "'''X= X.drop(\"median_house_value\", axis=1)\n",
    "X'''"
   ]
  },
  {
   "cell_type": "markdown",
   "id": "a2a518ab",
   "metadata": {},
   "source": [
    "## Linear Regression"
   ]
  },
  {
   "cell_type": "code",
   "execution_count": 868,
   "id": "8accdc3c",
   "metadata": {},
   "outputs": [
    {
     "data": {
      "text/plain": [
       "'X_train, X_test, y_train, y_test = train_test_split(X, y, test_size=.3, random_state=1)\\n\\nmodel = LinearRegression()\\n\\nmodel.fit(X_train, y_train)\\n\\nmodel.score(X_test, y_test)'"
      ]
     },
     "execution_count": 868,
     "metadata": {},
     "output_type": "execute_result"
    }
   ],
   "source": [
    "'''X_train, X_test, y_train, y_test = train_test_split(X, y, test_size=.3, random_state=1)\n",
    "\n",
    "model = LinearRegression()\n",
    "\n",
    "model.fit(X_train, y_train)\n",
    "\n",
    "model.score(X_test, y_test)'''"
   ]
  },
  {
   "cell_type": "code",
   "execution_count": 869,
   "id": "04c7ebde",
   "metadata": {},
   "outputs": [
    {
     "data": {
      "text/plain": [
       "'y_predicted = model.predict(X_test)'"
      ]
     },
     "execution_count": 869,
     "metadata": {},
     "output_type": "execute_result"
    }
   ],
   "source": [
    "'''y_predicted = model.predict(X_test)'''"
   ]
  },
  {
   "cell_type": "code",
   "execution_count": 870,
   "id": "6d33a4a4",
   "metadata": {},
   "outputs": [
    {
     "data": {
      "text/plain": [
       "\"fig, ax = plt.subplots()\\nax.scatter(y_predicted, y_test, edgecolors=(0, 0, 1))\\nax.plot([y_test.min(), y_test.max()], [y_test.min(), y_test.max()], 'r--', lw=3)\\nax.set_xlabel('Predicted')\\nax.set_ylabel('Actual')\\nplt.show()\""
      ]
     },
     "execution_count": 870,
     "metadata": {},
     "output_type": "execute_result"
    }
   ],
   "source": [
    "'''fig, ax = plt.subplots()\n",
    "ax.scatter(y_predicted, y_test, edgecolors=(0, 0, 1))\n",
    "ax.plot([y_test.min(), y_test.max()], [y_test.min(), y_test.max()], 'r--', lw=3)\n",
    "ax.set_xlabel('Predicted')\n",
    "ax.set_ylabel('Actual')\n",
    "plt.show()'''"
   ]
  },
  {
   "cell_type": "code",
   "execution_count": 871,
   "id": "c1e6f896",
   "metadata": {},
   "outputs": [
    {
     "data": {
      "text/plain": [
       "'mae = metrics.mean_absolute_error(y_test, y_predicted)\\nrmse = np.sqrt(metrics.mean_squared_error(y_test, y_predicted))\\nr2 = metrics.r2_score(y_test, y_predicted)\\n\\nprint(\"The model performance for testing set\")\\nprint(\"--------------------------------------\")\\nprint(\\'MAE is {}\\'.format(mae))\\nprint(\\'RMSE is {}\\'.format(rmse))\\nprint(\\'R2 score is {}\\'.format(r2))'"
      ]
     },
     "execution_count": 871,
     "metadata": {},
     "output_type": "execute_result"
    }
   ],
   "source": [
    "'''mae = metrics.mean_absolute_error(y_test, y_predicted)\n",
    "rmse = np.sqrt(metrics.mean_squared_error(y_test, y_predicted))\n",
    "r2 = metrics.r2_score(y_test, y_predicted)\n",
    "\n",
    "print(\"The model performance for testing set\")\n",
    "print(\"--------------------------------------\")\n",
    "print('MAE is {}'.format(mae))\n",
    "print('RMSE is {}'.format(rmse))\n",
    "print('R2 score is {}'.format(r2))'''"
   ]
  },
  {
   "cell_type": "markdown",
   "id": "67f076f4",
   "metadata": {},
   "source": [
    "## Cross validation"
   ]
  },
  {
   "cell_type": "code",
   "execution_count": 872,
   "id": "1699135d",
   "metadata": {},
   "outputs": [
    {
     "data": {
      "text/plain": [
       "'scores = cross_validate(model, X, y, cv=5, scoring=(\\'r2\\', \\'neg_root_mean_squared_error\\',\\'neg_mean_absolute_error\\'))\\n\\naverage_r2 = scores[\\'test_r2\\'].mean()\\naverage_rmse = -scores[\\'test_neg_root_mean_squared_error\\'].mean()\\naverage_mae = -scores[\\'test_neg_mean_absolute_error\\'].mean()\\nprint(\"The model performance for testing set\")\\nprint(\"--------------------------------------\")\\nprint(\\'Average MAE:\\', average_mae)\\nprint(\\' Average RMSE: \\', average_rmse)\\nprint(\"Average R2: \", average_r2)'"
      ]
     },
     "execution_count": 872,
     "metadata": {},
     "output_type": "execute_result"
    }
   ],
   "source": [
    "'''scores = cross_validate(model, X, y, cv=5, scoring=('r2', 'neg_root_mean_squared_error','neg_mean_absolute_error'))\n",
    "\n",
    "average_r2 = scores['test_r2'].mean()\n",
    "average_rmse = -scores['test_neg_root_mean_squared_error'].mean()\n",
    "average_mae = -scores['test_neg_mean_absolute_error'].mean()\n",
    "print(\"The model performance for testing set\")\n",
    "print(\"--------------------------------------\")\n",
    "print('Average MAE:', average_mae)\n",
    "print(' Average RMSE: ', average_rmse)\n",
    "print(\"Average R2: \", average_r2)'''\n"
   ]
  },
  {
   "cell_type": "markdown",
   "id": "47e280ca",
   "metadata": {},
   "source": [
    "# 8 model de regression lineaire"
   ]
  },
  {
   "cell_type": "code",
   "execution_count": 873,
   "id": "77ab19fb",
   "metadata": {
    "scrolled": false
   },
   "outputs": [
    {
     "data": {
      "text/html": [
       "<div>\n",
       "<style scoped>\n",
       "    .dataframe tbody tr th:only-of-type {\n",
       "        vertical-align: middle;\n",
       "    }\n",
       "\n",
       "    .dataframe tbody tr th {\n",
       "        vertical-align: top;\n",
       "    }\n",
       "\n",
       "    .dataframe thead th {\n",
       "        text-align: right;\n",
       "    }\n",
       "</style>\n",
       "<table border=\"1\" class=\"dataframe\">\n",
       "  <thead>\n",
       "    <tr style=\"text-align: right;\">\n",
       "      <th></th>\n",
       "      <th>index</th>\n",
       "      <th>latitude</th>\n",
       "      <th>housing_median_age</th>\n",
       "      <th>population</th>\n",
       "      <th>median_income</th>\n",
       "      <th>ocean_proximity_&lt;1H OCEAN</th>\n",
       "      <th>ocean_proximity_INLAND</th>\n",
       "      <th>ocean_proximity_ISLAND</th>\n",
       "      <th>ocean_proximity_NEAR BAY</th>\n",
       "      <th>ocean_proximity_NEAR OCEAN</th>\n",
       "      <th>median_house_value</th>\n",
       "    </tr>\n",
       "  </thead>\n",
       "  <tbody>\n",
       "    <tr>\n",
       "      <th>0</th>\n",
       "      <td>2072.0</td>\n",
       "      <td>36.77</td>\n",
       "      <td>6.0</td>\n",
       "      <td>1397.0</td>\n",
       "      <td>1.4817</td>\n",
       "      <td>0.0</td>\n",
       "      <td>1.0</td>\n",
       "      <td>0.0</td>\n",
       "      <td>0.0</td>\n",
       "      <td>0.0</td>\n",
       "      <td>72000.0</td>\n",
       "    </tr>\n",
       "    <tr>\n",
       "      <th>1</th>\n",
       "      <td>10600.0</td>\n",
       "      <td>33.68</td>\n",
       "      <td>8.0</td>\n",
       "      <td>862.0</td>\n",
       "      <td>6.9133</td>\n",
       "      <td>1.0</td>\n",
       "      <td>0.0</td>\n",
       "      <td>0.0</td>\n",
       "      <td>0.0</td>\n",
       "      <td>0.0</td>\n",
       "      <td>274100.0</td>\n",
       "    </tr>\n",
       "    <tr>\n",
       "      <th>2</th>\n",
       "      <td>2494.0</td>\n",
       "      <td>36.60</td>\n",
       "      <td>25.0</td>\n",
       "      <td>931.0</td>\n",
       "      <td>1.5536</td>\n",
       "      <td>0.0</td>\n",
       "      <td>1.0</td>\n",
       "      <td>0.0</td>\n",
       "      <td>0.0</td>\n",
       "      <td>0.0</td>\n",
       "      <td>58300.0</td>\n",
       "    </tr>\n",
       "    <tr>\n",
       "      <th>3</th>\n",
       "      <td>4284.0</td>\n",
       "      <td>34.10</td>\n",
       "      <td>31.0</td>\n",
       "      <td>597.0</td>\n",
       "      <td>1.5284</td>\n",
       "      <td>1.0</td>\n",
       "      <td>0.0</td>\n",
       "      <td>0.0</td>\n",
       "      <td>0.0</td>\n",
       "      <td>0.0</td>\n",
       "      <td>200000.0</td>\n",
       "    </tr>\n",
       "    <tr>\n",
       "      <th>4</th>\n",
       "      <td>16541.0</td>\n",
       "      <td>37.79</td>\n",
       "      <td>21.0</td>\n",
       "      <td>1130.0</td>\n",
       "      <td>4.0815</td>\n",
       "      <td>0.0</td>\n",
       "      <td>1.0</td>\n",
       "      <td>0.0</td>\n",
       "      <td>0.0</td>\n",
       "      <td>0.0</td>\n",
       "      <td>117900.0</td>\n",
       "    </tr>\n",
       "    <tr>\n",
       "      <th>...</th>\n",
       "      <td>...</td>\n",
       "      <td>...</td>\n",
       "      <td>...</td>\n",
       "      <td>...</td>\n",
       "      <td>...</td>\n",
       "      <td>...</td>\n",
       "      <td>...</td>\n",
       "      <td>...</td>\n",
       "      <td>...</td>\n",
       "      <td>...</td>\n",
       "      <td>...</td>\n",
       "    </tr>\n",
       "    <tr>\n",
       "      <th>16505</th>\n",
       "      <td>1099.0</td>\n",
       "      <td>39.59</td>\n",
       "      <td>20.0</td>\n",
       "      <td>745.0</td>\n",
       "      <td>3.0625</td>\n",
       "      <td>0.0</td>\n",
       "      <td>1.0</td>\n",
       "      <td>0.0</td>\n",
       "      <td>0.0</td>\n",
       "      <td>0.0</td>\n",
       "      <td>93800.0</td>\n",
       "    </tr>\n",
       "    <tr>\n",
       "      <th>16506</th>\n",
       "      <td>18898.0</td>\n",
       "      <td>38.11</td>\n",
       "      <td>49.0</td>\n",
       "      <td>1131.0</td>\n",
       "      <td>2.6133</td>\n",
       "      <td>0.0</td>\n",
       "      <td>0.0</td>\n",
       "      <td>0.0</td>\n",
       "      <td>1.0</td>\n",
       "      <td>0.0</td>\n",
       "      <td>103100.0</td>\n",
       "    </tr>\n",
       "    <tr>\n",
       "      <th>16507</th>\n",
       "      <td>11798.0</td>\n",
       "      <td>38.92</td>\n",
       "      <td>19.0</td>\n",
       "      <td>1206.0</td>\n",
       "      <td>4.4958</td>\n",
       "      <td>0.0</td>\n",
       "      <td>1.0</td>\n",
       "      <td>0.0</td>\n",
       "      <td>0.0</td>\n",
       "      <td>0.0</td>\n",
       "      <td>192600.0</td>\n",
       "    </tr>\n",
       "    <tr>\n",
       "      <th>16508</th>\n",
       "      <td>6637.0</td>\n",
       "      <td>34.16</td>\n",
       "      <td>39.0</td>\n",
       "      <td>2546.0</td>\n",
       "      <td>2.5750</td>\n",
       "      <td>1.0</td>\n",
       "      <td>0.0</td>\n",
       "      <td>0.0</td>\n",
       "      <td>0.0</td>\n",
       "      <td>0.0</td>\n",
       "      <td>153500.0</td>\n",
       "    </tr>\n",
       "    <tr>\n",
       "      <th>16509</th>\n",
       "      <td>2575.0</td>\n",
       "      <td>40.80</td>\n",
       "      <td>31.0</td>\n",
       "      <td>1259.0</td>\n",
       "      <td>2.2478</td>\n",
       "      <td>0.0</td>\n",
       "      <td>0.0</td>\n",
       "      <td>0.0</td>\n",
       "      <td>0.0</td>\n",
       "      <td>1.0</td>\n",
       "      <td>81100.0</td>\n",
       "    </tr>\n",
       "  </tbody>\n",
       "</table>\n",
       "<p>16510 rows × 11 columns</p>\n",
       "</div>"
      ],
      "text/plain": [
       "         index  latitude  housing_median_age  population  median_income  \\\n",
       "0       2072.0     36.77                 6.0      1397.0         1.4817   \n",
       "1      10600.0     33.68                 8.0       862.0         6.9133   \n",
       "2       2494.0     36.60                25.0       931.0         1.5536   \n",
       "3       4284.0     34.10                31.0       597.0         1.5284   \n",
       "4      16541.0     37.79                21.0      1130.0         4.0815   \n",
       "...        ...       ...                 ...         ...            ...   \n",
       "16505   1099.0     39.59                20.0       745.0         3.0625   \n",
       "16506  18898.0     38.11                49.0      1131.0         2.6133   \n",
       "16507  11798.0     38.92                19.0      1206.0         4.4958   \n",
       "16508   6637.0     34.16                39.0      2546.0         2.5750   \n",
       "16509   2575.0     40.80                31.0      1259.0         2.2478   \n",
       "\n",
       "       ocean_proximity_<1H OCEAN  ocean_proximity_INLAND  \\\n",
       "0                            0.0                     1.0   \n",
       "1                            1.0                     0.0   \n",
       "2                            0.0                     1.0   \n",
       "3                            1.0                     0.0   \n",
       "4                            0.0                     1.0   \n",
       "...                          ...                     ...   \n",
       "16505                        0.0                     1.0   \n",
       "16506                        0.0                     0.0   \n",
       "16507                        0.0                     1.0   \n",
       "16508                        1.0                     0.0   \n",
       "16509                        0.0                     0.0   \n",
       "\n",
       "       ocean_proximity_ISLAND  ocean_proximity_NEAR BAY  \\\n",
       "0                         0.0                       0.0   \n",
       "1                         0.0                       0.0   \n",
       "2                         0.0                       0.0   \n",
       "3                         0.0                       0.0   \n",
       "4                         0.0                       0.0   \n",
       "...                       ...                       ...   \n",
       "16505                     0.0                       0.0   \n",
       "16506                     0.0                       1.0   \n",
       "16507                     0.0                       0.0   \n",
       "16508                     0.0                       0.0   \n",
       "16509                     0.0                       0.0   \n",
       "\n",
       "       ocean_proximity_NEAR OCEAN  median_house_value  \n",
       "0                             0.0             72000.0  \n",
       "1                             0.0            274100.0  \n",
       "2                             0.0             58300.0  \n",
       "3                             0.0            200000.0  \n",
       "4                             0.0            117900.0  \n",
       "...                           ...                 ...  \n",
       "16505                         0.0             93800.0  \n",
       "16506                         0.0            103100.0  \n",
       "16507                         0.0            192600.0  \n",
       "16508                         0.0            153500.0  \n",
       "16509                         1.0             81100.0  \n",
       "\n",
       "[16510 rows x 11 columns]"
      ]
     },
     "execution_count": 873,
     "metadata": {},
     "output_type": "execute_result"
    }
   ],
   "source": [
    "immo_df9 = pd.read_csv(\"immo_iteration9.csv\")\n",
    "immo_df9"
   ]
  },
  {
   "cell_type": "code",
   "execution_count": 874,
   "id": "c9245aeb",
   "metadata": {},
   "outputs": [
    {
     "data": {
      "text/plain": [
       "'y = immo_df9[\"median_house_value\"]\\nX = immo_df9.copy()'"
      ]
     },
     "execution_count": 874,
     "metadata": {},
     "output_type": "execute_result"
    }
   ],
   "source": [
    "'''y = immo_df9[\"median_house_value\"]\n",
    "X = immo_df9.copy()'''"
   ]
  },
  {
   "cell_type": "code",
   "execution_count": 875,
   "id": "58346716",
   "metadata": {
    "scrolled": false
   },
   "outputs": [
    {
     "data": {
      "text/plain": [
       "'X= X.drop(\"median_house_value\", axis=1)\\nX'"
      ]
     },
     "execution_count": 875,
     "metadata": {},
     "output_type": "execute_result"
    }
   ],
   "source": [
    "'''X= X.drop(\"median_house_value\", axis=1)\n",
    "X'''"
   ]
  },
  {
   "cell_type": "markdown",
   "id": "847000fb",
   "metadata": {},
   "source": [
    "## Linear Regression"
   ]
  },
  {
   "cell_type": "code",
   "execution_count": 876,
   "id": "c570225c",
   "metadata": {},
   "outputs": [
    {
     "data": {
      "text/plain": [
       "'X_train, X_test, y_train, y_test = train_test_split(X, y, test_size=.3, random_state=1)\\n\\nmodel = LinearRegression()\\n\\nmodel.fit(X_train, y_train)\\n\\nmodel.score(X_test, y_test)'"
      ]
     },
     "execution_count": 876,
     "metadata": {},
     "output_type": "execute_result"
    }
   ],
   "source": [
    "'''X_train, X_test, y_train, y_test = train_test_split(X, y, test_size=.3, random_state=1)\n",
    "\n",
    "model = LinearRegression()\n",
    "\n",
    "model.fit(X_train, y_train)\n",
    "\n",
    "model.score(X_test, y_test)'''"
   ]
  },
  {
   "cell_type": "code",
   "execution_count": 877,
   "id": "a35bebbc",
   "metadata": {},
   "outputs": [],
   "source": [
    "y_predicted = model.predict(X_test)"
   ]
  },
  {
   "cell_type": "code",
   "execution_count": 878,
   "id": "3aaf7747",
   "metadata": {},
   "outputs": [
    {
     "data": {
      "text/plain": [
       "\"fig, ax = plt.subplots()\\nax.scatter(y_predicted, y_test, edgecolors=(0, 0, 1))\\nax.plot([y_test.min(), y_test.max()], [y_test.min(), y_test.max()], 'r--', lw=3)\\nax.set_xlabel('Predicted')\\nax.set_ylabel('Actual')\\nplt.show()\""
      ]
     },
     "execution_count": 878,
     "metadata": {},
     "output_type": "execute_result"
    }
   ],
   "source": [
    "'''fig, ax = plt.subplots()\n",
    "ax.scatter(y_predicted, y_test, edgecolors=(0, 0, 1))\n",
    "ax.plot([y_test.min(), y_test.max()], [y_test.min(), y_test.max()], 'r--', lw=3)\n",
    "ax.set_xlabel('Predicted')\n",
    "ax.set_ylabel('Actual')\n",
    "plt.show()'''"
   ]
  },
  {
   "cell_type": "code",
   "execution_count": 879,
   "id": "b0ac7985",
   "metadata": {},
   "outputs": [
    {
     "data": {
      "text/plain": [
       "'mae = metrics.mean_absolute_error(y_test, y_predicted)\\nrmse = np.sqrt(metrics.mean_squared_error(y_test, y_predicted))\\nr2 = metrics.r2_score(y_test, y_predicted)\\n\\nprint(\"The model performance for testing set\")\\nprint(\"--------------------------------------\")\\nprint(\\'MAE is {}\\'.format(mae))\\nprint(\\'RMSE is {}\\'.format(rmse))\\nprint(\\'R2 score is {}\\'.format(r2))'"
      ]
     },
     "execution_count": 879,
     "metadata": {},
     "output_type": "execute_result"
    }
   ],
   "source": [
    "'''mae = metrics.mean_absolute_error(y_test, y_predicted)\n",
    "rmse = np.sqrt(metrics.mean_squared_error(y_test, y_predicted))\n",
    "r2 = metrics.r2_score(y_test, y_predicted)\n",
    "\n",
    "print(\"The model performance for testing set\")\n",
    "print(\"--------------------------------------\")\n",
    "print('MAE is {}'.format(mae))\n",
    "print('RMSE is {}'.format(rmse))\n",
    "print('R2 score is {}'.format(r2))'''"
   ]
  },
  {
   "cell_type": "markdown",
   "id": "0e160260",
   "metadata": {},
   "source": [
    "## Cross validation"
   ]
  },
  {
   "cell_type": "code",
   "execution_count": 880,
   "id": "8fe725bc",
   "metadata": {},
   "outputs": [
    {
     "data": {
      "text/plain": [
       "'scores = cross_validate(model, X, y, cv=5, scoring=(\\'r2\\', \\'neg_root_mean_squared_error\\',\\'neg_mean_absolute_error\\'))\\n\\naverage_r2 = scores[\\'test_r2\\'].mean()\\naverage_rmse = -scores[\\'test_neg_root_mean_squared_error\\'].mean()\\naverage_mae = -scores[\\'test_neg_mean_absolute_error\\'].mean()\\nprint(\"The model performance for testing set\")\\nprint(\"--------------------------------------\")\\nprint(\\'Average MAE:\\', average_mae)\\nprint(\\' Average RMSE: \\', average_rmse)\\nprint(\"Average R2: \", average_r2)\\n'"
      ]
     },
     "execution_count": 880,
     "metadata": {},
     "output_type": "execute_result"
    }
   ],
   "source": [
    "'''scores = cross_validate(model, X, y, cv=5, scoring=('r2', 'neg_root_mean_squared_error','neg_mean_absolute_error'))\n",
    "\n",
    "average_r2 = scores['test_r2'].mean()\n",
    "average_rmse = -scores['test_neg_root_mean_squared_error'].mean()\n",
    "average_mae = -scores['test_neg_mean_absolute_error'].mean()\n",
    "print(\"The model performance for testing set\")\n",
    "print(\"--------------------------------------\")\n",
    "print('Average MAE:', average_mae)\n",
    "print(' Average RMSE: ', average_rmse)\n",
    "print(\"Average R2: \", average_r2)\n",
    "'''"
   ]
  },
  {
   "cell_type": "markdown",
   "id": "88773b87",
   "metadata": {},
   "source": [
    "# 10 model de regression lineaire"
   ]
  },
  {
   "cell_type": "code",
   "execution_count": 881,
   "id": "4d29eb22",
   "metadata": {
    "scrolled": false
   },
   "outputs": [
    {
     "data": {
      "text/plain": [
       "'immo_df10 = pd.read_csv(\"immo_iteration10.csv\")\\nimmo_df10'"
      ]
     },
     "execution_count": 881,
     "metadata": {},
     "output_type": "execute_result"
    }
   ],
   "source": [
    "'''immo_df10 = pd.read_csv(\"immo_iteration10.csv\")\n",
    "immo_df10'''"
   ]
  },
  {
   "cell_type": "code",
   "execution_count": 882,
   "id": "fbd27c22",
   "metadata": {},
   "outputs": [
    {
     "data": {
      "text/plain": [
       "'y = immo_df10[\"median_house_value\"]\\nX = immo_df10.copy()'"
      ]
     },
     "execution_count": 882,
     "metadata": {},
     "output_type": "execute_result"
    }
   ],
   "source": [
    "'''y = immo_df10[\"median_house_value\"]\n",
    "X = immo_df10.copy()'''"
   ]
  },
  {
   "cell_type": "code",
   "execution_count": 883,
   "id": "0d3fe257",
   "metadata": {
    "scrolled": false
   },
   "outputs": [
    {
     "data": {
      "text/plain": [
       "'X= X.drop(\"median_house_value\", axis=1)\\nX'"
      ]
     },
     "execution_count": 883,
     "metadata": {},
     "output_type": "execute_result"
    }
   ],
   "source": [
    "'''X= X.drop(\"median_house_value\", axis=1)\n",
    "X'''"
   ]
  },
  {
   "cell_type": "markdown",
   "id": "bdcecaf3",
   "metadata": {},
   "source": [
    "## Linear Regression"
   ]
  },
  {
   "cell_type": "code",
   "execution_count": 884,
   "id": "e9c51df9",
   "metadata": {},
   "outputs": [
    {
     "data": {
      "text/plain": [
       "'X_train, X_test, y_train, y_test = train_test_split(X, y, test_size=.3, random_state=1)\\n\\nmodel = LinearRegression()\\n\\nmodel.fit(X_train, y_train)\\n\\nmodel.score(X_test, y_test)'"
      ]
     },
     "execution_count": 884,
     "metadata": {},
     "output_type": "execute_result"
    }
   ],
   "source": [
    "'''X_train, X_test, y_train, y_test = train_test_split(X, y, test_size=.3, random_state=1)\n",
    "\n",
    "model = LinearRegression()\n",
    "\n",
    "model.fit(X_train, y_train)\n",
    "\n",
    "model.score(X_test, y_test)'''"
   ]
  },
  {
   "cell_type": "code",
   "execution_count": 885,
   "id": "14e6429a",
   "metadata": {},
   "outputs": [
    {
     "data": {
      "text/plain": [
       "'y_predicted = model.predict(X_test)'"
      ]
     },
     "execution_count": 885,
     "metadata": {},
     "output_type": "execute_result"
    }
   ],
   "source": [
    "'''y_predicted = model.predict(X_test)'''"
   ]
  },
  {
   "cell_type": "code",
   "execution_count": 886,
   "id": "b369841b",
   "metadata": {},
   "outputs": [
    {
     "data": {
      "text/plain": [
       "\"fig, ax = plt.subplots()\\nax.scatter(y_predicted, y_test, edgecolors=(0, 0, 1))\\nax.plot([y_test.min(), y_test.max()], [y_test.min(), y_test.max()], 'r--', lw=3)\\nax.set_xlabel('Predicted')\\nax.set_ylabel('Actual')\\nplt.show()\""
      ]
     },
     "execution_count": 886,
     "metadata": {},
     "output_type": "execute_result"
    }
   ],
   "source": [
    "'''fig, ax = plt.subplots()\n",
    "ax.scatter(y_predicted, y_test, edgecolors=(0, 0, 1))\n",
    "ax.plot([y_test.min(), y_test.max()], [y_test.min(), y_test.max()], 'r--', lw=3)\n",
    "ax.set_xlabel('Predicted')\n",
    "ax.set_ylabel('Actual')\n",
    "plt.show()'''"
   ]
  },
  {
   "cell_type": "code",
   "execution_count": 887,
   "id": "47863e55",
   "metadata": {
    "scrolled": true
   },
   "outputs": [
    {
     "data": {
      "text/plain": [
       "'mae = metrics.mean_absolute_error(y_test, y_predicted)\\nrmse = np.sqrt(metrics.mean_squared_error(y_test, y_predicted))\\nr2 = metrics.r2_score(y_test, y_predicted)\\n\\nprint(\"The model performance for testing set\")\\nprint(\"--------------------------------------\")\\nprint(\\'MAE is {}\\'.format(mae))\\nprint(\\'RMSE is {}\\'.format(rmse))\\nprint(\\'R2 score is {}\\'.format(r2))'"
      ]
     },
     "execution_count": 887,
     "metadata": {},
     "output_type": "execute_result"
    }
   ],
   "source": [
    "'''mae = metrics.mean_absolute_error(y_test, y_predicted)\n",
    "rmse = np.sqrt(metrics.mean_squared_error(y_test, y_predicted))\n",
    "r2 = metrics.r2_score(y_test, y_predicted)\n",
    "\n",
    "print(\"The model performance for testing set\")\n",
    "print(\"--------------------------------------\")\n",
    "print('MAE is {}'.format(mae))\n",
    "print('RMSE is {}'.format(rmse))\n",
    "print('R2 score is {}'.format(r2))'''"
   ]
  },
  {
   "cell_type": "markdown",
   "id": "007bf9f0",
   "metadata": {},
   "source": [
    "## Cross validation"
   ]
  },
  {
   "cell_type": "code",
   "execution_count": 888,
   "id": "20242564",
   "metadata": {},
   "outputs": [
    {
     "data": {
      "text/plain": [
       "'scores = cross_validate(model, X, y, cv=5, scoring=(\\'r2\\', \\'neg_root_mean_squared_error\\',\\'neg_mean_absolute_error\\'))\\n\\naverage_r2 = scores[\\'test_r2\\'].mean()\\naverage_rmse = -scores[\\'test_neg_root_mean_squared_error\\'].mean()\\naverage_mae = -scores[\\'test_neg_mean_absolute_error\\'].mean()\\nprint(\"The model performance for testing set\")\\nprint(\"--------------------------------------\")\\nprint(\\'Average MAE:\\', average_mae)\\nprint(\\' Average RMSE: \\', average_rmse)\\nprint(\"Average R2: \", average_r2)'"
      ]
     },
     "execution_count": 888,
     "metadata": {},
     "output_type": "execute_result"
    }
   ],
   "source": [
    "'''scores = cross_validate(model, X, y, cv=5, scoring=('r2', 'neg_root_mean_squared_error','neg_mean_absolute_error'))\n",
    "\n",
    "average_r2 = scores['test_r2'].mean()\n",
    "average_rmse = -scores['test_neg_root_mean_squared_error'].mean()\n",
    "average_mae = -scores['test_neg_mean_absolute_error'].mean()\n",
    "print(\"The model performance for testing set\")\n",
    "print(\"--------------------------------------\")\n",
    "print('Average MAE:', average_mae)\n",
    "print(' Average RMSE: ', average_rmse)\n",
    "print(\"Average R2: \", average_r2)'''\n"
   ]
  },
  {
   "cell_type": "markdown",
   "id": "624d4473",
   "metadata": {},
   "source": [
    "# 11 model de regression lineaire"
   ]
  },
  {
   "cell_type": "code",
   "execution_count": 889,
   "id": "33859314",
   "metadata": {
    "scrolled": true
   },
   "outputs": [
    {
     "data": {
      "text/html": [
       "<div>\n",
       "<style scoped>\n",
       "    .dataframe tbody tr th:only-of-type {\n",
       "        vertical-align: middle;\n",
       "    }\n",
       "\n",
       "    .dataframe tbody tr th {\n",
       "        vertical-align: top;\n",
       "    }\n",
       "\n",
       "    .dataframe thead th {\n",
       "        text-align: right;\n",
       "    }\n",
       "</style>\n",
       "<table border=\"1\" class=\"dataframe\">\n",
       "  <thead>\n",
       "    <tr style=\"text-align: right;\">\n",
       "      <th></th>\n",
       "      <th>index</th>\n",
       "      <th>longitude</th>\n",
       "      <th>latitude</th>\n",
       "      <th>housing_median_age</th>\n",
       "      <th>total_bedrooms</th>\n",
       "      <th>population</th>\n",
       "      <th>room_per_households</th>\n",
       "      <th>median_income</th>\n",
       "      <th>ocean_proximity_&lt;1H OCEAN</th>\n",
       "      <th>ocean_proximity_INLAND</th>\n",
       "      <th>ocean_proximity_ISLAND</th>\n",
       "      <th>ocean_proximity_NEAR BAY</th>\n",
       "      <th>ocean_proximity_NEAR OCEAN</th>\n",
       "    </tr>\n",
       "  </thead>\n",
       "  <tbody>\n",
       "    <tr>\n",
       "      <th>0</th>\n",
       "      <td>0.100392</td>\n",
       "      <td>0.449203</td>\n",
       "      <td>0.449522</td>\n",
       "      <td>0.098039</td>\n",
       "      <td>0.077852</td>\n",
       "      <td>0.085511</td>\n",
       "      <td>0.027318</td>\n",
       "      <td>0.067709</td>\n",
       "      <td>0.0</td>\n",
       "      <td>1.0</td>\n",
       "      <td>0.0</td>\n",
       "      <td>0.0</td>\n",
       "      <td>0.0</td>\n",
       "    </tr>\n",
       "    <tr>\n",
       "      <th>1</th>\n",
       "      <td>0.513591</td>\n",
       "      <td>0.652390</td>\n",
       "      <td>0.121148</td>\n",
       "      <td>0.137255</td>\n",
       "      <td>0.057921</td>\n",
       "      <td>0.052693</td>\n",
       "      <td>0.038958</td>\n",
       "      <td>0.442297</td>\n",
       "      <td>1.0</td>\n",
       "      <td>0.0</td>\n",
       "      <td>0.0</td>\n",
       "      <td>0.0</td>\n",
       "      <td>0.0</td>\n",
       "    </tr>\n",
       "    <tr>\n",
       "      <th>2</th>\n",
       "      <td>0.120839</td>\n",
       "      <td>0.414343</td>\n",
       "      <td>0.431456</td>\n",
       "      <td>0.470588</td>\n",
       "      <td>0.036221</td>\n",
       "      <td>0.056926</td>\n",
       "      <td>0.024624</td>\n",
       "      <td>0.072668</td>\n",
       "      <td>0.0</td>\n",
       "      <td>1.0</td>\n",
       "      <td>0.0</td>\n",
       "      <td>0.0</td>\n",
       "      <td>0.0</td>\n",
       "    </tr>\n",
       "    <tr>\n",
       "      <th>3</th>\n",
       "      <td>0.207568</td>\n",
       "      <td>0.600598</td>\n",
       "      <td>0.165781</td>\n",
       "      <td>0.588235</td>\n",
       "      <td>0.038632</td>\n",
       "      <td>0.036437</td>\n",
       "      <td>0.014382</td>\n",
       "      <td>0.070930</td>\n",
       "      <td>1.0</td>\n",
       "      <td>0.0</td>\n",
       "      <td>0.0</td>\n",
       "      <td>0.0</td>\n",
       "      <td>0.0</td>\n",
       "    </tr>\n",
       "    <tr>\n",
       "      <th>4</th>\n",
       "      <td>0.801444</td>\n",
       "      <td>0.310757</td>\n",
       "      <td>0.557917</td>\n",
       "      <td>0.392157</td>\n",
       "      <td>0.061778</td>\n",
       "      <td>0.069133</td>\n",
       "      <td>0.032809</td>\n",
       "      <td>0.247003</td>\n",
       "      <td>0.0</td>\n",
       "      <td>1.0</td>\n",
       "      <td>0.0</td>\n",
       "      <td>0.0</td>\n",
       "      <td>0.0</td>\n",
       "    </tr>\n",
       "    <tr>\n",
       "      <th>...</th>\n",
       "      <td>...</td>\n",
       "      <td>...</td>\n",
       "      <td>...</td>\n",
       "      <td>...</td>\n",
       "      <td>...</td>\n",
       "      <td>...</td>\n",
       "      <td>...</td>\n",
       "      <td>...</td>\n",
       "      <td>...</td>\n",
       "      <td>...</td>\n",
       "      <td>...</td>\n",
       "      <td>...</td>\n",
       "      <td>...</td>\n",
       "    </tr>\n",
       "    <tr>\n",
       "      <th>16505</th>\n",
       "      <td>0.053249</td>\n",
       "      <td>0.244024</td>\n",
       "      <td>0.749203</td>\n",
       "      <td>0.372549</td>\n",
       "      <td>0.046508</td>\n",
       "      <td>0.045516</td>\n",
       "      <td>0.038074</td>\n",
       "      <td>0.176729</td>\n",
       "      <td>0.0</td>\n",
       "      <td>1.0</td>\n",
       "      <td>0.0</td>\n",
       "      <td>0.0</td>\n",
       "      <td>0.0</td>\n",
       "    </tr>\n",
       "    <tr>\n",
       "      <th>16506</th>\n",
       "      <td>0.915645</td>\n",
       "      <td>0.209163</td>\n",
       "      <td>0.591923</td>\n",
       "      <td>0.941176</td>\n",
       "      <td>0.082835</td>\n",
       "      <td>0.069194</td>\n",
       "      <td>0.032787</td>\n",
       "      <td>0.145750</td>\n",
       "      <td>0.0</td>\n",
       "      <td>0.0</td>\n",
       "      <td>0.0</td>\n",
       "      <td>1.0</td>\n",
       "      <td>0.0</td>\n",
       "    </tr>\n",
       "    <tr>\n",
       "      <th>16507</th>\n",
       "      <td>0.571636</td>\n",
       "      <td>0.311753</td>\n",
       "      <td>0.678002</td>\n",
       "      <td>0.352941</td>\n",
       "      <td>0.075923</td>\n",
       "      <td>0.073795</td>\n",
       "      <td>0.038376</td>\n",
       "      <td>0.275576</td>\n",
       "      <td>0.0</td>\n",
       "      <td>1.0</td>\n",
       "      <td>0.0</td>\n",
       "      <td>0.0</td>\n",
       "      <td>0.0</td>\n",
       "    </tr>\n",
       "    <tr>\n",
       "      <th>16508</th>\n",
       "      <td>0.321576</td>\n",
       "      <td>0.618526</td>\n",
       "      <td>0.172157</td>\n",
       "      <td>0.745098</td>\n",
       "      <td>0.136843</td>\n",
       "      <td>0.155993</td>\n",
       "      <td>0.020845</td>\n",
       "      <td>0.143108</td>\n",
       "      <td>1.0</td>\n",
       "      <td>0.0</td>\n",
       "      <td>0.0</td>\n",
       "      <td>0.0</td>\n",
       "      <td>0.0</td>\n",
       "    </tr>\n",
       "    <tr>\n",
       "      <th>16509</th>\n",
       "      <td>0.124764</td>\n",
       "      <td>0.021912</td>\n",
       "      <td>0.877790</td>\n",
       "      <td>0.588235</td>\n",
       "      <td>0.076084</td>\n",
       "      <td>0.077046</td>\n",
       "      <td>0.032483</td>\n",
       "      <td>0.120543</td>\n",
       "      <td>0.0</td>\n",
       "      <td>0.0</td>\n",
       "      <td>0.0</td>\n",
       "      <td>0.0</td>\n",
       "      <td>1.0</td>\n",
       "    </tr>\n",
       "  </tbody>\n",
       "</table>\n",
       "<p>16510 rows × 13 columns</p>\n",
       "</div>"
      ],
      "text/plain": [
       "          index  longitude  latitude  housing_median_age  total_bedrooms  \\\n",
       "0      0.100392   0.449203  0.449522            0.098039        0.077852   \n",
       "1      0.513591   0.652390  0.121148            0.137255        0.057921   \n",
       "2      0.120839   0.414343  0.431456            0.470588        0.036221   \n",
       "3      0.207568   0.600598  0.165781            0.588235        0.038632   \n",
       "4      0.801444   0.310757  0.557917            0.392157        0.061778   \n",
       "...         ...        ...       ...                 ...             ...   \n",
       "16505  0.053249   0.244024  0.749203            0.372549        0.046508   \n",
       "16506  0.915645   0.209163  0.591923            0.941176        0.082835   \n",
       "16507  0.571636   0.311753  0.678002            0.352941        0.075923   \n",
       "16508  0.321576   0.618526  0.172157            0.745098        0.136843   \n",
       "16509  0.124764   0.021912  0.877790            0.588235        0.076084   \n",
       "\n",
       "       population  room_per_households  median_income  \\\n",
       "0        0.085511             0.027318       0.067709   \n",
       "1        0.052693             0.038958       0.442297   \n",
       "2        0.056926             0.024624       0.072668   \n",
       "3        0.036437             0.014382       0.070930   \n",
       "4        0.069133             0.032809       0.247003   \n",
       "...           ...                  ...            ...   \n",
       "16505    0.045516             0.038074       0.176729   \n",
       "16506    0.069194             0.032787       0.145750   \n",
       "16507    0.073795             0.038376       0.275576   \n",
       "16508    0.155993             0.020845       0.143108   \n",
       "16509    0.077046             0.032483       0.120543   \n",
       "\n",
       "       ocean_proximity_<1H OCEAN  ocean_proximity_INLAND  \\\n",
       "0                            0.0                     1.0   \n",
       "1                            1.0                     0.0   \n",
       "2                            0.0                     1.0   \n",
       "3                            1.0                     0.0   \n",
       "4                            0.0                     1.0   \n",
       "...                          ...                     ...   \n",
       "16505                        0.0                     1.0   \n",
       "16506                        0.0                     0.0   \n",
       "16507                        0.0                     1.0   \n",
       "16508                        1.0                     0.0   \n",
       "16509                        0.0                     0.0   \n",
       "\n",
       "       ocean_proximity_ISLAND  ocean_proximity_NEAR BAY  \\\n",
       "0                         0.0                       0.0   \n",
       "1                         0.0                       0.0   \n",
       "2                         0.0                       0.0   \n",
       "3                         0.0                       0.0   \n",
       "4                         0.0                       0.0   \n",
       "...                       ...                       ...   \n",
       "16505                     0.0                       0.0   \n",
       "16506                     0.0                       1.0   \n",
       "16507                     0.0                       0.0   \n",
       "16508                     0.0                       0.0   \n",
       "16509                     0.0                       0.0   \n",
       "\n",
       "       ocean_proximity_NEAR OCEAN  \n",
       "0                             0.0  \n",
       "1                             0.0  \n",
       "2                             0.0  \n",
       "3                             0.0  \n",
       "4                             0.0  \n",
       "...                           ...  \n",
       "16505                         0.0  \n",
       "16506                         0.0  \n",
       "16507                         0.0  \n",
       "16508                         0.0  \n",
       "16509                         1.0  \n",
       "\n",
       "[16510 rows x 13 columns]"
      ]
     },
     "execution_count": 889,
     "metadata": {},
     "output_type": "execute_result"
    }
   ],
   "source": [
    "immo_df11 = pd.read_csv(\"immo_iteration11.csv\")\n",
    "immo_df11"
   ]
  },
  {
   "cell_type": "code",
   "execution_count": 890,
   "id": "b3af663f",
   "metadata": {},
   "outputs": [
    {
     "data": {
      "text/plain": [
       "'y = immo_df10[\"median_house_value\"]\\nX = immo_df11.copy()'"
      ]
     },
     "execution_count": 890,
     "metadata": {},
     "output_type": "execute_result"
    }
   ],
   "source": [
    "'''y = immo_df10[\"median_house_value\"]\n",
    "X = immo_df11.copy()'''"
   ]
  },
  {
   "cell_type": "markdown",
   "id": "556b2ad2",
   "metadata": {},
   "source": [
    "## Linear Regression"
   ]
  },
  {
   "cell_type": "code",
   "execution_count": 891,
   "id": "65765d8f",
   "metadata": {},
   "outputs": [
    {
     "data": {
      "text/plain": [
       "'X_train, X_test, y_train, y_test = train_test_split(X, y, test_size=.3, random_state=1)\\n\\nmodel = LinearRegression()\\n\\nmodel.fit(X_train, y_train)\\n\\nmodel.score(X_test, y_test)'"
      ]
     },
     "execution_count": 891,
     "metadata": {},
     "output_type": "execute_result"
    }
   ],
   "source": [
    "'''X_train, X_test, y_train, y_test = train_test_split(X, y, test_size=.3, random_state=1)\n",
    "\n",
    "model = LinearRegression()\n",
    "\n",
    "model.fit(X_train, y_train)\n",
    "\n",
    "model.score(X_test, y_test)'''"
   ]
  },
  {
   "cell_type": "code",
   "execution_count": 892,
   "id": "f363dce9",
   "metadata": {},
   "outputs": [
    {
     "data": {
      "text/plain": [
       "'y_predicted = model.predict(X_test)'"
      ]
     },
     "execution_count": 892,
     "metadata": {},
     "output_type": "execute_result"
    }
   ],
   "source": [
    "'''y_predicted = model.predict(X_test)'''"
   ]
  },
  {
   "cell_type": "code",
   "execution_count": 893,
   "id": "c7f61ebc",
   "metadata": {},
   "outputs": [
    {
     "data": {
      "text/plain": [
       "\"fig, ax = plt.subplots()\\nax.scatter(y_predicted, y_test, edgecolors=(0, 0, 1))\\nax.plot([y_test.min(), y_test.max()], [y_test.min(), y_test.max()], 'r--', lw=3)\\nax.set_xlabel('Predicted')\\nax.set_ylabel('Actual')\\nplt.show()\""
      ]
     },
     "execution_count": 893,
     "metadata": {},
     "output_type": "execute_result"
    }
   ],
   "source": [
    "'''fig, ax = plt.subplots()\n",
    "ax.scatter(y_predicted, y_test, edgecolors=(0, 0, 1))\n",
    "ax.plot([y_test.min(), y_test.max()], [y_test.min(), y_test.max()], 'r--', lw=3)\n",
    "ax.set_xlabel('Predicted')\n",
    "ax.set_ylabel('Actual')\n",
    "plt.show()'''"
   ]
  },
  {
   "cell_type": "code",
   "execution_count": 894,
   "id": "e0262e47",
   "metadata": {
    "scrolled": false
   },
   "outputs": [
    {
     "data": {
      "text/plain": [
       "'mae = metrics.mean_absolute_error(y_test, y_predicted)\\nrmse = np.sqrt(metrics.mean_squared_error(y_test, y_predicted))\\nr2 = metrics.r2_score(y_test, y_predicted)\\n\\nprint(\"The model performance for testing set\")\\nprint(\"--------------------------------------\")\\nprint(\\'MAE is {}\\'.format(mae))\\nprint(\\'RMSE is {}\\'.format(rmse))\\nprint(\\'R2 score is {}\\'.format(r2))'"
      ]
     },
     "execution_count": 894,
     "metadata": {},
     "output_type": "execute_result"
    }
   ],
   "source": [
    "'''mae = metrics.mean_absolute_error(y_test, y_predicted)\n",
    "rmse = np.sqrt(metrics.mean_squared_error(y_test, y_predicted))\n",
    "r2 = metrics.r2_score(y_test, y_predicted)\n",
    "\n",
    "print(\"The model performance for testing set\")\n",
    "print(\"--------------------------------------\")\n",
    "print('MAE is {}'.format(mae))\n",
    "print('RMSE is {}'.format(rmse))\n",
    "print('R2 score is {}'.format(r2))'''"
   ]
  },
  {
   "cell_type": "markdown",
   "id": "20bc472a",
   "metadata": {},
   "source": [
    "## Cross validation"
   ]
  },
  {
   "cell_type": "code",
   "execution_count": 895,
   "id": "46463ac1",
   "metadata": {},
   "outputs": [
    {
     "data": {
      "text/plain": [
       "'scores = cross_validate(model, X, y, cv=5, scoring=(\\'r2\\', \\'neg_root_mean_squared_error\\',\\'neg_mean_absolute_error\\'))\\n\\naverage_r2 = scores[\\'test_r2\\'].mean()\\naverage_rmse = -scores[\\'test_neg_root_mean_squared_error\\'].mean()\\naverage_mae = -scores[\\'test_neg_mean_absolute_error\\'].mean()\\nprint(\"The model performance for testing set\")\\nprint(\"--------------------------------------\")\\nprint(\\'Average MAE:\\', average_mae)\\nprint(\\' Average RMSE: \\', average_rmse)\\nprint(\"Average R2: \", average_r2)'"
      ]
     },
     "execution_count": 895,
     "metadata": {},
     "output_type": "execute_result"
    }
   ],
   "source": [
    "'''scores = cross_validate(model, X, y, cv=5, scoring=('r2', 'neg_root_mean_squared_error','neg_mean_absolute_error'))\n",
    "\n",
    "average_r2 = scores['test_r2'].mean()\n",
    "average_rmse = -scores['test_neg_root_mean_squared_error'].mean()\n",
    "average_mae = -scores['test_neg_mean_absolute_error'].mean()\n",
    "print(\"The model performance for testing set\")\n",
    "print(\"--------------------------------------\")\n",
    "print('Average MAE:', average_mae)\n",
    "print(' Average RMSE: ', average_rmse)\n",
    "print(\"Average R2: \", average_r2)'''\n"
   ]
  },
  {
   "cell_type": "markdown",
   "id": "e00f59cf",
   "metadata": {},
   "source": [
    "# 12 model de regression lineaire"
   ]
  },
  {
   "cell_type": "code",
   "execution_count": 896,
   "id": "88459de4",
   "metadata": {
    "scrolled": true
   },
   "outputs": [
    {
     "data": {
      "text/html": [
       "<div>\n",
       "<style scoped>\n",
       "    .dataframe tbody tr th:only-of-type {\n",
       "        vertical-align: middle;\n",
       "    }\n",
       "\n",
       "    .dataframe tbody tr th {\n",
       "        vertical-align: top;\n",
       "    }\n",
       "\n",
       "    .dataframe thead th {\n",
       "        text-align: right;\n",
       "    }\n",
       "</style>\n",
       "<table border=\"1\" class=\"dataframe\">\n",
       "  <thead>\n",
       "    <tr style=\"text-align: right;\">\n",
       "      <th></th>\n",
       "      <th>index</th>\n",
       "      <th>longitude</th>\n",
       "      <th>latitude</th>\n",
       "      <th>housing_median_age</th>\n",
       "      <th>total_bedrooms</th>\n",
       "      <th>population</th>\n",
       "      <th>room_per_households</th>\n",
       "      <th>median_income</th>\n",
       "      <th>ocean_proximity_&lt;1H OCEAN</th>\n",
       "      <th>ocean_proximity_INLAND</th>\n",
       "      <th>ocean_proximity_ISLAND</th>\n",
       "      <th>ocean_proximity_NEAR BAY</th>\n",
       "      <th>ocean_proximity_NEAR OCEAN</th>\n",
       "    </tr>\n",
       "  </thead>\n",
       "  <tbody>\n",
       "    <tr>\n",
       "      <th>0</th>\n",
       "      <td>-0.798353</td>\n",
       "      <td>-0.357143</td>\n",
       "      <td>0.666667</td>\n",
       "      <td>-1.210526</td>\n",
       "      <td>0.108262</td>\n",
       "      <td>0.241116</td>\n",
       "      <td>-0.486265</td>\n",
       "      <td>-0.944179</td>\n",
       "      <td>0.0</td>\n",
       "      <td>1.0</td>\n",
       "      <td>0.0</td>\n",
       "      <td>0.0</td>\n",
       "      <td>0.0</td>\n",
       "    </tr>\n",
       "    <tr>\n",
       "      <th>1</th>\n",
       "      <td>0.032796</td>\n",
       "      <td>0.182540</td>\n",
       "      <td>-0.150794</td>\n",
       "      <td>-1.105263</td>\n",
       "      <td>-0.245014</td>\n",
       "      <td>-0.322190</td>\n",
       "      <td>0.467892</td>\n",
       "      <td>1.557969</td>\n",
       "      <td>1.0</td>\n",
       "      <td>0.0</td>\n",
       "      <td>0.0</td>\n",
       "      <td>0.0</td>\n",
       "      <td>0.0</td>\n",
       "    </tr>\n",
       "    <tr>\n",
       "      <th>2</th>\n",
       "      <td>-0.757224</td>\n",
       "      <td>-0.449735</td>\n",
       "      <td>0.621693</td>\n",
       "      <td>-0.210526</td>\n",
       "      <td>-0.629630</td>\n",
       "      <td>-0.249539</td>\n",
       "      <td>-0.707159</td>\n",
       "      <td>-0.911057</td>\n",
       "      <td>0.0</td>\n",
       "      <td>1.0</td>\n",
       "      <td>0.0</td>\n",
       "      <td>0.0</td>\n",
       "      <td>0.0</td>\n",
       "    </tr>\n",
       "    <tr>\n",
       "      <th>3</th>\n",
       "      <td>-0.582769</td>\n",
       "      <td>0.044974</td>\n",
       "      <td>-0.039683</td>\n",
       "      <td>0.105263</td>\n",
       "      <td>-0.586895</td>\n",
       "      <td>-0.601211</td>\n",
       "      <td>-1.546699</td>\n",
       "      <td>-0.922666</td>\n",
       "      <td>1.0</td>\n",
       "      <td>0.0</td>\n",
       "      <td>0.0</td>\n",
       "      <td>0.0</td>\n",
       "      <td>0.0</td>\n",
       "    </tr>\n",
       "    <tr>\n",
       "      <th>4</th>\n",
       "      <td>0.611812</td>\n",
       "      <td>-0.724868</td>\n",
       "      <td>0.936508</td>\n",
       "      <td>-0.421053</td>\n",
       "      <td>-0.176638</td>\n",
       "      <td>-0.040011</td>\n",
       "      <td>-0.036197</td>\n",
       "      <td>0.253458</td>\n",
       "      <td>0.0</td>\n",
       "      <td>1.0</td>\n",
       "      <td>0.0</td>\n",
       "      <td>0.0</td>\n",
       "      <td>0.0</td>\n",
       "    </tr>\n",
       "    <tr>\n",
       "      <th>...</th>\n",
       "      <td>...</td>\n",
       "      <td>...</td>\n",
       "      <td>...</td>\n",
       "      <td>...</td>\n",
       "      <td>...</td>\n",
       "      <td>...</td>\n",
       "      <td>...</td>\n",
       "      <td>...</td>\n",
       "      <td>...</td>\n",
       "      <td>...</td>\n",
       "      <td>...</td>\n",
       "      <td>...</td>\n",
       "      <td>...</td>\n",
       "    </tr>\n",
       "    <tr>\n",
       "      <th>16505</th>\n",
       "      <td>-0.893183</td>\n",
       "      <td>-0.902116</td>\n",
       "      <td>1.412698</td>\n",
       "      <td>-0.473684</td>\n",
       "      <td>-0.447293</td>\n",
       "      <td>-0.445380</td>\n",
       "      <td>0.395391</td>\n",
       "      <td>-0.215960</td>\n",
       "      <td>0.0</td>\n",
       "      <td>1.0</td>\n",
       "      <td>0.0</td>\n",
       "      <td>0.0</td>\n",
       "      <td>0.0</td>\n",
       "    </tr>\n",
       "    <tr>\n",
       "      <th>16506</th>\n",
       "      <td>0.841528</td>\n",
       "      <td>-0.994709</td>\n",
       "      <td>1.021164</td>\n",
       "      <td>1.052632</td>\n",
       "      <td>0.196581</td>\n",
       "      <td>-0.038958</td>\n",
       "      <td>-0.038009</td>\n",
       "      <td>-0.422890</td>\n",
       "      <td>0.0</td>\n",
       "      <td>0.0</td>\n",
       "      <td>0.0</td>\n",
       "      <td>1.0</td>\n",
       "      <td>0.0</td>\n",
       "    </tr>\n",
       "    <tr>\n",
       "      <th>16507</th>\n",
       "      <td>0.149554</td>\n",
       "      <td>-0.722222</td>\n",
       "      <td>1.235450</td>\n",
       "      <td>-0.526316</td>\n",
       "      <td>0.074074</td>\n",
       "      <td>0.040011</td>\n",
       "      <td>0.420145</td>\n",
       "      <td>0.444311</td>\n",
       "      <td>0.0</td>\n",
       "      <td>1.0</td>\n",
       "      <td>0.0</td>\n",
       "      <td>0.0</td>\n",
       "      <td>0.0</td>\n",
       "    </tr>\n",
       "    <tr>\n",
       "      <th>16508</th>\n",
       "      <td>-0.353443</td>\n",
       "      <td>0.092593</td>\n",
       "      <td>-0.023810</td>\n",
       "      <td>0.526316</td>\n",
       "      <td>1.153846</td>\n",
       "      <td>1.450908</td>\n",
       "      <td>-1.016895</td>\n",
       "      <td>-0.440534</td>\n",
       "      <td>1.0</td>\n",
       "      <td>0.0</td>\n",
       "      <td>0.0</td>\n",
       "      <td>0.0</td>\n",
       "      <td>0.0</td>\n",
       "    </tr>\n",
       "    <tr>\n",
       "      <th>16509</th>\n",
       "      <td>-0.749330</td>\n",
       "      <td>-1.492063</td>\n",
       "      <td>1.732804</td>\n",
       "      <td>0.105263</td>\n",
       "      <td>0.076923</td>\n",
       "      <td>0.095815</td>\n",
       "      <td>-0.062875</td>\n",
       "      <td>-0.591263</td>\n",
       "      <td>0.0</td>\n",
       "      <td>0.0</td>\n",
       "      <td>0.0</td>\n",
       "      <td>0.0</td>\n",
       "      <td>1.0</td>\n",
       "    </tr>\n",
       "  </tbody>\n",
       "</table>\n",
       "<p>16510 rows × 13 columns</p>\n",
       "</div>"
      ],
      "text/plain": [
       "          index  longitude  latitude  housing_median_age  total_bedrooms  \\\n",
       "0     -0.798353  -0.357143  0.666667           -1.210526        0.108262   \n",
       "1      0.032796   0.182540 -0.150794           -1.105263       -0.245014   \n",
       "2     -0.757224  -0.449735  0.621693           -0.210526       -0.629630   \n",
       "3     -0.582769   0.044974 -0.039683            0.105263       -0.586895   \n",
       "4      0.611812  -0.724868  0.936508           -0.421053       -0.176638   \n",
       "...         ...        ...       ...                 ...             ...   \n",
       "16505 -0.893183  -0.902116  1.412698           -0.473684       -0.447293   \n",
       "16506  0.841528  -0.994709  1.021164            1.052632        0.196581   \n",
       "16507  0.149554  -0.722222  1.235450           -0.526316        0.074074   \n",
       "16508 -0.353443   0.092593 -0.023810            0.526316        1.153846   \n",
       "16509 -0.749330  -1.492063  1.732804            0.105263        0.076923   \n",
       "\n",
       "       population  room_per_households  median_income  \\\n",
       "0        0.241116            -0.486265      -0.944179   \n",
       "1       -0.322190             0.467892       1.557969   \n",
       "2       -0.249539            -0.707159      -0.911057   \n",
       "3       -0.601211            -1.546699      -0.922666   \n",
       "4       -0.040011            -0.036197       0.253458   \n",
       "...           ...                  ...            ...   \n",
       "16505   -0.445380             0.395391      -0.215960   \n",
       "16506   -0.038958            -0.038009      -0.422890   \n",
       "16507    0.040011             0.420145       0.444311   \n",
       "16508    1.450908            -1.016895      -0.440534   \n",
       "16509    0.095815            -0.062875      -0.591263   \n",
       "\n",
       "       ocean_proximity_<1H OCEAN  ocean_proximity_INLAND  \\\n",
       "0                            0.0                     1.0   \n",
       "1                            1.0                     0.0   \n",
       "2                            0.0                     1.0   \n",
       "3                            1.0                     0.0   \n",
       "4                            0.0                     1.0   \n",
       "...                          ...                     ...   \n",
       "16505                        0.0                     1.0   \n",
       "16506                        0.0                     0.0   \n",
       "16507                        0.0                     1.0   \n",
       "16508                        1.0                     0.0   \n",
       "16509                        0.0                     0.0   \n",
       "\n",
       "       ocean_proximity_ISLAND  ocean_proximity_NEAR BAY  \\\n",
       "0                         0.0                       0.0   \n",
       "1                         0.0                       0.0   \n",
       "2                         0.0                       0.0   \n",
       "3                         0.0                       0.0   \n",
       "4                         0.0                       0.0   \n",
       "...                       ...                       ...   \n",
       "16505                     0.0                       0.0   \n",
       "16506                     0.0                       1.0   \n",
       "16507                     0.0                       0.0   \n",
       "16508                     0.0                       0.0   \n",
       "16509                     0.0                       0.0   \n",
       "\n",
       "       ocean_proximity_NEAR OCEAN  \n",
       "0                             0.0  \n",
       "1                             0.0  \n",
       "2                             0.0  \n",
       "3                             0.0  \n",
       "4                             0.0  \n",
       "...                           ...  \n",
       "16505                         0.0  \n",
       "16506                         0.0  \n",
       "16507                         0.0  \n",
       "16508                         0.0  \n",
       "16509                         1.0  \n",
       "\n",
       "[16510 rows x 13 columns]"
      ]
     },
     "execution_count": 896,
     "metadata": {},
     "output_type": "execute_result"
    }
   ],
   "source": [
    "immo_df12 = pd.read_csv(\"immo_iteration12.csv\")\n",
    "immo_df12"
   ]
  },
  {
   "cell_type": "code",
   "execution_count": 897,
   "id": "947fb8bd",
   "metadata": {},
   "outputs": [
    {
     "data": {
      "text/plain": [
       "'y = immo_df10[\"median_house_value\"]\\nX = immo_df12.copy()'"
      ]
     },
     "execution_count": 897,
     "metadata": {},
     "output_type": "execute_result"
    }
   ],
   "source": [
    "'''y = immo_df10[\"median_house_value\"]\n",
    "X = immo_df12.copy()'''"
   ]
  },
  {
   "cell_type": "code",
   "execution_count": 898,
   "id": "b8a7cf03",
   "metadata": {},
   "outputs": [
    {
     "data": {
      "text/plain": [
       "'y = immo_df10[\"median_house_value\"]\\nX = immo_df12.copy()'"
      ]
     },
     "execution_count": 898,
     "metadata": {},
     "output_type": "execute_result"
    }
   ],
   "source": [
    "'''y = immo_df10[\"median_house_value\"]\n",
    "X = immo_df12.copy()'''"
   ]
  },
  {
   "cell_type": "markdown",
   "id": "2552acd8",
   "metadata": {},
   "source": [
    "## Linear Regression"
   ]
  },
  {
   "cell_type": "code",
   "execution_count": 899,
   "id": "dce7225b",
   "metadata": {},
   "outputs": [
    {
     "data": {
      "text/plain": [
       "'X_train, X_test, y_train, y_test = train_test_split(X, y, test_size=.3, random_state=1)\\n\\nmodel = LinearRegression()\\n\\nmodel.fit(X_train, y_train)\\n\\nmodel.score(X_test, y_test)'"
      ]
     },
     "execution_count": 899,
     "metadata": {},
     "output_type": "execute_result"
    }
   ],
   "source": [
    "'''X_train, X_test, y_train, y_test = train_test_split(X, y, test_size=.3, random_state=1)\n",
    "\n",
    "model = LinearRegression()\n",
    "\n",
    "model.fit(X_train, y_train)\n",
    "\n",
    "model.score(X_test, y_test)'''"
   ]
  },
  {
   "cell_type": "code",
   "execution_count": 900,
   "id": "989e60fc",
   "metadata": {},
   "outputs": [
    {
     "data": {
      "text/plain": [
       "'y_predicted = model.predict(X_test)'"
      ]
     },
     "execution_count": 900,
     "metadata": {},
     "output_type": "execute_result"
    }
   ],
   "source": [
    "'''y_predicted = model.predict(X_test)'''"
   ]
  },
  {
   "cell_type": "code",
   "execution_count": 901,
   "id": "26f74bef",
   "metadata": {},
   "outputs": [
    {
     "data": {
      "text/plain": [
       "\"fig, ax = plt.subplots()\\nax.scatter(y_predicted, y_test, edgecolors=(0, 0, 1))\\nax.plot([y_test.min(), y_test.max()], [y_test.min(), y_test.max()], 'r--', lw=3)\\nax.set_xlabel('Predicted')\\nax.set_ylabel('Actual')\\nplt.show()\""
      ]
     },
     "execution_count": 901,
     "metadata": {},
     "output_type": "execute_result"
    }
   ],
   "source": [
    "'''fig, ax = plt.subplots()\n",
    "ax.scatter(y_predicted, y_test, edgecolors=(0, 0, 1))\n",
    "ax.plot([y_test.min(), y_test.max()], [y_test.min(), y_test.max()], 'r--', lw=3)\n",
    "ax.set_xlabel('Predicted')\n",
    "ax.set_ylabel('Actual')\n",
    "plt.show()'''"
   ]
  },
  {
   "cell_type": "code",
   "execution_count": 902,
   "id": "e52a0e13",
   "metadata": {
    "scrolled": false
   },
   "outputs": [
    {
     "data": {
      "text/plain": [
       "'mae = metrics.mean_absolute_error(y_test, y_predicted)\\nrmse = np.sqrt(metrics.mean_squared_error(y_test, y_predicted))\\nr2 = metrics.r2_score(y_test, y_predicted)\\n\\nprint(\"The model performance for testing set\")\\nprint(\"--------------------------------------\")\\nprint(\\'MAE is {}\\'.format(mae))\\nprint(\\'RMSE is {}\\'.format(rmse))\\nprint(\\'R2 score is {}\\'.format(r2))'"
      ]
     },
     "execution_count": 902,
     "metadata": {},
     "output_type": "execute_result"
    }
   ],
   "source": [
    "'''mae = metrics.mean_absolute_error(y_test, y_predicted)\n",
    "rmse = np.sqrt(metrics.mean_squared_error(y_test, y_predicted))\n",
    "r2 = metrics.r2_score(y_test, y_predicted)\n",
    "\n",
    "print(\"The model performance for testing set\")\n",
    "print(\"--------------------------------------\")\n",
    "print('MAE is {}'.format(mae))\n",
    "print('RMSE is {}'.format(rmse))\n",
    "print('R2 score is {}'.format(r2))'''"
   ]
  },
  {
   "cell_type": "markdown",
   "id": "0060e4c3",
   "metadata": {},
   "source": [
    "## Cross validation"
   ]
  },
  {
   "cell_type": "code",
   "execution_count": 903,
   "id": "4ca461b3",
   "metadata": {},
   "outputs": [
    {
     "data": {
      "text/plain": [
       "'scores = cross_validate(model, X, y, cv=5, scoring=(\\'r2\\', \\'neg_root_mean_squared_error\\',\\'neg_mean_absolute_error\\'))\\n\\naverage_r2 = scores[\\'test_r2\\'].mean()\\naverage_rmse = -scores[\\'test_neg_root_mean_squared_error\\'].mean()\\naverage_mae = -scores[\\'test_neg_mean_absolute_error\\'].mean()\\nprint(\"The model performance for testing set\")\\nprint(\"--------------------------------------\")\\nprint(\\'Average MAE:\\', average_mae)\\nprint(\\' Average RMSE: \\', average_rmse)\\nprint(\"Average R2: \", average_r2)\\n'"
      ]
     },
     "execution_count": 903,
     "metadata": {},
     "output_type": "execute_result"
    }
   ],
   "source": [
    "'''scores = cross_validate(model, X, y, cv=5, scoring=('r2', 'neg_root_mean_squared_error','neg_mean_absolute_error'))\n",
    "\n",
    "average_r2 = scores['test_r2'].mean()\n",
    "average_rmse = -scores['test_neg_root_mean_squared_error'].mean()\n",
    "average_mae = -scores['test_neg_mean_absolute_error'].mean()\n",
    "print(\"The model performance for testing set\")\n",
    "print(\"--------------------------------------\")\n",
    "print('Average MAE:', average_mae)\n",
    "print(' Average RMSE: ', average_rmse)\n",
    "print(\"Average R2: \", average_r2)\n",
    "'''"
   ]
  },
  {
   "cell_type": "markdown",
   "id": "ca47d0cf",
   "metadata": {},
   "source": [
    "# 13 model de regression lineaire"
   ]
  },
  {
   "cell_type": "code",
   "execution_count": 904,
   "id": "5ddb8bd5",
   "metadata": {
    "scrolled": true
   },
   "outputs": [
    {
     "data": {
      "text/html": [
       "<div>\n",
       "<style scoped>\n",
       "    .dataframe tbody tr th:only-of-type {\n",
       "        vertical-align: middle;\n",
       "    }\n",
       "\n",
       "    .dataframe tbody tr th {\n",
       "        vertical-align: top;\n",
       "    }\n",
       "\n",
       "    .dataframe thead th {\n",
       "        text-align: right;\n",
       "    }\n",
       "</style>\n",
       "<table border=\"1\" class=\"dataframe\">\n",
       "  <thead>\n",
       "    <tr style=\"text-align: right;\">\n",
       "      <th></th>\n",
       "      <th>index</th>\n",
       "      <th>longitude</th>\n",
       "      <th>latitude</th>\n",
       "      <th>ocean_proximity_&lt;1H OCEAN</th>\n",
       "      <th>ocean_proximity_INLAND</th>\n",
       "      <th>ocean_proximity_ISLAND</th>\n",
       "      <th>ocean_proximity_NEAR BAY</th>\n",
       "      <th>ocean_proximity_NEAR OCEAN</th>\n",
       "      <th>median_house_value</th>\n",
       "      <th>housing_median_age</th>\n",
       "      <th>total_bedrooms</th>\n",
       "      <th>population</th>\n",
       "      <th>room_per_households</th>\n",
       "      <th>median_income</th>\n",
       "    </tr>\n",
       "  </thead>\n",
       "  <tbody>\n",
       "    <tr>\n",
       "      <th>0</th>\n",
       "      <td>2072.0</td>\n",
       "      <td>-119.84</td>\n",
       "      <td>36.77</td>\n",
       "      <td>0.0</td>\n",
       "      <td>1.0</td>\n",
       "      <td>0.0</td>\n",
       "      <td>0.0</td>\n",
       "      <td>0.0</td>\n",
       "      <td>72000.0</td>\n",
       "      <td>-1.210526</td>\n",
       "      <td>0.108262</td>\n",
       "      <td>0.241116</td>\n",
       "      <td>-0.486265</td>\n",
       "      <td>-0.944179</td>\n",
       "    </tr>\n",
       "    <tr>\n",
       "      <th>1</th>\n",
       "      <td>10600.0</td>\n",
       "      <td>-117.80</td>\n",
       "      <td>33.68</td>\n",
       "      <td>1.0</td>\n",
       "      <td>0.0</td>\n",
       "      <td>0.0</td>\n",
       "      <td>0.0</td>\n",
       "      <td>0.0</td>\n",
       "      <td>274100.0</td>\n",
       "      <td>-1.105263</td>\n",
       "      <td>-0.245014</td>\n",
       "      <td>-0.322190</td>\n",
       "      <td>0.467892</td>\n",
       "      <td>1.557969</td>\n",
       "    </tr>\n",
       "    <tr>\n",
       "      <th>2</th>\n",
       "      <td>2494.0</td>\n",
       "      <td>-120.19</td>\n",
       "      <td>36.60</td>\n",
       "      <td>0.0</td>\n",
       "      <td>1.0</td>\n",
       "      <td>0.0</td>\n",
       "      <td>0.0</td>\n",
       "      <td>0.0</td>\n",
       "      <td>58300.0</td>\n",
       "      <td>-0.210526</td>\n",
       "      <td>-0.629630</td>\n",
       "      <td>-0.249539</td>\n",
       "      <td>-0.707159</td>\n",
       "      <td>-0.911057</td>\n",
       "    </tr>\n",
       "    <tr>\n",
       "      <th>3</th>\n",
       "      <td>4284.0</td>\n",
       "      <td>-118.32</td>\n",
       "      <td>34.10</td>\n",
       "      <td>1.0</td>\n",
       "      <td>0.0</td>\n",
       "      <td>0.0</td>\n",
       "      <td>0.0</td>\n",
       "      <td>0.0</td>\n",
       "      <td>200000.0</td>\n",
       "      <td>0.105263</td>\n",
       "      <td>-0.586895</td>\n",
       "      <td>-0.601211</td>\n",
       "      <td>-1.546699</td>\n",
       "      <td>-0.922666</td>\n",
       "    </tr>\n",
       "    <tr>\n",
       "      <th>4</th>\n",
       "      <td>16541.0</td>\n",
       "      <td>-121.23</td>\n",
       "      <td>37.79</td>\n",
       "      <td>0.0</td>\n",
       "      <td>1.0</td>\n",
       "      <td>0.0</td>\n",
       "      <td>0.0</td>\n",
       "      <td>0.0</td>\n",
       "      <td>117900.0</td>\n",
       "      <td>-0.421053</td>\n",
       "      <td>-0.176638</td>\n",
       "      <td>-0.040011</td>\n",
       "      <td>-0.036197</td>\n",
       "      <td>0.253458</td>\n",
       "    </tr>\n",
       "    <tr>\n",
       "      <th>...</th>\n",
       "      <td>...</td>\n",
       "      <td>...</td>\n",
       "      <td>...</td>\n",
       "      <td>...</td>\n",
       "      <td>...</td>\n",
       "      <td>...</td>\n",
       "      <td>...</td>\n",
       "      <td>...</td>\n",
       "      <td>...</td>\n",
       "      <td>...</td>\n",
       "      <td>...</td>\n",
       "      <td>...</td>\n",
       "      <td>...</td>\n",
       "      <td>...</td>\n",
       "    </tr>\n",
       "    <tr>\n",
       "      <th>16505</th>\n",
       "      <td>1099.0</td>\n",
       "      <td>-121.90</td>\n",
       "      <td>39.59</td>\n",
       "      <td>0.0</td>\n",
       "      <td>1.0</td>\n",
       "      <td>0.0</td>\n",
       "      <td>0.0</td>\n",
       "      <td>0.0</td>\n",
       "      <td>93800.0</td>\n",
       "      <td>-0.473684</td>\n",
       "      <td>-0.447293</td>\n",
       "      <td>-0.445380</td>\n",
       "      <td>0.395391</td>\n",
       "      <td>-0.215960</td>\n",
       "    </tr>\n",
       "    <tr>\n",
       "      <th>16506</th>\n",
       "      <td>18898.0</td>\n",
       "      <td>-122.25</td>\n",
       "      <td>38.11</td>\n",
       "      <td>0.0</td>\n",
       "      <td>0.0</td>\n",
       "      <td>0.0</td>\n",
       "      <td>1.0</td>\n",
       "      <td>0.0</td>\n",
       "      <td>103100.0</td>\n",
       "      <td>1.052632</td>\n",
       "      <td>0.196581</td>\n",
       "      <td>-0.038958</td>\n",
       "      <td>-0.038009</td>\n",
       "      <td>-0.422890</td>\n",
       "    </tr>\n",
       "    <tr>\n",
       "      <th>16507</th>\n",
       "      <td>11798.0</td>\n",
       "      <td>-121.22</td>\n",
       "      <td>38.92</td>\n",
       "      <td>0.0</td>\n",
       "      <td>1.0</td>\n",
       "      <td>0.0</td>\n",
       "      <td>0.0</td>\n",
       "      <td>0.0</td>\n",
       "      <td>192600.0</td>\n",
       "      <td>-0.526316</td>\n",
       "      <td>0.074074</td>\n",
       "      <td>0.040011</td>\n",
       "      <td>0.420145</td>\n",
       "      <td>0.444311</td>\n",
       "    </tr>\n",
       "    <tr>\n",
       "      <th>16508</th>\n",
       "      <td>6637.0</td>\n",
       "      <td>-118.14</td>\n",
       "      <td>34.16</td>\n",
       "      <td>1.0</td>\n",
       "      <td>0.0</td>\n",
       "      <td>0.0</td>\n",
       "      <td>0.0</td>\n",
       "      <td>0.0</td>\n",
       "      <td>153500.0</td>\n",
       "      <td>0.526316</td>\n",
       "      <td>1.153846</td>\n",
       "      <td>1.450908</td>\n",
       "      <td>-1.016895</td>\n",
       "      <td>-0.440534</td>\n",
       "    </tr>\n",
       "    <tr>\n",
       "      <th>16509</th>\n",
       "      <td>2575.0</td>\n",
       "      <td>-124.13</td>\n",
       "      <td>40.80</td>\n",
       "      <td>0.0</td>\n",
       "      <td>0.0</td>\n",
       "      <td>0.0</td>\n",
       "      <td>0.0</td>\n",
       "      <td>1.0</td>\n",
       "      <td>81100.0</td>\n",
       "      <td>0.105263</td>\n",
       "      <td>0.076923</td>\n",
       "      <td>0.095815</td>\n",
       "      <td>-0.062875</td>\n",
       "      <td>-0.591263</td>\n",
       "    </tr>\n",
       "  </tbody>\n",
       "</table>\n",
       "<p>16510 rows × 14 columns</p>\n",
       "</div>"
      ],
      "text/plain": [
       "         index  longitude  latitude  ocean_proximity_<1H OCEAN  \\\n",
       "0       2072.0    -119.84     36.77                        0.0   \n",
       "1      10600.0    -117.80     33.68                        1.0   \n",
       "2       2494.0    -120.19     36.60                        0.0   \n",
       "3       4284.0    -118.32     34.10                        1.0   \n",
       "4      16541.0    -121.23     37.79                        0.0   \n",
       "...        ...        ...       ...                        ...   \n",
       "16505   1099.0    -121.90     39.59                        0.0   \n",
       "16506  18898.0    -122.25     38.11                        0.0   \n",
       "16507  11798.0    -121.22     38.92                        0.0   \n",
       "16508   6637.0    -118.14     34.16                        1.0   \n",
       "16509   2575.0    -124.13     40.80                        0.0   \n",
       "\n",
       "       ocean_proximity_INLAND  ocean_proximity_ISLAND  \\\n",
       "0                         1.0                     0.0   \n",
       "1                         0.0                     0.0   \n",
       "2                         1.0                     0.0   \n",
       "3                         0.0                     0.0   \n",
       "4                         1.0                     0.0   \n",
       "...                       ...                     ...   \n",
       "16505                     1.0                     0.0   \n",
       "16506                     0.0                     0.0   \n",
       "16507                     1.0                     0.0   \n",
       "16508                     0.0                     0.0   \n",
       "16509                     0.0                     0.0   \n",
       "\n",
       "       ocean_proximity_NEAR BAY  ocean_proximity_NEAR OCEAN  \\\n",
       "0                           0.0                         0.0   \n",
       "1                           0.0                         0.0   \n",
       "2                           0.0                         0.0   \n",
       "3                           0.0                         0.0   \n",
       "4                           0.0                         0.0   \n",
       "...                         ...                         ...   \n",
       "16505                       0.0                         0.0   \n",
       "16506                       1.0                         0.0   \n",
       "16507                       0.0                         0.0   \n",
       "16508                       0.0                         0.0   \n",
       "16509                       0.0                         1.0   \n",
       "\n",
       "       median_house_value  housing_median_age  total_bedrooms  population  \\\n",
       "0                 72000.0           -1.210526        0.108262    0.241116   \n",
       "1                274100.0           -1.105263       -0.245014   -0.322190   \n",
       "2                 58300.0           -0.210526       -0.629630   -0.249539   \n",
       "3                200000.0            0.105263       -0.586895   -0.601211   \n",
       "4                117900.0           -0.421053       -0.176638   -0.040011   \n",
       "...                   ...                 ...             ...         ...   \n",
       "16505             93800.0           -0.473684       -0.447293   -0.445380   \n",
       "16506            103100.0            1.052632        0.196581   -0.038958   \n",
       "16507            192600.0           -0.526316        0.074074    0.040011   \n",
       "16508            153500.0            0.526316        1.153846    1.450908   \n",
       "16509             81100.0            0.105263        0.076923    0.095815   \n",
       "\n",
       "       room_per_households  median_income  \n",
       "0                -0.486265      -0.944179  \n",
       "1                 0.467892       1.557969  \n",
       "2                -0.707159      -0.911057  \n",
       "3                -1.546699      -0.922666  \n",
       "4                -0.036197       0.253458  \n",
       "...                    ...            ...  \n",
       "16505             0.395391      -0.215960  \n",
       "16506            -0.038009      -0.422890  \n",
       "16507             0.420145       0.444311  \n",
       "16508            -1.016895      -0.440534  \n",
       "16509            -0.062875      -0.591263  \n",
       "\n",
       "[16510 rows x 14 columns]"
      ]
     },
     "execution_count": 904,
     "metadata": {},
     "output_type": "execute_result"
    }
   ],
   "source": [
    "immo_df13 = pd.read_csv(\"immo_iteration13.csv\")\n",
    "immo_df13"
   ]
  },
  {
   "cell_type": "code",
   "execution_count": 905,
   "id": "23c07efd",
   "metadata": {},
   "outputs": [
    {
     "data": {
      "text/plain": [
       "'y = immo_df13[\"median_house_value\"]\\nX = immo_df13.copy()'"
      ]
     },
     "execution_count": 905,
     "metadata": {},
     "output_type": "execute_result"
    }
   ],
   "source": [
    "'''y = immo_df13[\"median_house_value\"]\n",
    "X = immo_df13.copy()'''"
   ]
  },
  {
   "cell_type": "code",
   "execution_count": 906,
   "id": "6b5a40aa",
   "metadata": {},
   "outputs": [
    {
     "data": {
      "text/plain": [
       "'X= X.drop(\"median_house_value\", axis=1)\\nX'"
      ]
     },
     "execution_count": 906,
     "metadata": {},
     "output_type": "execute_result"
    }
   ],
   "source": [
    "'''X= X.drop(\"median_house_value\", axis=1)\n",
    "X'''"
   ]
  },
  {
   "cell_type": "markdown",
   "id": "d27bf0c1",
   "metadata": {},
   "source": [
    "## Linear Regression"
   ]
  },
  {
   "cell_type": "code",
   "execution_count": 907,
   "id": "b5845145",
   "metadata": {},
   "outputs": [
    {
     "data": {
      "text/plain": [
       "'X_train, X_test, y_train, y_test = train_test_split(X, y, test_size=.3, random_state=1)\\n\\nmodel = LinearRegression()\\n\\nmodel.fit(X_train, y_train)\\n\\nmodel.score(X_test, y_test)'"
      ]
     },
     "execution_count": 907,
     "metadata": {},
     "output_type": "execute_result"
    }
   ],
   "source": [
    "'''X_train, X_test, y_train, y_test = train_test_split(X, y, test_size=.3, random_state=1)\n",
    "\n",
    "model = LinearRegression()\n",
    "\n",
    "model.fit(X_train, y_train)\n",
    "\n",
    "model.score(X_test, y_test)'''"
   ]
  },
  {
   "cell_type": "code",
   "execution_count": 908,
   "id": "57153311",
   "metadata": {},
   "outputs": [
    {
     "data": {
      "text/plain": [
       "'y_predicted = model.predict(X_test)'"
      ]
     },
     "execution_count": 908,
     "metadata": {},
     "output_type": "execute_result"
    }
   ],
   "source": [
    "'''y_predicted = model.predict(X_test)'''"
   ]
  },
  {
   "cell_type": "code",
   "execution_count": 909,
   "id": "15012f79",
   "metadata": {},
   "outputs": [
    {
     "data": {
      "text/plain": [
       "\"fig, ax = plt.subplots()\\nax.scatter(y_predicted, y_test, edgecolors=(0, 0, 1))\\nax.plot([y_test.min(), y_test.max()], [y_test.min(), y_test.max()], 'r--', lw=3)\\nax.set_xlabel('Predicted')\\nax.set_ylabel('Actual')\\nplt.show()\""
      ]
     },
     "execution_count": 909,
     "metadata": {},
     "output_type": "execute_result"
    }
   ],
   "source": [
    "'''fig, ax = plt.subplots()\n",
    "ax.scatter(y_predicted, y_test, edgecolors=(0, 0, 1))\n",
    "ax.plot([y_test.min(), y_test.max()], [y_test.min(), y_test.max()], 'r--', lw=3)\n",
    "ax.set_xlabel('Predicted')\n",
    "ax.set_ylabel('Actual')\n",
    "plt.show()'''"
   ]
  },
  {
   "cell_type": "code",
   "execution_count": 910,
   "id": "1750f7b6",
   "metadata": {
    "scrolled": false
   },
   "outputs": [
    {
     "data": {
      "text/plain": [
       "'mae = metrics.mean_absolute_error(y_test, y_predicted)\\nrmse = np.sqrt(metrics.mean_squared_error(y_test, y_predicted))\\nr2 = metrics.r2_score(y_test, y_predicted)\\n\\nprint(\"The model performance for testing set\")\\nprint(\"--------------------------------------\")\\nprint(\\'MAE is {}\\'.format(mae))\\nprint(\\'RMSE is {}\\'.format(rmse))\\nprint(\\'R2 score is {}\\'.format(r2))'"
      ]
     },
     "execution_count": 910,
     "metadata": {},
     "output_type": "execute_result"
    }
   ],
   "source": [
    "'''mae = metrics.mean_absolute_error(y_test, y_predicted)\n",
    "rmse = np.sqrt(metrics.mean_squared_error(y_test, y_predicted))\n",
    "r2 = metrics.r2_score(y_test, y_predicted)\n",
    "\n",
    "print(\"The model performance for testing set\")\n",
    "print(\"--------------------------------------\")\n",
    "print('MAE is {}'.format(mae))\n",
    "print('RMSE is {}'.format(rmse))\n",
    "print('R2 score is {}'.format(r2))'''"
   ]
  },
  {
   "cell_type": "markdown",
   "id": "8874212b",
   "metadata": {},
   "source": [
    "## Cross validation"
   ]
  },
  {
   "cell_type": "code",
   "execution_count": 911,
   "id": "81337018",
   "metadata": {},
   "outputs": [
    {
     "data": {
      "text/plain": [
       "'scores = cross_validate(model, X, y, cv=5, scoring=(\\'r2\\', \\'neg_root_mean_squared_error\\',\\'neg_mean_absolute_error\\'))\\n\\naverage_r2 = scores[\\'test_r2\\'].mean()\\naverage_rmse = -scores[\\'test_neg_root_mean_squared_error\\'].mean()\\naverage_mae = -scores[\\'test_neg_mean_absolute_error\\'].mean()\\nprint(\"The model performance for testing set\")\\nprint(\"--------------------------------------\")\\nprint(\\'Average MAE:\\', average_mae)\\nprint(\\' Average RMSE: \\', average_rmse)\\nprint(\"Average R2: \", average_r2)'"
      ]
     },
     "execution_count": 911,
     "metadata": {},
     "output_type": "execute_result"
    }
   ],
   "source": [
    "'''scores = cross_validate(model, X, y, cv=5, scoring=('r2', 'neg_root_mean_squared_error','neg_mean_absolute_error'))\n",
    "\n",
    "average_r2 = scores['test_r2'].mean()\n",
    "average_rmse = -scores['test_neg_root_mean_squared_error'].mean()\n",
    "average_mae = -scores['test_neg_mean_absolute_error'].mean()\n",
    "print(\"The model performance for testing set\")\n",
    "print(\"--------------------------------------\")\n",
    "print('Average MAE:', average_mae)\n",
    "print(' Average RMSE: ', average_rmse)\n",
    "print(\"Average R2: \", average_r2)'''\n"
   ]
  },
  {
   "cell_type": "code",
   "execution_count": null,
   "id": "31ceadf5",
   "metadata": {},
   "outputs": [],
   "source": []
  },
  {
   "cell_type": "markdown",
   "id": "937cbd5a",
   "metadata": {},
   "source": [
    "# 14 model de regression lineaire"
   ]
  },
  {
   "cell_type": "code",
   "execution_count": 912,
   "id": "61bc4422",
   "metadata": {
    "scrolled": false
   },
   "outputs": [
    {
     "data": {
      "text/html": [
       "<div>\n",
       "<style scoped>\n",
       "    .dataframe tbody tr th:only-of-type {\n",
       "        vertical-align: middle;\n",
       "    }\n",
       "\n",
       "    .dataframe tbody tr th {\n",
       "        vertical-align: top;\n",
       "    }\n",
       "\n",
       "    .dataframe thead th {\n",
       "        text-align: right;\n",
       "    }\n",
       "</style>\n",
       "<table border=\"1\" class=\"dataframe\">\n",
       "  <thead>\n",
       "    <tr style=\"text-align: right;\">\n",
       "      <th></th>\n",
       "      <th>index</th>\n",
       "      <th>longitude</th>\n",
       "      <th>latitude</th>\n",
       "      <th>housing_median_age</th>\n",
       "      <th>ocean_proximity_&lt;1H OCEAN</th>\n",
       "      <th>ocean_proximity_INLAND</th>\n",
       "      <th>ocean_proximity_ISLAND</th>\n",
       "      <th>ocean_proximity_NEAR BAY</th>\n",
       "      <th>ocean_proximity_NEAR OCEAN</th>\n",
       "      <th>median_house_value</th>\n",
       "      <th>total_bedrooms_log</th>\n",
       "      <th>median_income_log</th>\n",
       "      <th>population_log</th>\n",
       "      <th>room_per_households_log</th>\n",
       "    </tr>\n",
       "  </thead>\n",
       "  <tbody>\n",
       "    <tr>\n",
       "      <th>0</th>\n",
       "      <td>2072.0</td>\n",
       "      <td>-119.84</td>\n",
       "      <td>36.77</td>\n",
       "      <td>6.0</td>\n",
       "      <td>0.0</td>\n",
       "      <td>1.0</td>\n",
       "      <td>0.0</td>\n",
       "      <td>0.0</td>\n",
       "      <td>0.0</td>\n",
       "      <td>72000.0</td>\n",
       "      <td>6.159095</td>\n",
       "      <td>0.393190</td>\n",
       "      <td>7.242082</td>\n",
       "      <td>1.491475</td>\n",
       "    </tr>\n",
       "    <tr>\n",
       "      <th>1</th>\n",
       "      <td>10600.0</td>\n",
       "      <td>-117.80</td>\n",
       "      <td>33.68</td>\n",
       "      <td>8.0</td>\n",
       "      <td>1.0</td>\n",
       "      <td>0.0</td>\n",
       "      <td>0.0</td>\n",
       "      <td>0.0</td>\n",
       "      <td>0.0</td>\n",
       "      <td>274100.0</td>\n",
       "      <td>5.855072</td>\n",
       "      <td>1.933447</td>\n",
       "      <td>6.759255</td>\n",
       "      <td>1.787830</td>\n",
       "    </tr>\n",
       "    <tr>\n",
       "      <th>2</th>\n",
       "      <td>2494.0</td>\n",
       "      <td>-120.19</td>\n",
       "      <td>36.60</td>\n",
       "      <td>25.0</td>\n",
       "      <td>0.0</td>\n",
       "      <td>1.0</td>\n",
       "      <td>0.0</td>\n",
       "      <td>0.0</td>\n",
       "      <td>0.0</td>\n",
       "      <td>58300.0</td>\n",
       "      <td>5.365976</td>\n",
       "      <td>0.440575</td>\n",
       "      <td>6.836259</td>\n",
       "      <td>1.408248</td>\n",
       "    </tr>\n",
       "    <tr>\n",
       "      <th>3</th>\n",
       "      <td>4284.0</td>\n",
       "      <td>-118.32</td>\n",
       "      <td>34.10</td>\n",
       "      <td>31.0</td>\n",
       "      <td>1.0</td>\n",
       "      <td>0.0</td>\n",
       "      <td>0.0</td>\n",
       "      <td>0.0</td>\n",
       "      <td>0.0</td>\n",
       "      <td>200000.0</td>\n",
       "      <td>5.433722</td>\n",
       "      <td>0.424221</td>\n",
       "      <td>6.391917</td>\n",
       "      <td>1.007990</td>\n",
       "    </tr>\n",
       "    <tr>\n",
       "      <th>4</th>\n",
       "      <td>16541.0</td>\n",
       "      <td>-121.23</td>\n",
       "      <td>37.79</td>\n",
       "      <td>21.0</td>\n",
       "      <td>0.0</td>\n",
       "      <td>1.0</td>\n",
       "      <td>0.0</td>\n",
       "      <td>0.0</td>\n",
       "      <td>0.0</td>\n",
       "      <td>117900.0</td>\n",
       "      <td>5.921578</td>\n",
       "      <td>1.406465</td>\n",
       "      <td>7.029973</td>\n",
       "      <td>1.642228</td>\n",
       "    </tr>\n",
       "    <tr>\n",
       "      <th>...</th>\n",
       "      <td>...</td>\n",
       "      <td>...</td>\n",
       "      <td>...</td>\n",
       "      <td>...</td>\n",
       "      <td>...</td>\n",
       "      <td>...</td>\n",
       "      <td>...</td>\n",
       "      <td>...</td>\n",
       "      <td>...</td>\n",
       "      <td>...</td>\n",
       "      <td>...</td>\n",
       "      <td>...</td>\n",
       "      <td>...</td>\n",
       "      <td>...</td>\n",
       "    </tr>\n",
       "    <tr>\n",
       "      <th>16505</th>\n",
       "      <td>1099.0</td>\n",
       "      <td>-121.90</td>\n",
       "      <td>39.59</td>\n",
       "      <td>20.0</td>\n",
       "      <td>0.0</td>\n",
       "      <td>1.0</td>\n",
       "      <td>0.0</td>\n",
       "      <td>0.0</td>\n",
       "      <td>0.0</td>\n",
       "      <td>93800.0</td>\n",
       "      <td>5.627621</td>\n",
       "      <td>1.119232</td>\n",
       "      <td>6.613384</td>\n",
       "      <td>1.768150</td>\n",
       "    </tr>\n",
       "    <tr>\n",
       "      <th>16506</th>\n",
       "      <td>18898.0</td>\n",
       "      <td>-122.25</td>\n",
       "      <td>38.11</td>\n",
       "      <td>49.0</td>\n",
       "      <td>0.0</td>\n",
       "      <td>0.0</td>\n",
       "      <td>0.0</td>\n",
       "      <td>1.0</td>\n",
       "      <td>0.0</td>\n",
       "      <td>103100.0</td>\n",
       "      <td>6.222576</td>\n",
       "      <td>0.960614</td>\n",
       "      <td>7.030857</td>\n",
       "      <td>1.641664</td>\n",
       "    </tr>\n",
       "    <tr>\n",
       "      <th>16507</th>\n",
       "      <td>11798.0</td>\n",
       "      <td>-121.22</td>\n",
       "      <td>38.92</td>\n",
       "      <td>19.0</td>\n",
       "      <td>0.0</td>\n",
       "      <td>1.0</td>\n",
       "      <td>0.0</td>\n",
       "      <td>0.0</td>\n",
       "      <td>0.0</td>\n",
       "      <td>192600.0</td>\n",
       "      <td>6.133398</td>\n",
       "      <td>1.503144</td>\n",
       "      <td>7.095064</td>\n",
       "      <td>1.774913</td>\n",
       "    </tr>\n",
       "    <tr>\n",
       "      <th>16508</th>\n",
       "      <td>6637.0</td>\n",
       "      <td>-118.14</td>\n",
       "      <td>34.16</td>\n",
       "      <td>39.0</td>\n",
       "      <td>1.0</td>\n",
       "      <td>0.0</td>\n",
       "      <td>0.0</td>\n",
       "      <td>0.0</td>\n",
       "      <td>0.0</td>\n",
       "      <td>153500.0</td>\n",
       "      <td>6.733402</td>\n",
       "      <td>0.945850</td>\n",
       "      <td>7.842279</td>\n",
       "      <td>1.278487</td>\n",
       "    </tr>\n",
       "    <tr>\n",
       "      <th>16509</th>\n",
       "      <td>2575.0</td>\n",
       "      <td>-124.13</td>\n",
       "      <td>40.80</td>\n",
       "      <td>31.0</td>\n",
       "      <td>0.0</td>\n",
       "      <td>0.0</td>\n",
       "      <td>0.0</td>\n",
       "      <td>0.0</td>\n",
       "      <td>1.0</td>\n",
       "      <td>81100.0</td>\n",
       "      <td>6.135565</td>\n",
       "      <td>0.809952</td>\n",
       "      <td>7.138073</td>\n",
       "      <td>1.633898</td>\n",
       "    </tr>\n",
       "  </tbody>\n",
       "</table>\n",
       "<p>16510 rows × 14 columns</p>\n",
       "</div>"
      ],
      "text/plain": [
       "         index  longitude  latitude  housing_median_age  \\\n",
       "0       2072.0    -119.84     36.77                 6.0   \n",
       "1      10600.0    -117.80     33.68                 8.0   \n",
       "2       2494.0    -120.19     36.60                25.0   \n",
       "3       4284.0    -118.32     34.10                31.0   \n",
       "4      16541.0    -121.23     37.79                21.0   \n",
       "...        ...        ...       ...                 ...   \n",
       "16505   1099.0    -121.90     39.59                20.0   \n",
       "16506  18898.0    -122.25     38.11                49.0   \n",
       "16507  11798.0    -121.22     38.92                19.0   \n",
       "16508   6637.0    -118.14     34.16                39.0   \n",
       "16509   2575.0    -124.13     40.80                31.0   \n",
       "\n",
       "       ocean_proximity_<1H OCEAN  ocean_proximity_INLAND  \\\n",
       "0                            0.0                     1.0   \n",
       "1                            1.0                     0.0   \n",
       "2                            0.0                     1.0   \n",
       "3                            1.0                     0.0   \n",
       "4                            0.0                     1.0   \n",
       "...                          ...                     ...   \n",
       "16505                        0.0                     1.0   \n",
       "16506                        0.0                     0.0   \n",
       "16507                        0.0                     1.0   \n",
       "16508                        1.0                     0.0   \n",
       "16509                        0.0                     0.0   \n",
       "\n",
       "       ocean_proximity_ISLAND  ocean_proximity_NEAR BAY  \\\n",
       "0                         0.0                       0.0   \n",
       "1                         0.0                       0.0   \n",
       "2                         0.0                       0.0   \n",
       "3                         0.0                       0.0   \n",
       "4                         0.0                       0.0   \n",
       "...                       ...                       ...   \n",
       "16505                     0.0                       0.0   \n",
       "16506                     0.0                       1.0   \n",
       "16507                     0.0                       0.0   \n",
       "16508                     0.0                       0.0   \n",
       "16509                     0.0                       0.0   \n",
       "\n",
       "       ocean_proximity_NEAR OCEAN  median_house_value  total_bedrooms_log  \\\n",
       "0                             0.0             72000.0            6.159095   \n",
       "1                             0.0            274100.0            5.855072   \n",
       "2                             0.0             58300.0            5.365976   \n",
       "3                             0.0            200000.0            5.433722   \n",
       "4                             0.0            117900.0            5.921578   \n",
       "...                           ...                 ...                 ...   \n",
       "16505                         0.0             93800.0            5.627621   \n",
       "16506                         0.0            103100.0            6.222576   \n",
       "16507                         0.0            192600.0            6.133398   \n",
       "16508                         0.0            153500.0            6.733402   \n",
       "16509                         1.0             81100.0            6.135565   \n",
       "\n",
       "       median_income_log  population_log  room_per_households_log  \n",
       "0               0.393190        7.242082                 1.491475  \n",
       "1               1.933447        6.759255                 1.787830  \n",
       "2               0.440575        6.836259                 1.408248  \n",
       "3               0.424221        6.391917                 1.007990  \n",
       "4               1.406465        7.029973                 1.642228  \n",
       "...                  ...             ...                      ...  \n",
       "16505           1.119232        6.613384                 1.768150  \n",
       "16506           0.960614        7.030857                 1.641664  \n",
       "16507           1.503144        7.095064                 1.774913  \n",
       "16508           0.945850        7.842279                 1.278487  \n",
       "16509           0.809952        7.138073                 1.633898  \n",
       "\n",
       "[16510 rows x 14 columns]"
      ]
     },
     "execution_count": 912,
     "metadata": {},
     "output_type": "execute_result"
    }
   ],
   "source": [
    "immo_df14 = pd.read_csv(\"immo_iteration14.csv\")\n",
    "immo_df14"
   ]
  },
  {
   "cell_type": "code",
   "execution_count": 913,
   "id": "eca47a86",
   "metadata": {},
   "outputs": [
    {
     "data": {
      "text/plain": [
       "'y = immo_df14[\"median_house_value\"]\\nX = immo_df14.copy()'"
      ]
     },
     "execution_count": 913,
     "metadata": {},
     "output_type": "execute_result"
    }
   ],
   "source": [
    "'''y = immo_df14[\"median_house_value\"]\n",
    "X = immo_df14.copy()'''"
   ]
  },
  {
   "cell_type": "code",
   "execution_count": 914,
   "id": "9dfb828e",
   "metadata": {},
   "outputs": [
    {
     "data": {
      "text/plain": [
       "'X= X.drop(\"median_house_value\", axis=1)\\nX'"
      ]
     },
     "execution_count": 914,
     "metadata": {},
     "output_type": "execute_result"
    }
   ],
   "source": [
    "'''X= X.drop(\"median_house_value\", axis=1)\n",
    "X'''"
   ]
  },
  {
   "cell_type": "markdown",
   "id": "c5b09b4a",
   "metadata": {},
   "source": [
    "## Linear Regression"
   ]
  },
  {
   "cell_type": "code",
   "execution_count": 915,
   "id": "b3dce7c8",
   "metadata": {},
   "outputs": [
    {
     "data": {
      "text/plain": [
       "'X_train, X_test, y_train, y_test = train_test_split(X, y, test_size=.3, random_state=1)\\n\\nmodel = LinearRegression()\\n\\nmodel.fit(X_train, y_train)\\n\\nmodel.score(X_test, y_test)'"
      ]
     },
     "execution_count": 915,
     "metadata": {},
     "output_type": "execute_result"
    }
   ],
   "source": [
    "'''X_train, X_test, y_train, y_test = train_test_split(X, y, test_size=.3, random_state=1)\n",
    "\n",
    "model = LinearRegression()\n",
    "\n",
    "model.fit(X_train, y_train)\n",
    "\n",
    "model.score(X_test, y_test)'''"
   ]
  },
  {
   "cell_type": "code",
   "execution_count": 916,
   "id": "436aa941",
   "metadata": {},
   "outputs": [
    {
     "data": {
      "text/plain": [
       "'y_predicted = model.predict(X_test)'"
      ]
     },
     "execution_count": 916,
     "metadata": {},
     "output_type": "execute_result"
    }
   ],
   "source": [
    "'''y_predicted = model.predict(X_test)'''"
   ]
  },
  {
   "cell_type": "code",
   "execution_count": 917,
   "id": "facc3c47",
   "metadata": {},
   "outputs": [
    {
     "data": {
      "text/plain": [
       "\"fig, ax = plt.subplots()\\nax.scatter(y_predicted, y_test, edgecolors=(0, 0, 1))\\nax.plot([y_test.min(), y_test.max()], [y_test.min(), y_test.max()], 'r--', lw=3)\\nax.set_xlabel('Predicted')\\nax.set_ylabel('Actual')\\nplt.show()\""
      ]
     },
     "execution_count": 917,
     "metadata": {},
     "output_type": "execute_result"
    }
   ],
   "source": [
    "'''fig, ax = plt.subplots()\n",
    "ax.scatter(y_predicted, y_test, edgecolors=(0, 0, 1))\n",
    "ax.plot([y_test.min(), y_test.max()], [y_test.min(), y_test.max()], 'r--', lw=3)\n",
    "ax.set_xlabel('Predicted')\n",
    "ax.set_ylabel('Actual')\n",
    "plt.show()'''"
   ]
  },
  {
   "cell_type": "code",
   "execution_count": 918,
   "id": "7db997ba",
   "metadata": {
    "scrolled": false
   },
   "outputs": [
    {
     "data": {
      "text/plain": [
       "'mae = metrics.mean_absolute_error(y_test, y_predicted)\\nrmse = np.sqrt(metrics.mean_squared_error(y_test, y_predicted))\\nr2 = metrics.r2_score(y_test, y_predicted)\\n\\nprint(\"The model performance for testing set\")\\nprint(\"--------------------------------------\")\\nprint(\\'MAE is {}\\'.format(mae))\\nprint(\\'RMSE is {}\\'.format(rmse))\\nprint(\\'R2 score is {}\\'.format(r2))'"
      ]
     },
     "execution_count": 918,
     "metadata": {},
     "output_type": "execute_result"
    }
   ],
   "source": [
    "'''mae = metrics.mean_absolute_error(y_test, y_predicted)\n",
    "rmse = np.sqrt(metrics.mean_squared_error(y_test, y_predicted))\n",
    "r2 = metrics.r2_score(y_test, y_predicted)\n",
    "\n",
    "print(\"The model performance for testing set\")\n",
    "print(\"--------------------------------------\")\n",
    "print('MAE is {}'.format(mae))\n",
    "print('RMSE is {}'.format(rmse))\n",
    "print('R2 score is {}'.format(r2))'''"
   ]
  },
  {
   "cell_type": "markdown",
   "id": "228a9a55",
   "metadata": {},
   "source": [
    "## Cross validation"
   ]
  },
  {
   "cell_type": "code",
   "execution_count": 919,
   "id": "13286fc1",
   "metadata": {
    "scrolled": true
   },
   "outputs": [
    {
     "data": {
      "text/plain": [
       "'scores = cross_validate(model, X, y, cv=5, scoring=(\\'r2\\', \\'neg_root_mean_squared_error\\',\\'neg_mean_absolute_error\\'))\\n\\naverage_r2 = scores[\\'test_r2\\'].mean()\\naverage_rmse = -scores[\\'test_neg_root_mean_squared_error\\'].mean()\\naverage_mae = -scores[\\'test_neg_mean_absolute_error\\'].mean()\\nprint(\"The model performance for testing set\")\\nprint(\"--------------------------------------\")\\nprint(\\'Average MAE:\\', average_mae)\\nprint(\\' Average RMSE: \\', average_rmse)\\nprint(\"Average R2: \", average_r2)'"
      ]
     },
     "execution_count": 919,
     "metadata": {},
     "output_type": "execute_result"
    }
   ],
   "source": [
    "'''scores = cross_validate(model, X, y, cv=5, scoring=('r2', 'neg_root_mean_squared_error','neg_mean_absolute_error'))\n",
    "\n",
    "average_r2 = scores['test_r2'].mean()\n",
    "average_rmse = -scores['test_neg_root_mean_squared_error'].mean()\n",
    "average_mae = -scores['test_neg_mean_absolute_error'].mean()\n",
    "print(\"The model performance for testing set\")\n",
    "print(\"--------------------------------------\")\n",
    "print('Average MAE:', average_mae)\n",
    "print(' Average RMSE: ', average_rmse)\n",
    "print(\"Average R2: \", average_r2)'''\n"
   ]
  },
  {
   "cell_type": "markdown",
   "id": "aa4bc225",
   "metadata": {},
   "source": [
    "# 14 model de regression lineaire"
   ]
  },
  {
   "cell_type": "code",
   "execution_count": 920,
   "id": "0f367e84",
   "metadata": {
    "scrolled": false
   },
   "outputs": [
    {
     "data": {
      "text/html": [
       "<div>\n",
       "<style scoped>\n",
       "    .dataframe tbody tr th:only-of-type {\n",
       "        vertical-align: middle;\n",
       "    }\n",
       "\n",
       "    .dataframe tbody tr th {\n",
       "        vertical-align: top;\n",
       "    }\n",
       "\n",
       "    .dataframe thead th {\n",
       "        text-align: right;\n",
       "    }\n",
       "</style>\n",
       "<table border=\"1\" class=\"dataframe\">\n",
       "  <thead>\n",
       "    <tr style=\"text-align: right;\">\n",
       "      <th></th>\n",
       "      <th>index</th>\n",
       "      <th>longitude</th>\n",
       "      <th>latitude</th>\n",
       "      <th>housing_median_age</th>\n",
       "      <th>ocean_proximity_&lt;1H OCEAN</th>\n",
       "      <th>ocean_proximity_INLAND</th>\n",
       "      <th>ocean_proximity_ISLAND</th>\n",
       "      <th>ocean_proximity_NEAR BAY</th>\n",
       "      <th>ocean_proximity_NEAR OCEAN</th>\n",
       "      <th>total_bedrooms_log</th>\n",
       "      <th>median_income_log</th>\n",
       "      <th>population_log</th>\n",
       "      <th>room_per_households_log</th>\n",
       "      <th>median_house_value_log</th>\n",
       "    </tr>\n",
       "  </thead>\n",
       "  <tbody>\n",
       "    <tr>\n",
       "      <th>0</th>\n",
       "      <td>2072.0</td>\n",
       "      <td>-119.84</td>\n",
       "      <td>36.77</td>\n",
       "      <td>6.0</td>\n",
       "      <td>0.0</td>\n",
       "      <td>1.0</td>\n",
       "      <td>0.0</td>\n",
       "      <td>0.0</td>\n",
       "      <td>0.0</td>\n",
       "      <td>6.159095</td>\n",
       "      <td>0.393190</td>\n",
       "      <td>7.242082</td>\n",
       "      <td>1.491475</td>\n",
       "      <td>11.184421</td>\n",
       "    </tr>\n",
       "    <tr>\n",
       "      <th>1</th>\n",
       "      <td>10600.0</td>\n",
       "      <td>-117.80</td>\n",
       "      <td>33.68</td>\n",
       "      <td>8.0</td>\n",
       "      <td>1.0</td>\n",
       "      <td>0.0</td>\n",
       "      <td>0.0</td>\n",
       "      <td>0.0</td>\n",
       "      <td>0.0</td>\n",
       "      <td>5.855072</td>\n",
       "      <td>1.933447</td>\n",
       "      <td>6.759255</td>\n",
       "      <td>1.787830</td>\n",
       "      <td>12.521248</td>\n",
       "    </tr>\n",
       "    <tr>\n",
       "      <th>2</th>\n",
       "      <td>2494.0</td>\n",
       "      <td>-120.19</td>\n",
       "      <td>36.60</td>\n",
       "      <td>25.0</td>\n",
       "      <td>0.0</td>\n",
       "      <td>1.0</td>\n",
       "      <td>0.0</td>\n",
       "      <td>0.0</td>\n",
       "      <td>0.0</td>\n",
       "      <td>5.365976</td>\n",
       "      <td>0.440575</td>\n",
       "      <td>6.836259</td>\n",
       "      <td>1.408248</td>\n",
       "      <td>10.973357</td>\n",
       "    </tr>\n",
       "    <tr>\n",
       "      <th>3</th>\n",
       "      <td>4284.0</td>\n",
       "      <td>-118.32</td>\n",
       "      <td>34.10</td>\n",
       "      <td>31.0</td>\n",
       "      <td>1.0</td>\n",
       "      <td>0.0</td>\n",
       "      <td>0.0</td>\n",
       "      <td>0.0</td>\n",
       "      <td>0.0</td>\n",
       "      <td>5.433722</td>\n",
       "      <td>0.424221</td>\n",
       "      <td>6.391917</td>\n",
       "      <td>1.007990</td>\n",
       "      <td>12.206073</td>\n",
       "    </tr>\n",
       "    <tr>\n",
       "      <th>4</th>\n",
       "      <td>16541.0</td>\n",
       "      <td>-121.23</td>\n",
       "      <td>37.79</td>\n",
       "      <td>21.0</td>\n",
       "      <td>0.0</td>\n",
       "      <td>1.0</td>\n",
       "      <td>0.0</td>\n",
       "      <td>0.0</td>\n",
       "      <td>0.0</td>\n",
       "      <td>5.921578</td>\n",
       "      <td>1.406465</td>\n",
       "      <td>7.029973</td>\n",
       "      <td>1.642228</td>\n",
       "      <td>11.677592</td>\n",
       "    </tr>\n",
       "    <tr>\n",
       "      <th>...</th>\n",
       "      <td>...</td>\n",
       "      <td>...</td>\n",
       "      <td>...</td>\n",
       "      <td>...</td>\n",
       "      <td>...</td>\n",
       "      <td>...</td>\n",
       "      <td>...</td>\n",
       "      <td>...</td>\n",
       "      <td>...</td>\n",
       "      <td>...</td>\n",
       "      <td>...</td>\n",
       "      <td>...</td>\n",
       "      <td>...</td>\n",
       "      <td>...</td>\n",
       "    </tr>\n",
       "    <tr>\n",
       "      <th>16505</th>\n",
       "      <td>1099.0</td>\n",
       "      <td>-121.90</td>\n",
       "      <td>39.59</td>\n",
       "      <td>20.0</td>\n",
       "      <td>0.0</td>\n",
       "      <td>1.0</td>\n",
       "      <td>0.0</td>\n",
       "      <td>0.0</td>\n",
       "      <td>0.0</td>\n",
       "      <td>5.627621</td>\n",
       "      <td>1.119232</td>\n",
       "      <td>6.613384</td>\n",
       "      <td>1.768150</td>\n",
       "      <td>11.448920</td>\n",
       "    </tr>\n",
       "    <tr>\n",
       "      <th>16506</th>\n",
       "      <td>18898.0</td>\n",
       "      <td>-122.25</td>\n",
       "      <td>38.11</td>\n",
       "      <td>49.0</td>\n",
       "      <td>0.0</td>\n",
       "      <td>0.0</td>\n",
       "      <td>0.0</td>\n",
       "      <td>1.0</td>\n",
       "      <td>0.0</td>\n",
       "      <td>6.222576</td>\n",
       "      <td>0.960614</td>\n",
       "      <td>7.030857</td>\n",
       "      <td>1.641664</td>\n",
       "      <td>11.543455</td>\n",
       "    </tr>\n",
       "    <tr>\n",
       "      <th>16507</th>\n",
       "      <td>11798.0</td>\n",
       "      <td>-121.22</td>\n",
       "      <td>38.92</td>\n",
       "      <td>19.0</td>\n",
       "      <td>0.0</td>\n",
       "      <td>1.0</td>\n",
       "      <td>0.0</td>\n",
       "      <td>0.0</td>\n",
       "      <td>0.0</td>\n",
       "      <td>6.133398</td>\n",
       "      <td>1.503144</td>\n",
       "      <td>7.095064</td>\n",
       "      <td>1.774913</td>\n",
       "      <td>12.168371</td>\n",
       "    </tr>\n",
       "    <tr>\n",
       "      <th>16508</th>\n",
       "      <td>6637.0</td>\n",
       "      <td>-118.14</td>\n",
       "      <td>34.16</td>\n",
       "      <td>39.0</td>\n",
       "      <td>1.0</td>\n",
       "      <td>0.0</td>\n",
       "      <td>0.0</td>\n",
       "      <td>0.0</td>\n",
       "      <td>0.0</td>\n",
       "      <td>6.733402</td>\n",
       "      <td>0.945850</td>\n",
       "      <td>7.842279</td>\n",
       "      <td>1.278487</td>\n",
       "      <td>11.941456</td>\n",
       "    </tr>\n",
       "    <tr>\n",
       "      <th>16509</th>\n",
       "      <td>2575.0</td>\n",
       "      <td>-124.13</td>\n",
       "      <td>40.80</td>\n",
       "      <td>31.0</td>\n",
       "      <td>0.0</td>\n",
       "      <td>0.0</td>\n",
       "      <td>0.0</td>\n",
       "      <td>0.0</td>\n",
       "      <td>1.0</td>\n",
       "      <td>6.135565</td>\n",
       "      <td>0.809952</td>\n",
       "      <td>7.138073</td>\n",
       "      <td>1.633898</td>\n",
       "      <td>11.303438</td>\n",
       "    </tr>\n",
       "  </tbody>\n",
       "</table>\n",
       "<p>16510 rows × 14 columns</p>\n",
       "</div>"
      ],
      "text/plain": [
       "         index  longitude  latitude  housing_median_age  \\\n",
       "0       2072.0    -119.84     36.77                 6.0   \n",
       "1      10600.0    -117.80     33.68                 8.0   \n",
       "2       2494.0    -120.19     36.60                25.0   \n",
       "3       4284.0    -118.32     34.10                31.0   \n",
       "4      16541.0    -121.23     37.79                21.0   \n",
       "...        ...        ...       ...                 ...   \n",
       "16505   1099.0    -121.90     39.59                20.0   \n",
       "16506  18898.0    -122.25     38.11                49.0   \n",
       "16507  11798.0    -121.22     38.92                19.0   \n",
       "16508   6637.0    -118.14     34.16                39.0   \n",
       "16509   2575.0    -124.13     40.80                31.0   \n",
       "\n",
       "       ocean_proximity_<1H OCEAN  ocean_proximity_INLAND  \\\n",
       "0                            0.0                     1.0   \n",
       "1                            1.0                     0.0   \n",
       "2                            0.0                     1.0   \n",
       "3                            1.0                     0.0   \n",
       "4                            0.0                     1.0   \n",
       "...                          ...                     ...   \n",
       "16505                        0.0                     1.0   \n",
       "16506                        0.0                     0.0   \n",
       "16507                        0.0                     1.0   \n",
       "16508                        1.0                     0.0   \n",
       "16509                        0.0                     0.0   \n",
       "\n",
       "       ocean_proximity_ISLAND  ocean_proximity_NEAR BAY  \\\n",
       "0                         0.0                       0.0   \n",
       "1                         0.0                       0.0   \n",
       "2                         0.0                       0.0   \n",
       "3                         0.0                       0.0   \n",
       "4                         0.0                       0.0   \n",
       "...                       ...                       ...   \n",
       "16505                     0.0                       0.0   \n",
       "16506                     0.0                       1.0   \n",
       "16507                     0.0                       0.0   \n",
       "16508                     0.0                       0.0   \n",
       "16509                     0.0                       0.0   \n",
       "\n",
       "       ocean_proximity_NEAR OCEAN  total_bedrooms_log  median_income_log  \\\n",
       "0                             0.0            6.159095           0.393190   \n",
       "1                             0.0            5.855072           1.933447   \n",
       "2                             0.0            5.365976           0.440575   \n",
       "3                             0.0            5.433722           0.424221   \n",
       "4                             0.0            5.921578           1.406465   \n",
       "...                           ...                 ...                ...   \n",
       "16505                         0.0            5.627621           1.119232   \n",
       "16506                         0.0            6.222576           0.960614   \n",
       "16507                         0.0            6.133398           1.503144   \n",
       "16508                         0.0            6.733402           0.945850   \n",
       "16509                         1.0            6.135565           0.809952   \n",
       "\n",
       "       population_log  room_per_households_log  median_house_value_log  \n",
       "0            7.242082                 1.491475               11.184421  \n",
       "1            6.759255                 1.787830               12.521248  \n",
       "2            6.836259                 1.408248               10.973357  \n",
       "3            6.391917                 1.007990               12.206073  \n",
       "4            7.029973                 1.642228               11.677592  \n",
       "...               ...                      ...                     ...  \n",
       "16505        6.613384                 1.768150               11.448920  \n",
       "16506        7.030857                 1.641664               11.543455  \n",
       "16507        7.095064                 1.774913               12.168371  \n",
       "16508        7.842279                 1.278487               11.941456  \n",
       "16509        7.138073                 1.633898               11.303438  \n",
       "\n",
       "[16510 rows x 14 columns]"
      ]
     },
     "execution_count": 920,
     "metadata": {},
     "output_type": "execute_result"
    }
   ],
   "source": [
    "immo_df15 = pd.read_csv(\"immo_iteration15.csv\")\n",
    "immo_df15"
   ]
  },
  {
   "cell_type": "code",
   "execution_count": 921,
   "id": "646cd269",
   "metadata": {},
   "outputs": [],
   "source": [
    "y = immo_df15[\"median_house_value_log\"]\n",
    "X = immo_df15.copy()"
   ]
  },
  {
   "cell_type": "code",
   "execution_count": 922,
   "id": "d5975bed",
   "metadata": {},
   "outputs": [
    {
     "data": {
      "text/html": [
       "<div>\n",
       "<style scoped>\n",
       "    .dataframe tbody tr th:only-of-type {\n",
       "        vertical-align: middle;\n",
       "    }\n",
       "\n",
       "    .dataframe tbody tr th {\n",
       "        vertical-align: top;\n",
       "    }\n",
       "\n",
       "    .dataframe thead th {\n",
       "        text-align: right;\n",
       "    }\n",
       "</style>\n",
       "<table border=\"1\" class=\"dataframe\">\n",
       "  <thead>\n",
       "    <tr style=\"text-align: right;\">\n",
       "      <th></th>\n",
       "      <th>index</th>\n",
       "      <th>longitude</th>\n",
       "      <th>latitude</th>\n",
       "      <th>housing_median_age</th>\n",
       "      <th>ocean_proximity_&lt;1H OCEAN</th>\n",
       "      <th>ocean_proximity_INLAND</th>\n",
       "      <th>ocean_proximity_ISLAND</th>\n",
       "      <th>ocean_proximity_NEAR BAY</th>\n",
       "      <th>ocean_proximity_NEAR OCEAN</th>\n",
       "      <th>total_bedrooms_log</th>\n",
       "      <th>median_income_log</th>\n",
       "      <th>population_log</th>\n",
       "      <th>room_per_households_log</th>\n",
       "    </tr>\n",
       "  </thead>\n",
       "  <tbody>\n",
       "    <tr>\n",
       "      <th>0</th>\n",
       "      <td>2072.0</td>\n",
       "      <td>-119.84</td>\n",
       "      <td>36.77</td>\n",
       "      <td>6.0</td>\n",
       "      <td>0.0</td>\n",
       "      <td>1.0</td>\n",
       "      <td>0.0</td>\n",
       "      <td>0.0</td>\n",
       "      <td>0.0</td>\n",
       "      <td>6.159095</td>\n",
       "      <td>0.393190</td>\n",
       "      <td>7.242082</td>\n",
       "      <td>1.491475</td>\n",
       "    </tr>\n",
       "    <tr>\n",
       "      <th>1</th>\n",
       "      <td>10600.0</td>\n",
       "      <td>-117.80</td>\n",
       "      <td>33.68</td>\n",
       "      <td>8.0</td>\n",
       "      <td>1.0</td>\n",
       "      <td>0.0</td>\n",
       "      <td>0.0</td>\n",
       "      <td>0.0</td>\n",
       "      <td>0.0</td>\n",
       "      <td>5.855072</td>\n",
       "      <td>1.933447</td>\n",
       "      <td>6.759255</td>\n",
       "      <td>1.787830</td>\n",
       "    </tr>\n",
       "    <tr>\n",
       "      <th>2</th>\n",
       "      <td>2494.0</td>\n",
       "      <td>-120.19</td>\n",
       "      <td>36.60</td>\n",
       "      <td>25.0</td>\n",
       "      <td>0.0</td>\n",
       "      <td>1.0</td>\n",
       "      <td>0.0</td>\n",
       "      <td>0.0</td>\n",
       "      <td>0.0</td>\n",
       "      <td>5.365976</td>\n",
       "      <td>0.440575</td>\n",
       "      <td>6.836259</td>\n",
       "      <td>1.408248</td>\n",
       "    </tr>\n",
       "    <tr>\n",
       "      <th>3</th>\n",
       "      <td>4284.0</td>\n",
       "      <td>-118.32</td>\n",
       "      <td>34.10</td>\n",
       "      <td>31.0</td>\n",
       "      <td>1.0</td>\n",
       "      <td>0.0</td>\n",
       "      <td>0.0</td>\n",
       "      <td>0.0</td>\n",
       "      <td>0.0</td>\n",
       "      <td>5.433722</td>\n",
       "      <td>0.424221</td>\n",
       "      <td>6.391917</td>\n",
       "      <td>1.007990</td>\n",
       "    </tr>\n",
       "    <tr>\n",
       "      <th>4</th>\n",
       "      <td>16541.0</td>\n",
       "      <td>-121.23</td>\n",
       "      <td>37.79</td>\n",
       "      <td>21.0</td>\n",
       "      <td>0.0</td>\n",
       "      <td>1.0</td>\n",
       "      <td>0.0</td>\n",
       "      <td>0.0</td>\n",
       "      <td>0.0</td>\n",
       "      <td>5.921578</td>\n",
       "      <td>1.406465</td>\n",
       "      <td>7.029973</td>\n",
       "      <td>1.642228</td>\n",
       "    </tr>\n",
       "    <tr>\n",
       "      <th>...</th>\n",
       "      <td>...</td>\n",
       "      <td>...</td>\n",
       "      <td>...</td>\n",
       "      <td>...</td>\n",
       "      <td>...</td>\n",
       "      <td>...</td>\n",
       "      <td>...</td>\n",
       "      <td>...</td>\n",
       "      <td>...</td>\n",
       "      <td>...</td>\n",
       "      <td>...</td>\n",
       "      <td>...</td>\n",
       "      <td>...</td>\n",
       "    </tr>\n",
       "    <tr>\n",
       "      <th>16505</th>\n",
       "      <td>1099.0</td>\n",
       "      <td>-121.90</td>\n",
       "      <td>39.59</td>\n",
       "      <td>20.0</td>\n",
       "      <td>0.0</td>\n",
       "      <td>1.0</td>\n",
       "      <td>0.0</td>\n",
       "      <td>0.0</td>\n",
       "      <td>0.0</td>\n",
       "      <td>5.627621</td>\n",
       "      <td>1.119232</td>\n",
       "      <td>6.613384</td>\n",
       "      <td>1.768150</td>\n",
       "    </tr>\n",
       "    <tr>\n",
       "      <th>16506</th>\n",
       "      <td>18898.0</td>\n",
       "      <td>-122.25</td>\n",
       "      <td>38.11</td>\n",
       "      <td>49.0</td>\n",
       "      <td>0.0</td>\n",
       "      <td>0.0</td>\n",
       "      <td>0.0</td>\n",
       "      <td>1.0</td>\n",
       "      <td>0.0</td>\n",
       "      <td>6.222576</td>\n",
       "      <td>0.960614</td>\n",
       "      <td>7.030857</td>\n",
       "      <td>1.641664</td>\n",
       "    </tr>\n",
       "    <tr>\n",
       "      <th>16507</th>\n",
       "      <td>11798.0</td>\n",
       "      <td>-121.22</td>\n",
       "      <td>38.92</td>\n",
       "      <td>19.0</td>\n",
       "      <td>0.0</td>\n",
       "      <td>1.0</td>\n",
       "      <td>0.0</td>\n",
       "      <td>0.0</td>\n",
       "      <td>0.0</td>\n",
       "      <td>6.133398</td>\n",
       "      <td>1.503144</td>\n",
       "      <td>7.095064</td>\n",
       "      <td>1.774913</td>\n",
       "    </tr>\n",
       "    <tr>\n",
       "      <th>16508</th>\n",
       "      <td>6637.0</td>\n",
       "      <td>-118.14</td>\n",
       "      <td>34.16</td>\n",
       "      <td>39.0</td>\n",
       "      <td>1.0</td>\n",
       "      <td>0.0</td>\n",
       "      <td>0.0</td>\n",
       "      <td>0.0</td>\n",
       "      <td>0.0</td>\n",
       "      <td>6.733402</td>\n",
       "      <td>0.945850</td>\n",
       "      <td>7.842279</td>\n",
       "      <td>1.278487</td>\n",
       "    </tr>\n",
       "    <tr>\n",
       "      <th>16509</th>\n",
       "      <td>2575.0</td>\n",
       "      <td>-124.13</td>\n",
       "      <td>40.80</td>\n",
       "      <td>31.0</td>\n",
       "      <td>0.0</td>\n",
       "      <td>0.0</td>\n",
       "      <td>0.0</td>\n",
       "      <td>0.0</td>\n",
       "      <td>1.0</td>\n",
       "      <td>6.135565</td>\n",
       "      <td>0.809952</td>\n",
       "      <td>7.138073</td>\n",
       "      <td>1.633898</td>\n",
       "    </tr>\n",
       "  </tbody>\n",
       "</table>\n",
       "<p>16510 rows × 13 columns</p>\n",
       "</div>"
      ],
      "text/plain": [
       "         index  longitude  latitude  housing_median_age  \\\n",
       "0       2072.0    -119.84     36.77                 6.0   \n",
       "1      10600.0    -117.80     33.68                 8.0   \n",
       "2       2494.0    -120.19     36.60                25.0   \n",
       "3       4284.0    -118.32     34.10                31.0   \n",
       "4      16541.0    -121.23     37.79                21.0   \n",
       "...        ...        ...       ...                 ...   \n",
       "16505   1099.0    -121.90     39.59                20.0   \n",
       "16506  18898.0    -122.25     38.11                49.0   \n",
       "16507  11798.0    -121.22     38.92                19.0   \n",
       "16508   6637.0    -118.14     34.16                39.0   \n",
       "16509   2575.0    -124.13     40.80                31.0   \n",
       "\n",
       "       ocean_proximity_<1H OCEAN  ocean_proximity_INLAND  \\\n",
       "0                            0.0                     1.0   \n",
       "1                            1.0                     0.0   \n",
       "2                            0.0                     1.0   \n",
       "3                            1.0                     0.0   \n",
       "4                            0.0                     1.0   \n",
       "...                          ...                     ...   \n",
       "16505                        0.0                     1.0   \n",
       "16506                        0.0                     0.0   \n",
       "16507                        0.0                     1.0   \n",
       "16508                        1.0                     0.0   \n",
       "16509                        0.0                     0.0   \n",
       "\n",
       "       ocean_proximity_ISLAND  ocean_proximity_NEAR BAY  \\\n",
       "0                         0.0                       0.0   \n",
       "1                         0.0                       0.0   \n",
       "2                         0.0                       0.0   \n",
       "3                         0.0                       0.0   \n",
       "4                         0.0                       0.0   \n",
       "...                       ...                       ...   \n",
       "16505                     0.0                       0.0   \n",
       "16506                     0.0                       1.0   \n",
       "16507                     0.0                       0.0   \n",
       "16508                     0.0                       0.0   \n",
       "16509                     0.0                       0.0   \n",
       "\n",
       "       ocean_proximity_NEAR OCEAN  total_bedrooms_log  median_income_log  \\\n",
       "0                             0.0            6.159095           0.393190   \n",
       "1                             0.0            5.855072           1.933447   \n",
       "2                             0.0            5.365976           0.440575   \n",
       "3                             0.0            5.433722           0.424221   \n",
       "4                             0.0            5.921578           1.406465   \n",
       "...                           ...                 ...                ...   \n",
       "16505                         0.0            5.627621           1.119232   \n",
       "16506                         0.0            6.222576           0.960614   \n",
       "16507                         0.0            6.133398           1.503144   \n",
       "16508                         0.0            6.733402           0.945850   \n",
       "16509                         1.0            6.135565           0.809952   \n",
       "\n",
       "       population_log  room_per_households_log  \n",
       "0            7.242082                 1.491475  \n",
       "1            6.759255                 1.787830  \n",
       "2            6.836259                 1.408248  \n",
       "3            6.391917                 1.007990  \n",
       "4            7.029973                 1.642228  \n",
       "...               ...                      ...  \n",
       "16505        6.613384                 1.768150  \n",
       "16506        7.030857                 1.641664  \n",
       "16507        7.095064                 1.774913  \n",
       "16508        7.842279                 1.278487  \n",
       "16509        7.138073                 1.633898  \n",
       "\n",
       "[16510 rows x 13 columns]"
      ]
     },
     "execution_count": 922,
     "metadata": {},
     "output_type": "execute_result"
    }
   ],
   "source": [
    "X= X.drop(\"median_house_value_log\", axis=1)\n",
    "X"
   ]
  },
  {
   "cell_type": "markdown",
   "id": "8e2188d5",
   "metadata": {},
   "source": [
    "## Linear Regression"
   ]
  },
  {
   "cell_type": "code",
   "execution_count": 923,
   "id": "7c754c48",
   "metadata": {},
   "outputs": [
    {
     "data": {
      "text/plain": [
       "'model.score(X_test, y_test)'"
      ]
     },
     "execution_count": 923,
     "metadata": {},
     "output_type": "execute_result"
    }
   ],
   "source": [
    "X_train, X_test, y_train, y_test = train_test_split(X, y, test_size=.3, random_state=1)\n",
    "\n",
    "model = LinearRegression()\n",
    "\n",
    "model.fit(X_train, y_train)\n",
    "\n",
    "'''model.score(X_test, y_test)'''"
   ]
  },
  {
   "cell_type": "code",
   "execution_count": 924,
   "id": "bdd1b3a8",
   "metadata": {},
   "outputs": [
    {
     "data": {
      "text/plain": [
       "'y_predicted_log = model.predict(X_test)'"
      ]
     },
     "execution_count": 924,
     "metadata": {},
     "output_type": "execute_result"
    }
   ],
   "source": [
    "'''y_predicted_log = model.predict(X_test)'''"
   ]
  },
  {
   "cell_type": "code",
   "execution_count": 925,
   "id": "e080257d",
   "metadata": {},
   "outputs": [
    {
     "data": {
      "text/plain": [
       "\"fig, ax = plt.subplots()\\nax.scatter(y_predicted_log, y_test, edgecolors=(0, 0, 1))\\nax.plot([y_test.min(), y_test.max()], [y_test.min(), y_test.max()], 'r--', lw=3)\\nax.set_xlabel('Predicted')\\nax.set_ylabel('Actual')\\nplt.show()\""
      ]
     },
     "execution_count": 925,
     "metadata": {},
     "output_type": "execute_result"
    }
   ],
   "source": [
    "'''fig, ax = plt.subplots()\n",
    "ax.scatter(y_predicted_log, y_test, edgecolors=(0, 0, 1))\n",
    "ax.plot([y_test.min(), y_test.max()], [y_test.min(), y_test.max()], 'r--', lw=3)\n",
    "ax.set_xlabel('Predicted')\n",
    "ax.set_ylabel('Actual')\n",
    "plt.show()'''"
   ]
  },
  {
   "cell_type": "code",
   "execution_count": 926,
   "id": "c6de940c",
   "metadata": {
    "scrolled": false
   },
   "outputs": [
    {
     "data": {
      "text/plain": [
       "'r2 = metrics.r2_score(y_test, y_predicted_log)\\n\\nprint(\"The model performance for testing set\")\\nprint(\"--------------------------------------\")\\nprint(\\'R2 score is {}\\'.format(r2))'"
      ]
     },
     "execution_count": 926,
     "metadata": {},
     "output_type": "execute_result"
    }
   ],
   "source": [
    "'''r2 = metrics.r2_score(y_test, y_predicted_log)\n",
    "\n",
    "print(\"The model performance for testing set\")\n",
    "print(\"--------------------------------------\")\n",
    "print('R2 score is {}'.format(r2))'''"
   ]
  },
  {
   "cell_type": "markdown",
   "id": "c3723828",
   "metadata": {},
   "source": [
    "## Cross validation"
   ]
  },
  {
   "cell_type": "code",
   "execution_count": 927,
   "id": "e7967c2a",
   "metadata": {},
   "outputs": [
    {
     "name": "stdout",
     "output_type": "stream",
     "text": [
      "The model performance for testing set\n",
      "--------------------------------------\n",
      "Average MAE: 45768.771066657246\n",
      " Average RMSE:  65877.24193007796\n",
      "Average R2:  0.6942661036699983\n"
     ]
    }
   ],
   "source": [
    "from sklearn.metrics import mean_squared_error\n",
    "from sklearn.metrics import mean_absolute_error\n",
    "\n",
    "scores = cross_validate(model, X, y, cv=5)\n",
    "predictions = model.predict(X)\n",
    "predictions_original_scale = np.exp(predictions)\n",
    "y_original_scale = np.exp(y)\n",
    "\n",
    "average_r2_real=scores['test_score'].mean()\n",
    "rmse_real = np.sqrt(mean_squared_error(y_original_scale, predictions_original_scale))\n",
    "mae_real = mean_absolute_error(y_original_scale, predictions_original_scale)\n",
    "\n",
    "print(\"The model performance for testing set\")\n",
    "print(\"--------------------------------------\")\n",
    "print('Average MAE:', mae_real)\n",
    "print(' Average RMSE: ', rmse_real)\n",
    "print(\"Average R2: \", average_r2_real)"
   ]
  },
  {
   "cell_type": "markdown",
   "id": "58b6189d",
   "metadata": {},
   "source": []
  },
  {
   "cell_type": "code",
   "execution_count": 928,
   "id": "5d66c682",
   "metadata": {},
   "outputs": [],
   "source": [
    "# save the model to disk\n",
    "filename = 'linear_regression.pkl'\n",
    "pickle.dump(model, open(filename, 'wb'))"
   ]
  },
  {
   "cell_type": "code",
   "execution_count": null,
   "id": "fc67d2fe",
   "metadata": {},
   "outputs": [],
   "source": []
  }
 ],
 "metadata": {
  "kernelspec": {
   "display_name": "Python 3 (ipykernel)",
   "language": "python",
   "name": "python3"
  },
  "language_info": {
   "codemirror_mode": {
    "name": "ipython",
    "version": 3
   },
   "file_extension": ".py",
   "mimetype": "text/x-python",
   "name": "python",
   "nbconvert_exporter": "python",
   "pygments_lexer": "ipython3",
   "version": "3.8.12"
  },
  "toc": {
   "base_numbering": 1,
   "nav_menu": {},
   "number_sections": true,
   "sideBar": true,
   "skip_h1_title": false,
   "title_cell": "Table of Contents",
   "title_sidebar": "Contents",
   "toc_cell": false,
   "toc_position": {
    "height": "calc(100% - 180px)",
    "left": "10px",
    "top": "150px",
    "width": "255.458px"
   },
   "toc_section_display": true,
   "toc_window_display": true
  }
 },
 "nbformat": 4,
 "nbformat_minor": 5
}
