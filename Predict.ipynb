{
 "cells": [
  {
   "cell_type": "markdown",
   "id": "a4dc18f8",
   "metadata": {},
   "source": [
    " #  Import et Nettoyage des données Projet Immo"
   ]
  },
  {
   "cell_type": "code",
   "execution_count": null,
   "id": "25e06421",
   "metadata": {},
   "outputs": [],
   "source": [
    "import numpy as np\n",
    "import pandas as pd\n",
    "import matplotlib.pyplot as plt\n",
    "from sklearn.preprocessing import OneHotEncoder\n",
    "from sklearn.experimental import enable_iterative_imputer\n",
    "from sklearn.impute import IterativeImputer\n",
    "from sklearn import linear_model\n",
    "import pickle\n",
    "from sklearn.model_selection import cross_validate\n",
    "from sklearn.model_selection import cross_val_score\n",
    "from sklearn.model_selection import cross_val_predict\n"
   ]
  },
  {
   "cell_type": "markdown",
   "id": "9e483884",
   "metadata": {},
   "source": [
    "Import du csv"
   ]
  },
  {
   "cell_type": "code",
   "execution_count": null,
   "id": "e7d151ef",
   "metadata": {},
   "outputs": [],
   "source": [
    "immo_df = pd.read_csv(\".csv\", delimiter=\",\")\n",
    "immo_df"
   ]
  },
  {
   "cell_type": "code",
   "execution_count": null,
   "id": "6fb5ffca",
   "metadata": {},
   "outputs": [],
   "source": [
    "immo_df.rename(columns = {'Unnamed: 0':'index'}, inplace = True)\n",
    "immo_df"
   ]
  },
  {
   "cell_type": "markdown",
   "id": "fc0c7bcc",
   "metadata": {},
   "source": [
    "encodage ocean proximity"
   ]
  },
  {
   "cell_type": "code",
   "execution_count": null,
   "id": "3706639f",
   "metadata": {
    "scrolled": true
   },
   "outputs": [],
   "source": [
    "enc = OneHotEncoder(sparse=False).fit(immo_df[[\"ocean_proximity\"]])\n",
    "encoded = enc.transform(immo_df[[\"ocean_proximity\"]])\n",
    "encoded_df = pd.DataFrame(encoded, columns=enc.get_feature_names_out())\n",
    "immo_df2 = immo_df.join(encoded_df)\n",
    "immo_df2"
   ]
  },
  {
   "cell_type": "code",
   "execution_count": null,
   "id": "b13d9df8",
   "metadata": {},
   "outputs": [],
   "source": [
    "immo_df2=immo_df2.drop(\"ocean_proximity\", axis=1)"
   ]
  },
  {
   "cell_type": "markdown",
   "id": "c9d4625f",
   "metadata": {},
   "source": [
    "Gestion des valeurs manquante"
   ]
  },
  {
   "cell_type": "code",
   "execution_count": null,
   "id": "bde8dd37",
   "metadata": {},
   "outputs": [],
   "source": [
    "\n",
    "if immo_df2.isnull().values.any()== True:\n",
    "\n",
    "    # Imputing with MICE\n",
    "    df_mice = immo_df2.filter(['index','longitude','latitude','housing_median_age','total_rooms','total_bedrooms','population','households','median_income','ocean_proximity_<1H OCEAN','ocean_proximity_INLAND','ocean_proximity_ISLAND','ocean_proximity_NEAR BAY','ocean_proximity_NEAR OCEAN','median_house_value'], axis=1).copy()\n",
    "\n",
    "    # Define MICE Imputer and fill missing values\n",
    "    mice_imputer = IterativeImputer(estimator=linear_model.BayesianRidge(), n_nearest_features=None, imputation_order='ascending')\n",
    "\n",
    "    df_mice_imputed = pd.DataFrame(mice_imputer.fit_transform(df_mice), columns=df_mice.columns)\n",
    "    \n",
    "df3 = df_mice_imputed.copy()\n"
   ]
  },
  {
   "cell_type": "markdown",
   "id": "aa5abec8",
   "metadata": {},
   "source": [
    "\"Gestion des outliers\""
   ]
  },
  {
   "cell_type": "code",
   "execution_count": null,
   "id": "fec5b504",
   "metadata": {},
   "outputs": [],
   "source": [
    "immo_df3=df3.loc[df3['population']<28565.0]"
   ]
  },
  {
   "cell_type": "markdown",
   "id": "a02b3207",
   "metadata": {},
   "source": [
    "Creation de la variable room_per_households"
   ]
  },
  {
   "cell_type": "code",
   "execution_count": null,
   "id": "043185b6",
   "metadata": {},
   "outputs": [],
   "source": [
    "immo_df4 = immo_df3.copy()\n",
    "immo_df4['room_per_households']= immo_df4['total_rooms']/immo_df4['households']"
   ]
  },
  {
   "cell_type": "code",
   "execution_count": null,
   "id": "6911f25a",
   "metadata": {},
   "outputs": [],
   "source": [
    "immo_df4=immo_df4.drop(\"total_rooms\", axis=1)"
   ]
  },
  {
   "cell_type": "code",
   "execution_count": null,
   "id": "a1359b8d",
   "metadata": {},
   "outputs": [],
   "source": [
    "immo_df4=immo_df4.drop(\"households\", axis=1)"
   ]
  },
  {
   "cell_type": "markdown",
   "id": "5c0eba1b",
   "metadata": {},
   "source": [
    "scale avec le log"
   ]
  },
  {
   "cell_type": "code",
   "execution_count": null,
   "id": "d4ce9d79",
   "metadata": {
    "scrolled": true
   },
   "outputs": [],
   "source": [
    "immo_df5=immo_df4.copy()\n",
    "liste = ['total_bedrooms','population','room_per_households','median_income', 'median_house_value']\n",
    "for index, i in enumerate(liste):\n",
    "    immo_df5[F'{i}_log'] = np.log(np.absolute(immo_df5[i]))\n",
    "    immo_df5=immo_df5.drop(i, axis=1)"
   ]
  },
  {
   "cell_type": "code",
   "execution_count": null,
   "id": "02c3b499",
   "metadata": {},
   "outputs": [],
   "source": [
    "y = immo_df5[\"median_house_value_log\"]\n",
    "X = immo_df5.copy()"
   ]
  },
  {
   "cell_type": "code",
   "execution_count": null,
   "id": "d613e554",
   "metadata": {},
   "outputs": [],
   "source": [
    "X= X.drop(\"median_house_value_log\", axis=1)\n",
    "X\n"
   ]
  },
  {
   "cell_type": "code",
   "execution_count": null,
   "id": "4b711526",
   "metadata": {},
   "outputs": [],
   "source": [
    "pickled_model = pickle.load(open('linear_regression.pkl', 'rb'))\n",
    "pickled_model"
   ]
  },
  {
   "cell_type": "code",
   "execution_count": null,
   "id": "283ea6bf",
   "metadata": {},
   "outputs": [],
   "source": [
    "from sklearn.metrics import mean_squared_error\n",
    "from sklearn.metrics import mean_absolute_error\n",
    "\n",
    "scores = cross_validate(pickled_model, X, y, cv=5)\n",
    "predictions = pickled_model.predict(X)\n",
    "predictions_original_scale = np.exp(predictions)\n",
    "y_original_scale = np.exp(y)\n",
    "\n"
   ]
  },
  {
   "cell_type": "code",
   "execution_count": null,
   "id": "cdd33b85",
   "metadata": {},
   "outputs": [],
   "source": [
    "average_r2_real=scores['test_score'].mean()\n",
    "rmse_real = np.sqrt(mean_squared_error(y_original_scale, predictions_original_scale))\n",
    "mae_real = mean_absolute_error(y_original_scale, predictions_original_scale)\n",
    "\n",
    "print(\"The model performance for testing set\")\n",
    "print(\"--------------------------------------\")\n",
    "print('Average MAE:', mae_real)\n",
    "print(' Average RMSE: ', rmse_real)\n",
    "print(\"Average R2: \", average_r2_real)"
   ]
  }
 ],
 "metadata": {
  "kernelspec": {
   "display_name": "Python 3 (ipykernel)",
   "language": "python",
   "name": "python3"
  },
  "language_info": {
   "codemirror_mode": {
    "name": "ipython",
    "version": 3
   },
   "file_extension": ".py",
   "mimetype": "text/x-python",
   "name": "python",
   "nbconvert_exporter": "python",
   "pygments_lexer": "ipython3",
   "version": "3.8.12"
  },
  "toc": {
   "base_numbering": 1,
   "nav_menu": {},
   "number_sections": true,
   "sideBar": true,
   "skip_h1_title": false,
   "title_cell": "Table of Contents",
   "title_sidebar": "Contents",
   "toc_cell": false,
   "toc_position": {},
   "toc_section_display": true,
   "toc_window_display": false
  }
 },
 "nbformat": 4,
 "nbformat_minor": 5
}
